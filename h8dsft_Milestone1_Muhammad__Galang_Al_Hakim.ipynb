{
  "nbformat": 4,
  "nbformat_minor": 0,
  "metadata": {
    "colab": {
      "provenance": [],
      "collapsed_sections": [
        "QPsgPafpn48m"
      ]
    },
    "kernelspec": {
      "name": "python3",
      "display_name": "Python 3"
    },
    "language_info": {
      "name": "python"
    }
  },
  "cells": [
    {
      "cell_type": "markdown",
      "source": [
        "###MILESTONE 1"
      ],
      "metadata": {
        "id": "HqQFUIjdCCis"
      }
    },
    {
      "cell_type": "markdown",
      "source": [
        "**Muhammad Galang Al-Hakim**"
      ],
      "metadata": {
        "id": "rDyANCPXCFds"
      }
    },
    {
      "cell_type": "markdown",
      "source": [
        "**Batch 004**"
      ],
      "metadata": {
        "id": "oEIhqHeiCOdL"
      }
    },
    {
      "cell_type": "markdown",
      "source": [
        "**DATASET AND TABLEU LINK**\n",
        "1.   https://www.kaggle.com/datasets/debajyotipodder/co2-emission-by-vehicles\n",
        "2.   https://public.tableau.com/app/profile/muhammad.galang.al.hakim/viz/Milestone_Dashboard1/Dashboard1?publish=yes\n",
        "3.   https://public.tableau.com/app/profile/muhammad.galang.al.hakim/viz/Milestone_Dashboard2/Dashboard2?publish=yes\n"
      ],
      "metadata": {
        "id": "8niJJkU0NZcJ"
      }
    },
    {
      "cell_type": "markdown",
      "source": [
        "###BACKGORUND"
      ],
      "metadata": {
        "id": "3ZL3Uyv02ewE"
      }
    },
    {
      "cell_type": "markdown",
      "source": [
        "**Transportasi merupakan penyumbang emisi gas rumah kaca yang signifikan di Kanada. Menurut Pemerintah Kanada, sektor transportasi menyumbang sekitar 25% dari total emisi gas rumah kaca Kanada, dengan kendaraan di jalan raya menjadi sumber emisi terbesar di sektor transportasi.\n",
        "Karbon dioksida (CO2) adalah gas rumah kaca utama yang dipancarkan oleh kendaraan, dan dilepaskan ke atmosfer saat bahan bakar fosil dibakar untuk transportasi. Ini termasuk bensin dan solar yang digunakan oleh mobil, truk, bus, dan kendaraan lainnya.**"
      ],
      "metadata": {
        "id": "c5oeGKzY2iry"
      }
    },
    {
      "cell_type": "markdown",
      "source": [
        "###PROBLEM STATEMENT"
      ],
      "metadata": {
        "id": "u17ij6tyhk61"
      }
    },
    {
      "cell_type": "markdown",
      "source": [
        "**Mengidentifikasi emisi karbon dari kendaraan di Canada dan untuk menganalisis rata-ratanya berdasarkan jenis kendaraan, tipe bahan bakar, dan konsumsi bahan bakar penggunaan di jalanan kota, tol dan kombinasi keduanya**"
      ],
      "metadata": {
        "id": "ZKEZeBtTh0hG"
      }
    },
    {
      "cell_type": "markdown",
      "source": [
        "###POIN PENJABARAN MASALAH"
      ],
      "metadata": {
        "id": "zbtgQJ8cHwEW"
      }
    },
    {
      "cell_type": "markdown",
      "source": [
        "*   Bagaimana distribusi emisi gas karbon berdasarkan kelas kendaraannya?\n",
        "*   Berapa rata-rata konsumsi tertinggi penggunaan bahan bakar pada jalanan kota berdasarkan kelas kendaraan?\n",
        "*   Berapa rata-rata konsumsi tertinggi penggunaan bahan bakar pada jalan tol berdasarkan kelas kendaraan?\n",
        "*   Berapa rata-rata konsumsi tertinggi penggunaan bahan bakar yang dikombinasi berdasarkan kelas kendaraan?\n",
        "*   Berapa rata-rata emisi gas karbon yang dihasilkan berdasarkan jenis bahan bakar?\n",
        "*   (STATISTIK DESKRIPTIF) Berdasarkan kelas kendaraan dengan jumlah emisi gas karbon tertinggi  dan rata-rata keseluruhan, bagaimana distribusi nilainya?\n",
        "*   (STATISTIK INFERENSIAL) Bagaimana emisi gas karbon kelas kendaraan tertentu dibandingkan dengan emisi gas karbon keseluruhan kelas kendaraan?\n",
        "\n",
        "\n",
        "\n"
      ],
      "metadata": {
        "id": "UNxlif2ci1Sf"
      }
    },
    {
      "cell_type": "markdown",
      "source": [
        "###WORKING AREA"
      ],
      "metadata": {
        "id": "NvRR52TIgbAH"
      }
    },
    {
      "cell_type": "markdown",
      "source": [
        "**IMPORT LIBRARY**"
      ],
      "metadata": {
        "id": "j77xMk4PCR1b"
      }
    },
    {
      "cell_type": "markdown",
      "source": [
        "**Import library yang digunakan untuk analisis data**"
      ],
      "metadata": {
        "id": "WKk2CDz_ghju"
      }
    },
    {
      "cell_type": "code",
      "execution_count": null,
      "metadata": {
        "id": "CDh0c9qe-bNt"
      },
      "outputs": [],
      "source": [
        "import pandas as pd\n",
        "import numpy as np\n",
        "import seaborn as sns\n",
        "import scipy.stats as stats\n",
        "from scipy.stats import skew\n",
        "import matplotlib.pyplot as plt\n",
        "import matplotlib.image as mpimg"
      ]
    },
    {
      "cell_type": "markdown",
      "source": [
        "###DATA LOADING"
      ],
      "metadata": {
        "id": "JY-j_fy6GKkD"
      }
    },
    {
      "cell_type": "markdown",
      "source": [
        "**Pada sesi ini kita akan mengulik data yang simpel untuk memahami isi data**"
      ],
      "metadata": {
        "id": "cHXKm9UnGQfL"
      }
    },
    {
      "cell_type": "code",
      "source": [
        "carbon = pd.read_csv('/content/CO2 Emissions_Canada.csv')\n",
        "carbon"
      ],
      "metadata": {
        "id": "PcEOIKkv-gAR",
        "colab": {
          "base_uri": "https://localhost:8080/",
          "height": 589
        },
        "outputId": "e7f2ba3b-8920-41a0-d6eb-73150862dfbd"
      },
      "execution_count": null,
      "outputs": [
        {
          "output_type": "execute_result",
          "data": {
            "text/plain": [
              "       Make        Model   Vehicle Class  Engine Size(L)  Cylinders  \\\n",
              "0     ACURA          ILX         COMPACT             2.0          4   \n",
              "1     ACURA          ILX         COMPACT             2.4          4   \n",
              "2     ACURA   ILX HYBRID         COMPACT             1.5          4   \n",
              "3     ACURA      MDX 4WD     SUV - SMALL             3.5          6   \n",
              "4     ACURA      RDX AWD     SUV - SMALL             3.5          6   \n",
              "...     ...          ...             ...             ...        ...   \n",
              "7380  VOLVO  XC40 T5 AWD     SUV - SMALL             2.0          4   \n",
              "7381  VOLVO  XC60 T5 AWD     SUV - SMALL             2.0          4   \n",
              "7382  VOLVO  XC60 T6 AWD     SUV - SMALL             2.0          4   \n",
              "7383  VOLVO  XC90 T5 AWD  SUV - STANDARD             2.0          4   \n",
              "7384  VOLVO  XC90 T6 AWD  SUV - STANDARD             2.0          4   \n",
              "\n",
              "     Transmission Fuel Type  Fuel Consumption City (L/100 km)  \\\n",
              "0             AS5         Z                               9.9   \n",
              "1              M6         Z                              11.2   \n",
              "2             AV7         Z                               6.0   \n",
              "3             AS6         Z                              12.7   \n",
              "4             AS6         Z                              12.1   \n",
              "...           ...       ...                               ...   \n",
              "7380          AS8         Z                              10.7   \n",
              "7381          AS8         Z                              11.2   \n",
              "7382          AS8         Z                              11.7   \n",
              "7383          AS8         Z                              11.2   \n",
              "7384          AS8         Z                              12.2   \n",
              "\n",
              "      Fuel Consumption Hwy (L/100 km)  Fuel Consumption Comb (L/100 km)  \\\n",
              "0                                 6.7                               8.5   \n",
              "1                                 7.7                               9.6   \n",
              "2                                 5.8                               5.9   \n",
              "3                                 9.1                              11.1   \n",
              "4                                 8.7                              10.6   \n",
              "...                               ...                               ...   \n",
              "7380                              7.7                               9.4   \n",
              "7381                              8.3                               9.9   \n",
              "7382                              8.6                              10.3   \n",
              "7383                              8.3                               9.9   \n",
              "7384                              8.7                              10.7   \n",
              "\n",
              "      Fuel Consumption Comb (mpg)  CO2 Emissions(g/km)  \n",
              "0                              33                  196  \n",
              "1                              29                  221  \n",
              "2                              48                  136  \n",
              "3                              25                  255  \n",
              "4                              27                  244  \n",
              "...                           ...                  ...  \n",
              "7380                           30                  219  \n",
              "7381                           29                  232  \n",
              "7382                           27                  240  \n",
              "7383                           29                  232  \n",
              "7384                           26                  248  \n",
              "\n",
              "[7385 rows x 12 columns]"
            ],
            "text/html": [
              "\n",
              "  <div id=\"df-93a859e2-81c1-4b90-a2a9-8b7e1fda6fd4\">\n",
              "    <div class=\"colab-df-container\">\n",
              "      <div>\n",
              "<style scoped>\n",
              "    .dataframe tbody tr th:only-of-type {\n",
              "        vertical-align: middle;\n",
              "    }\n",
              "\n",
              "    .dataframe tbody tr th {\n",
              "        vertical-align: top;\n",
              "    }\n",
              "\n",
              "    .dataframe thead th {\n",
              "        text-align: right;\n",
              "    }\n",
              "</style>\n",
              "<table border=\"1\" class=\"dataframe\">\n",
              "  <thead>\n",
              "    <tr style=\"text-align: right;\">\n",
              "      <th></th>\n",
              "      <th>Make</th>\n",
              "      <th>Model</th>\n",
              "      <th>Vehicle Class</th>\n",
              "      <th>Engine Size(L)</th>\n",
              "      <th>Cylinders</th>\n",
              "      <th>Transmission</th>\n",
              "      <th>Fuel Type</th>\n",
              "      <th>Fuel Consumption City (L/100 km)</th>\n",
              "      <th>Fuel Consumption Hwy (L/100 km)</th>\n",
              "      <th>Fuel Consumption Comb (L/100 km)</th>\n",
              "      <th>Fuel Consumption Comb (mpg)</th>\n",
              "      <th>CO2 Emissions(g/km)</th>\n",
              "    </tr>\n",
              "  </thead>\n",
              "  <tbody>\n",
              "    <tr>\n",
              "      <th>0</th>\n",
              "      <td>ACURA</td>\n",
              "      <td>ILX</td>\n",
              "      <td>COMPACT</td>\n",
              "      <td>2.0</td>\n",
              "      <td>4</td>\n",
              "      <td>AS5</td>\n",
              "      <td>Z</td>\n",
              "      <td>9.9</td>\n",
              "      <td>6.7</td>\n",
              "      <td>8.5</td>\n",
              "      <td>33</td>\n",
              "      <td>196</td>\n",
              "    </tr>\n",
              "    <tr>\n",
              "      <th>1</th>\n",
              "      <td>ACURA</td>\n",
              "      <td>ILX</td>\n",
              "      <td>COMPACT</td>\n",
              "      <td>2.4</td>\n",
              "      <td>4</td>\n",
              "      <td>M6</td>\n",
              "      <td>Z</td>\n",
              "      <td>11.2</td>\n",
              "      <td>7.7</td>\n",
              "      <td>9.6</td>\n",
              "      <td>29</td>\n",
              "      <td>221</td>\n",
              "    </tr>\n",
              "    <tr>\n",
              "      <th>2</th>\n",
              "      <td>ACURA</td>\n",
              "      <td>ILX HYBRID</td>\n",
              "      <td>COMPACT</td>\n",
              "      <td>1.5</td>\n",
              "      <td>4</td>\n",
              "      <td>AV7</td>\n",
              "      <td>Z</td>\n",
              "      <td>6.0</td>\n",
              "      <td>5.8</td>\n",
              "      <td>5.9</td>\n",
              "      <td>48</td>\n",
              "      <td>136</td>\n",
              "    </tr>\n",
              "    <tr>\n",
              "      <th>3</th>\n",
              "      <td>ACURA</td>\n",
              "      <td>MDX 4WD</td>\n",
              "      <td>SUV - SMALL</td>\n",
              "      <td>3.5</td>\n",
              "      <td>6</td>\n",
              "      <td>AS6</td>\n",
              "      <td>Z</td>\n",
              "      <td>12.7</td>\n",
              "      <td>9.1</td>\n",
              "      <td>11.1</td>\n",
              "      <td>25</td>\n",
              "      <td>255</td>\n",
              "    </tr>\n",
              "    <tr>\n",
              "      <th>4</th>\n",
              "      <td>ACURA</td>\n",
              "      <td>RDX AWD</td>\n",
              "      <td>SUV - SMALL</td>\n",
              "      <td>3.5</td>\n",
              "      <td>6</td>\n",
              "      <td>AS6</td>\n",
              "      <td>Z</td>\n",
              "      <td>12.1</td>\n",
              "      <td>8.7</td>\n",
              "      <td>10.6</td>\n",
              "      <td>27</td>\n",
              "      <td>244</td>\n",
              "    </tr>\n",
              "    <tr>\n",
              "      <th>...</th>\n",
              "      <td>...</td>\n",
              "      <td>...</td>\n",
              "      <td>...</td>\n",
              "      <td>...</td>\n",
              "      <td>...</td>\n",
              "      <td>...</td>\n",
              "      <td>...</td>\n",
              "      <td>...</td>\n",
              "      <td>...</td>\n",
              "      <td>...</td>\n",
              "      <td>...</td>\n",
              "      <td>...</td>\n",
              "    </tr>\n",
              "    <tr>\n",
              "      <th>7380</th>\n",
              "      <td>VOLVO</td>\n",
              "      <td>XC40 T5 AWD</td>\n",
              "      <td>SUV - SMALL</td>\n",
              "      <td>2.0</td>\n",
              "      <td>4</td>\n",
              "      <td>AS8</td>\n",
              "      <td>Z</td>\n",
              "      <td>10.7</td>\n",
              "      <td>7.7</td>\n",
              "      <td>9.4</td>\n",
              "      <td>30</td>\n",
              "      <td>219</td>\n",
              "    </tr>\n",
              "    <tr>\n",
              "      <th>7381</th>\n",
              "      <td>VOLVO</td>\n",
              "      <td>XC60 T5 AWD</td>\n",
              "      <td>SUV - SMALL</td>\n",
              "      <td>2.0</td>\n",
              "      <td>4</td>\n",
              "      <td>AS8</td>\n",
              "      <td>Z</td>\n",
              "      <td>11.2</td>\n",
              "      <td>8.3</td>\n",
              "      <td>9.9</td>\n",
              "      <td>29</td>\n",
              "      <td>232</td>\n",
              "    </tr>\n",
              "    <tr>\n",
              "      <th>7382</th>\n",
              "      <td>VOLVO</td>\n",
              "      <td>XC60 T6 AWD</td>\n",
              "      <td>SUV - SMALL</td>\n",
              "      <td>2.0</td>\n",
              "      <td>4</td>\n",
              "      <td>AS8</td>\n",
              "      <td>Z</td>\n",
              "      <td>11.7</td>\n",
              "      <td>8.6</td>\n",
              "      <td>10.3</td>\n",
              "      <td>27</td>\n",
              "      <td>240</td>\n",
              "    </tr>\n",
              "    <tr>\n",
              "      <th>7383</th>\n",
              "      <td>VOLVO</td>\n",
              "      <td>XC90 T5 AWD</td>\n",
              "      <td>SUV - STANDARD</td>\n",
              "      <td>2.0</td>\n",
              "      <td>4</td>\n",
              "      <td>AS8</td>\n",
              "      <td>Z</td>\n",
              "      <td>11.2</td>\n",
              "      <td>8.3</td>\n",
              "      <td>9.9</td>\n",
              "      <td>29</td>\n",
              "      <td>232</td>\n",
              "    </tr>\n",
              "    <tr>\n",
              "      <th>7384</th>\n",
              "      <td>VOLVO</td>\n",
              "      <td>XC90 T6 AWD</td>\n",
              "      <td>SUV - STANDARD</td>\n",
              "      <td>2.0</td>\n",
              "      <td>4</td>\n",
              "      <td>AS8</td>\n",
              "      <td>Z</td>\n",
              "      <td>12.2</td>\n",
              "      <td>8.7</td>\n",
              "      <td>10.7</td>\n",
              "      <td>26</td>\n",
              "      <td>248</td>\n",
              "    </tr>\n",
              "  </tbody>\n",
              "</table>\n",
              "<p>7385 rows × 12 columns</p>\n",
              "</div>\n",
              "      <button class=\"colab-df-convert\" onclick=\"convertToInteractive('df-93a859e2-81c1-4b90-a2a9-8b7e1fda6fd4')\"\n",
              "              title=\"Convert this dataframe to an interactive table.\"\n",
              "              style=\"display:none;\">\n",
              "        \n",
              "  <svg xmlns=\"http://www.w3.org/2000/svg\" height=\"24px\"viewBox=\"0 0 24 24\"\n",
              "       width=\"24px\">\n",
              "    <path d=\"M0 0h24v24H0V0z\" fill=\"none\"/>\n",
              "    <path d=\"M18.56 5.44l.94 2.06.94-2.06 2.06-.94-2.06-.94-.94-2.06-.94 2.06-2.06.94zm-11 1L8.5 8.5l.94-2.06 2.06-.94-2.06-.94L8.5 2.5l-.94 2.06-2.06.94zm10 10l.94 2.06.94-2.06 2.06-.94-2.06-.94-.94-2.06-.94 2.06-2.06.94z\"/><path d=\"M17.41 7.96l-1.37-1.37c-.4-.4-.92-.59-1.43-.59-.52 0-1.04.2-1.43.59L10.3 9.45l-7.72 7.72c-.78.78-.78 2.05 0 2.83L4 21.41c.39.39.9.59 1.41.59.51 0 1.02-.2 1.41-.59l7.78-7.78 2.81-2.81c.8-.78.8-2.07 0-2.86zM5.41 20L4 18.59l7.72-7.72 1.47 1.35L5.41 20z\"/>\n",
              "  </svg>\n",
              "      </button>\n",
              "      \n",
              "  <style>\n",
              "    .colab-df-container {\n",
              "      display:flex;\n",
              "      flex-wrap:wrap;\n",
              "      gap: 12px;\n",
              "    }\n",
              "\n",
              "    .colab-df-convert {\n",
              "      background-color: #E8F0FE;\n",
              "      border: none;\n",
              "      border-radius: 50%;\n",
              "      cursor: pointer;\n",
              "      display: none;\n",
              "      fill: #1967D2;\n",
              "      height: 32px;\n",
              "      padding: 0 0 0 0;\n",
              "      width: 32px;\n",
              "    }\n",
              "\n",
              "    .colab-df-convert:hover {\n",
              "      background-color: #E2EBFA;\n",
              "      box-shadow: 0px 1px 2px rgba(60, 64, 67, 0.3), 0px 1px 3px 1px rgba(60, 64, 67, 0.15);\n",
              "      fill: #174EA6;\n",
              "    }\n",
              "\n",
              "    [theme=dark] .colab-df-convert {\n",
              "      background-color: #3B4455;\n",
              "      fill: #D2E3FC;\n",
              "    }\n",
              "\n",
              "    [theme=dark] .colab-df-convert:hover {\n",
              "      background-color: #434B5C;\n",
              "      box-shadow: 0px 1px 3px 1px rgba(0, 0, 0, 0.15);\n",
              "      filter: drop-shadow(0px 1px 2px rgba(0, 0, 0, 0.3));\n",
              "      fill: #FFFFFF;\n",
              "    }\n",
              "  </style>\n",
              "\n",
              "      <script>\n",
              "        const buttonEl =\n",
              "          document.querySelector('#df-93a859e2-81c1-4b90-a2a9-8b7e1fda6fd4 button.colab-df-convert');\n",
              "        buttonEl.style.display =\n",
              "          google.colab.kernel.accessAllowed ? 'block' : 'none';\n",
              "\n",
              "        async function convertToInteractive(key) {\n",
              "          const element = document.querySelector('#df-93a859e2-81c1-4b90-a2a9-8b7e1fda6fd4');\n",
              "          const dataTable =\n",
              "            await google.colab.kernel.invokeFunction('convertToInteractive',\n",
              "                                                     [key], {});\n",
              "          if (!dataTable) return;\n",
              "\n",
              "          const docLinkHtml = 'Like what you see? Visit the ' +\n",
              "            '<a target=\"_blank\" href=https://colab.research.google.com/notebooks/data_table.ipynb>data table notebook</a>'\n",
              "            + ' to learn more about interactive tables.';\n",
              "          element.innerHTML = '';\n",
              "          dataTable['output_type'] = 'display_data';\n",
              "          await google.colab.output.renderOutput(dataTable, element);\n",
              "          const docLink = document.createElement('div');\n",
              "          docLink.innerHTML = docLinkHtml;\n",
              "          element.appendChild(docLink);\n",
              "        }\n",
              "      </script>\n",
              "    </div>\n",
              "  </div>\n",
              "  "
            ]
          },
          "metadata": {},
          "execution_count": 154
        }
      ]
    },
    {
      "cell_type": "code",
      "source": [
        "carbon.shape"
      ],
      "metadata": {
        "id": "M1ALzUa4hUrN",
        "colab": {
          "base_uri": "https://localhost:8080/"
        },
        "outputId": "6541ec4c-0887-4a42-c512-468f6f54ea79"
      },
      "execution_count": null,
      "outputs": [
        {
          "output_type": "execute_result",
          "data": {
            "text/plain": [
              "(7385, 12)"
            ]
          },
          "metadata": {},
          "execution_count": 155
        }
      ]
    },
    {
      "cell_type": "markdown",
      "source": [
        "Data ini memiliki 7385 baris dan 12 kolom"
      ],
      "metadata": {
        "id": "T745M1INnLOp"
      }
    },
    {
      "cell_type": "markdown",
      "source": [
        "Memeriksa nilai deskriptif menggunakan .info() :"
      ],
      "metadata": {
        "id": "prDe3tV8npyH"
      }
    },
    {
      "cell_type": "code",
      "source": [
        "carbon.info()"
      ],
      "metadata": {
        "id": "N65ZUw4r-sXu",
        "colab": {
          "base_uri": "https://localhost:8080/"
        },
        "outputId": "1023839e-b26f-4033-aada-209fc1bcb3b5"
      },
      "execution_count": null,
      "outputs": [
        {
          "output_type": "stream",
          "name": "stdout",
          "text": [
            "<class 'pandas.core.frame.DataFrame'>\n",
            "RangeIndex: 7385 entries, 0 to 7384\n",
            "Data columns (total 12 columns):\n",
            " #   Column                            Non-Null Count  Dtype  \n",
            "---  ------                            --------------  -----  \n",
            " 0   Make                              7385 non-null   object \n",
            " 1   Model                             7385 non-null   object \n",
            " 2   Vehicle Class                     7385 non-null   object \n",
            " 3   Engine Size(L)                    7385 non-null   float64\n",
            " 4   Cylinders                         7385 non-null   int64  \n",
            " 5   Transmission                      7385 non-null   object \n",
            " 6   Fuel Type                         7385 non-null   object \n",
            " 7   Fuel Consumption City (L/100 km)  7385 non-null   float64\n",
            " 8   Fuel Consumption Hwy (L/100 km)   7385 non-null   float64\n",
            " 9   Fuel Consumption Comb (L/100 km)  7385 non-null   float64\n",
            " 10  Fuel Consumption Comb (mpg)       7385 non-null   int64  \n",
            " 11  CO2 Emissions(g/km)               7385 non-null   int64  \n",
            "dtypes: float64(4), int64(3), object(5)\n",
            "memory usage: 692.5+ KB\n"
          ]
        }
      ]
    },
    {
      "cell_type": "code",
      "source": [
        "carbon.describe()"
      ],
      "metadata": {
        "id": "PBYCdqcB-veI",
        "colab": {
          "base_uri": "https://localhost:8080/",
          "height": 361
        },
        "outputId": "6e7afd9a-c169-48a7-8752-b4397a4d7670"
      },
      "execution_count": null,
      "outputs": [
        {
          "output_type": "execute_result",
          "data": {
            "text/plain": [
              "       Engine Size(L)    Cylinders  Fuel Consumption City (L/100 km)  \\\n",
              "count     7385.000000  7385.000000                       7385.000000   \n",
              "mean         3.160068     5.615030                         12.556534   \n",
              "std          1.354170     1.828307                          3.500274   \n",
              "min          0.900000     3.000000                          4.200000   \n",
              "25%          2.000000     4.000000                         10.100000   \n",
              "50%          3.000000     6.000000                         12.100000   \n",
              "75%          3.700000     6.000000                         14.600000   \n",
              "max          8.400000    16.000000                         30.600000   \n",
              "\n",
              "       Fuel Consumption Hwy (L/100 km)  Fuel Consumption Comb (L/100 km)  \\\n",
              "count                      7385.000000                       7385.000000   \n",
              "mean                          9.041706                         10.975071   \n",
              "std                           2.224456                          2.892506   \n",
              "min                           4.000000                          4.100000   \n",
              "25%                           7.500000                          8.900000   \n",
              "50%                           8.700000                         10.600000   \n",
              "75%                          10.200000                         12.600000   \n",
              "max                          20.600000                         26.100000   \n",
              "\n",
              "       Fuel Consumption Comb (mpg)  CO2 Emissions(g/km)  \n",
              "count                  7385.000000          7385.000000  \n",
              "mean                     27.481652           250.584699  \n",
              "std                       7.231879            58.512679  \n",
              "min                      11.000000            96.000000  \n",
              "25%                      22.000000           208.000000  \n",
              "50%                      27.000000           246.000000  \n",
              "75%                      32.000000           288.000000  \n",
              "max                      69.000000           522.000000  "
            ],
            "text/html": [
              "\n",
              "  <div id=\"df-ac89637c-864d-4284-bf36-1794d2d0bf30\">\n",
              "    <div class=\"colab-df-container\">\n",
              "      <div>\n",
              "<style scoped>\n",
              "    .dataframe tbody tr th:only-of-type {\n",
              "        vertical-align: middle;\n",
              "    }\n",
              "\n",
              "    .dataframe tbody tr th {\n",
              "        vertical-align: top;\n",
              "    }\n",
              "\n",
              "    .dataframe thead th {\n",
              "        text-align: right;\n",
              "    }\n",
              "</style>\n",
              "<table border=\"1\" class=\"dataframe\">\n",
              "  <thead>\n",
              "    <tr style=\"text-align: right;\">\n",
              "      <th></th>\n",
              "      <th>Engine Size(L)</th>\n",
              "      <th>Cylinders</th>\n",
              "      <th>Fuel Consumption City (L/100 km)</th>\n",
              "      <th>Fuel Consumption Hwy (L/100 km)</th>\n",
              "      <th>Fuel Consumption Comb (L/100 km)</th>\n",
              "      <th>Fuel Consumption Comb (mpg)</th>\n",
              "      <th>CO2 Emissions(g/km)</th>\n",
              "    </tr>\n",
              "  </thead>\n",
              "  <tbody>\n",
              "    <tr>\n",
              "      <th>count</th>\n",
              "      <td>7385.000000</td>\n",
              "      <td>7385.000000</td>\n",
              "      <td>7385.000000</td>\n",
              "      <td>7385.000000</td>\n",
              "      <td>7385.000000</td>\n",
              "      <td>7385.000000</td>\n",
              "      <td>7385.000000</td>\n",
              "    </tr>\n",
              "    <tr>\n",
              "      <th>mean</th>\n",
              "      <td>3.160068</td>\n",
              "      <td>5.615030</td>\n",
              "      <td>12.556534</td>\n",
              "      <td>9.041706</td>\n",
              "      <td>10.975071</td>\n",
              "      <td>27.481652</td>\n",
              "      <td>250.584699</td>\n",
              "    </tr>\n",
              "    <tr>\n",
              "      <th>std</th>\n",
              "      <td>1.354170</td>\n",
              "      <td>1.828307</td>\n",
              "      <td>3.500274</td>\n",
              "      <td>2.224456</td>\n",
              "      <td>2.892506</td>\n",
              "      <td>7.231879</td>\n",
              "      <td>58.512679</td>\n",
              "    </tr>\n",
              "    <tr>\n",
              "      <th>min</th>\n",
              "      <td>0.900000</td>\n",
              "      <td>3.000000</td>\n",
              "      <td>4.200000</td>\n",
              "      <td>4.000000</td>\n",
              "      <td>4.100000</td>\n",
              "      <td>11.000000</td>\n",
              "      <td>96.000000</td>\n",
              "    </tr>\n",
              "    <tr>\n",
              "      <th>25%</th>\n",
              "      <td>2.000000</td>\n",
              "      <td>4.000000</td>\n",
              "      <td>10.100000</td>\n",
              "      <td>7.500000</td>\n",
              "      <td>8.900000</td>\n",
              "      <td>22.000000</td>\n",
              "      <td>208.000000</td>\n",
              "    </tr>\n",
              "    <tr>\n",
              "      <th>50%</th>\n",
              "      <td>3.000000</td>\n",
              "      <td>6.000000</td>\n",
              "      <td>12.100000</td>\n",
              "      <td>8.700000</td>\n",
              "      <td>10.600000</td>\n",
              "      <td>27.000000</td>\n",
              "      <td>246.000000</td>\n",
              "    </tr>\n",
              "    <tr>\n",
              "      <th>75%</th>\n",
              "      <td>3.700000</td>\n",
              "      <td>6.000000</td>\n",
              "      <td>14.600000</td>\n",
              "      <td>10.200000</td>\n",
              "      <td>12.600000</td>\n",
              "      <td>32.000000</td>\n",
              "      <td>288.000000</td>\n",
              "    </tr>\n",
              "    <tr>\n",
              "      <th>max</th>\n",
              "      <td>8.400000</td>\n",
              "      <td>16.000000</td>\n",
              "      <td>30.600000</td>\n",
              "      <td>20.600000</td>\n",
              "      <td>26.100000</td>\n",
              "      <td>69.000000</td>\n",
              "      <td>522.000000</td>\n",
              "    </tr>\n",
              "  </tbody>\n",
              "</table>\n",
              "</div>\n",
              "      <button class=\"colab-df-convert\" onclick=\"convertToInteractive('df-ac89637c-864d-4284-bf36-1794d2d0bf30')\"\n",
              "              title=\"Convert this dataframe to an interactive table.\"\n",
              "              style=\"display:none;\">\n",
              "        \n",
              "  <svg xmlns=\"http://www.w3.org/2000/svg\" height=\"24px\"viewBox=\"0 0 24 24\"\n",
              "       width=\"24px\">\n",
              "    <path d=\"M0 0h24v24H0V0z\" fill=\"none\"/>\n",
              "    <path d=\"M18.56 5.44l.94 2.06.94-2.06 2.06-.94-2.06-.94-.94-2.06-.94 2.06-2.06.94zm-11 1L8.5 8.5l.94-2.06 2.06-.94-2.06-.94L8.5 2.5l-.94 2.06-2.06.94zm10 10l.94 2.06.94-2.06 2.06-.94-2.06-.94-.94-2.06-.94 2.06-2.06.94z\"/><path d=\"M17.41 7.96l-1.37-1.37c-.4-.4-.92-.59-1.43-.59-.52 0-1.04.2-1.43.59L10.3 9.45l-7.72 7.72c-.78.78-.78 2.05 0 2.83L4 21.41c.39.39.9.59 1.41.59.51 0 1.02-.2 1.41-.59l7.78-7.78 2.81-2.81c.8-.78.8-2.07 0-2.86zM5.41 20L4 18.59l7.72-7.72 1.47 1.35L5.41 20z\"/>\n",
              "  </svg>\n",
              "      </button>\n",
              "      \n",
              "  <style>\n",
              "    .colab-df-container {\n",
              "      display:flex;\n",
              "      flex-wrap:wrap;\n",
              "      gap: 12px;\n",
              "    }\n",
              "\n",
              "    .colab-df-convert {\n",
              "      background-color: #E8F0FE;\n",
              "      border: none;\n",
              "      border-radius: 50%;\n",
              "      cursor: pointer;\n",
              "      display: none;\n",
              "      fill: #1967D2;\n",
              "      height: 32px;\n",
              "      padding: 0 0 0 0;\n",
              "      width: 32px;\n",
              "    }\n",
              "\n",
              "    .colab-df-convert:hover {\n",
              "      background-color: #E2EBFA;\n",
              "      box-shadow: 0px 1px 2px rgba(60, 64, 67, 0.3), 0px 1px 3px 1px rgba(60, 64, 67, 0.15);\n",
              "      fill: #174EA6;\n",
              "    }\n",
              "\n",
              "    [theme=dark] .colab-df-convert {\n",
              "      background-color: #3B4455;\n",
              "      fill: #D2E3FC;\n",
              "    }\n",
              "\n",
              "    [theme=dark] .colab-df-convert:hover {\n",
              "      background-color: #434B5C;\n",
              "      box-shadow: 0px 1px 3px 1px rgba(0, 0, 0, 0.15);\n",
              "      filter: drop-shadow(0px 1px 2px rgba(0, 0, 0, 0.3));\n",
              "      fill: #FFFFFF;\n",
              "    }\n",
              "  </style>\n",
              "\n",
              "      <script>\n",
              "        const buttonEl =\n",
              "          document.querySelector('#df-ac89637c-864d-4284-bf36-1794d2d0bf30 button.colab-df-convert');\n",
              "        buttonEl.style.display =\n",
              "          google.colab.kernel.accessAllowed ? 'block' : 'none';\n",
              "\n",
              "        async function convertToInteractive(key) {\n",
              "          const element = document.querySelector('#df-ac89637c-864d-4284-bf36-1794d2d0bf30');\n",
              "          const dataTable =\n",
              "            await google.colab.kernel.invokeFunction('convertToInteractive',\n",
              "                                                     [key], {});\n",
              "          if (!dataTable) return;\n",
              "\n",
              "          const docLinkHtml = 'Like what you see? Visit the ' +\n",
              "            '<a target=\"_blank\" href=https://colab.research.google.com/notebooks/data_table.ipynb>data table notebook</a>'\n",
              "            + ' to learn more about interactive tables.';\n",
              "          element.innerHTML = '';\n",
              "          dataTable['output_type'] = 'display_data';\n",
              "          await google.colab.output.renderOutput(dataTable, element);\n",
              "          const docLink = document.createElement('div');\n",
              "          docLink.innerHTML = docLinkHtml;\n",
              "          element.appendChild(docLink);\n",
              "        }\n",
              "      </script>\n",
              "    </div>\n",
              "  </div>\n",
              "  "
            ]
          },
          "metadata": {},
          "execution_count": 157
        }
      ]
    },
    {
      "cell_type": "markdown",
      "source": [
        "Memeriksa apakah ada nilai yang hilang dalam kumpulan data yang diperoleh"
      ],
      "metadata": {
        "id": "pTK9MBLSn0pv"
      }
    },
    {
      "cell_type": "code",
      "source": [
        "carbon.isna().sum()"
      ],
      "metadata": {
        "id": "zQld2I_V-4Tn",
        "colab": {
          "base_uri": "https://localhost:8080/"
        },
        "outputId": "b6724e0e-57d0-421d-db49-1a2249beb30b"
      },
      "execution_count": null,
      "outputs": [
        {
          "output_type": "execute_result",
          "data": {
            "text/plain": [
              "Make                                0\n",
              "Model                               0\n",
              "Vehicle Class                       0\n",
              "Engine Size(L)                      0\n",
              "Cylinders                           0\n",
              "Transmission                        0\n",
              "Fuel Type                           0\n",
              "Fuel Consumption City (L/100 km)    0\n",
              "Fuel Consumption Hwy (L/100 km)     0\n",
              "Fuel Consumption Comb (L/100 km)    0\n",
              "Fuel Consumption Comb (mpg)         0\n",
              "CO2 Emissions(g/km)                 0\n",
              "dtype: int64"
            ]
          },
          "metadata": {},
          "execution_count": 158
        }
      ]
    },
    {
      "cell_type": "code",
      "source": [
        "carbon.head()"
      ],
      "metadata": {
        "id": "xhSLtkfC_BHF",
        "colab": {
          "base_uri": "https://localhost:8080/",
          "height": 319
        },
        "outputId": "3a1eaf92-9f42-46b7-af60-0edc89a81782"
      },
      "execution_count": null,
      "outputs": [
        {
          "output_type": "execute_result",
          "data": {
            "text/plain": [
              "    Make       Model Vehicle Class  Engine Size(L)  Cylinders Transmission  \\\n",
              "0  ACURA         ILX       COMPACT             2.0          4          AS5   \n",
              "1  ACURA         ILX       COMPACT             2.4          4           M6   \n",
              "2  ACURA  ILX HYBRID       COMPACT             1.5          4          AV7   \n",
              "3  ACURA     MDX 4WD   SUV - SMALL             3.5          6          AS6   \n",
              "4  ACURA     RDX AWD   SUV - SMALL             3.5          6          AS6   \n",
              "\n",
              "  Fuel Type  Fuel Consumption City (L/100 km)  \\\n",
              "0         Z                               9.9   \n",
              "1         Z                              11.2   \n",
              "2         Z                               6.0   \n",
              "3         Z                              12.7   \n",
              "4         Z                              12.1   \n",
              "\n",
              "   Fuel Consumption Hwy (L/100 km)  Fuel Consumption Comb (L/100 km)  \\\n",
              "0                              6.7                               8.5   \n",
              "1                              7.7                               9.6   \n",
              "2                              5.8                               5.9   \n",
              "3                              9.1                              11.1   \n",
              "4                              8.7                              10.6   \n",
              "\n",
              "   Fuel Consumption Comb (mpg)  CO2 Emissions(g/km)  \n",
              "0                           33                  196  \n",
              "1                           29                  221  \n",
              "2                           48                  136  \n",
              "3                           25                  255  \n",
              "4                           27                  244  "
            ],
            "text/html": [
              "\n",
              "  <div id=\"df-9b2c5cb9-1276-4f3e-82df-6ff9a80df2a0\">\n",
              "    <div class=\"colab-df-container\">\n",
              "      <div>\n",
              "<style scoped>\n",
              "    .dataframe tbody tr th:only-of-type {\n",
              "        vertical-align: middle;\n",
              "    }\n",
              "\n",
              "    .dataframe tbody tr th {\n",
              "        vertical-align: top;\n",
              "    }\n",
              "\n",
              "    .dataframe thead th {\n",
              "        text-align: right;\n",
              "    }\n",
              "</style>\n",
              "<table border=\"1\" class=\"dataframe\">\n",
              "  <thead>\n",
              "    <tr style=\"text-align: right;\">\n",
              "      <th></th>\n",
              "      <th>Make</th>\n",
              "      <th>Model</th>\n",
              "      <th>Vehicle Class</th>\n",
              "      <th>Engine Size(L)</th>\n",
              "      <th>Cylinders</th>\n",
              "      <th>Transmission</th>\n",
              "      <th>Fuel Type</th>\n",
              "      <th>Fuel Consumption City (L/100 km)</th>\n",
              "      <th>Fuel Consumption Hwy (L/100 km)</th>\n",
              "      <th>Fuel Consumption Comb (L/100 km)</th>\n",
              "      <th>Fuel Consumption Comb (mpg)</th>\n",
              "      <th>CO2 Emissions(g/km)</th>\n",
              "    </tr>\n",
              "  </thead>\n",
              "  <tbody>\n",
              "    <tr>\n",
              "      <th>0</th>\n",
              "      <td>ACURA</td>\n",
              "      <td>ILX</td>\n",
              "      <td>COMPACT</td>\n",
              "      <td>2.0</td>\n",
              "      <td>4</td>\n",
              "      <td>AS5</td>\n",
              "      <td>Z</td>\n",
              "      <td>9.9</td>\n",
              "      <td>6.7</td>\n",
              "      <td>8.5</td>\n",
              "      <td>33</td>\n",
              "      <td>196</td>\n",
              "    </tr>\n",
              "    <tr>\n",
              "      <th>1</th>\n",
              "      <td>ACURA</td>\n",
              "      <td>ILX</td>\n",
              "      <td>COMPACT</td>\n",
              "      <td>2.4</td>\n",
              "      <td>4</td>\n",
              "      <td>M6</td>\n",
              "      <td>Z</td>\n",
              "      <td>11.2</td>\n",
              "      <td>7.7</td>\n",
              "      <td>9.6</td>\n",
              "      <td>29</td>\n",
              "      <td>221</td>\n",
              "    </tr>\n",
              "    <tr>\n",
              "      <th>2</th>\n",
              "      <td>ACURA</td>\n",
              "      <td>ILX HYBRID</td>\n",
              "      <td>COMPACT</td>\n",
              "      <td>1.5</td>\n",
              "      <td>4</td>\n",
              "      <td>AV7</td>\n",
              "      <td>Z</td>\n",
              "      <td>6.0</td>\n",
              "      <td>5.8</td>\n",
              "      <td>5.9</td>\n",
              "      <td>48</td>\n",
              "      <td>136</td>\n",
              "    </tr>\n",
              "    <tr>\n",
              "      <th>3</th>\n",
              "      <td>ACURA</td>\n",
              "      <td>MDX 4WD</td>\n",
              "      <td>SUV - SMALL</td>\n",
              "      <td>3.5</td>\n",
              "      <td>6</td>\n",
              "      <td>AS6</td>\n",
              "      <td>Z</td>\n",
              "      <td>12.7</td>\n",
              "      <td>9.1</td>\n",
              "      <td>11.1</td>\n",
              "      <td>25</td>\n",
              "      <td>255</td>\n",
              "    </tr>\n",
              "    <tr>\n",
              "      <th>4</th>\n",
              "      <td>ACURA</td>\n",
              "      <td>RDX AWD</td>\n",
              "      <td>SUV - SMALL</td>\n",
              "      <td>3.5</td>\n",
              "      <td>6</td>\n",
              "      <td>AS6</td>\n",
              "      <td>Z</td>\n",
              "      <td>12.1</td>\n",
              "      <td>8.7</td>\n",
              "      <td>10.6</td>\n",
              "      <td>27</td>\n",
              "      <td>244</td>\n",
              "    </tr>\n",
              "  </tbody>\n",
              "</table>\n",
              "</div>\n",
              "      <button class=\"colab-df-convert\" onclick=\"convertToInteractive('df-9b2c5cb9-1276-4f3e-82df-6ff9a80df2a0')\"\n",
              "              title=\"Convert this dataframe to an interactive table.\"\n",
              "              style=\"display:none;\">\n",
              "        \n",
              "  <svg xmlns=\"http://www.w3.org/2000/svg\" height=\"24px\"viewBox=\"0 0 24 24\"\n",
              "       width=\"24px\">\n",
              "    <path d=\"M0 0h24v24H0V0z\" fill=\"none\"/>\n",
              "    <path d=\"M18.56 5.44l.94 2.06.94-2.06 2.06-.94-2.06-.94-.94-2.06-.94 2.06-2.06.94zm-11 1L8.5 8.5l.94-2.06 2.06-.94-2.06-.94L8.5 2.5l-.94 2.06-2.06.94zm10 10l.94 2.06.94-2.06 2.06-.94-2.06-.94-.94-2.06-.94 2.06-2.06.94z\"/><path d=\"M17.41 7.96l-1.37-1.37c-.4-.4-.92-.59-1.43-.59-.52 0-1.04.2-1.43.59L10.3 9.45l-7.72 7.72c-.78.78-.78 2.05 0 2.83L4 21.41c.39.39.9.59 1.41.59.51 0 1.02-.2 1.41-.59l7.78-7.78 2.81-2.81c.8-.78.8-2.07 0-2.86zM5.41 20L4 18.59l7.72-7.72 1.47 1.35L5.41 20z\"/>\n",
              "  </svg>\n",
              "      </button>\n",
              "      \n",
              "  <style>\n",
              "    .colab-df-container {\n",
              "      display:flex;\n",
              "      flex-wrap:wrap;\n",
              "      gap: 12px;\n",
              "    }\n",
              "\n",
              "    .colab-df-convert {\n",
              "      background-color: #E8F0FE;\n",
              "      border: none;\n",
              "      border-radius: 50%;\n",
              "      cursor: pointer;\n",
              "      display: none;\n",
              "      fill: #1967D2;\n",
              "      height: 32px;\n",
              "      padding: 0 0 0 0;\n",
              "      width: 32px;\n",
              "    }\n",
              "\n",
              "    .colab-df-convert:hover {\n",
              "      background-color: #E2EBFA;\n",
              "      box-shadow: 0px 1px 2px rgba(60, 64, 67, 0.3), 0px 1px 3px 1px rgba(60, 64, 67, 0.15);\n",
              "      fill: #174EA6;\n",
              "    }\n",
              "\n",
              "    [theme=dark] .colab-df-convert {\n",
              "      background-color: #3B4455;\n",
              "      fill: #D2E3FC;\n",
              "    }\n",
              "\n",
              "    [theme=dark] .colab-df-convert:hover {\n",
              "      background-color: #434B5C;\n",
              "      box-shadow: 0px 1px 3px 1px rgba(0, 0, 0, 0.15);\n",
              "      filter: drop-shadow(0px 1px 2px rgba(0, 0, 0, 0.3));\n",
              "      fill: #FFFFFF;\n",
              "    }\n",
              "  </style>\n",
              "\n",
              "      <script>\n",
              "        const buttonEl =\n",
              "          document.querySelector('#df-9b2c5cb9-1276-4f3e-82df-6ff9a80df2a0 button.colab-df-convert');\n",
              "        buttonEl.style.display =\n",
              "          google.colab.kernel.accessAllowed ? 'block' : 'none';\n",
              "\n",
              "        async function convertToInteractive(key) {\n",
              "          const element = document.querySelector('#df-9b2c5cb9-1276-4f3e-82df-6ff9a80df2a0');\n",
              "          const dataTable =\n",
              "            await google.colab.kernel.invokeFunction('convertToInteractive',\n",
              "                                                     [key], {});\n",
              "          if (!dataTable) return;\n",
              "\n",
              "          const docLinkHtml = 'Like what you see? Visit the ' +\n",
              "            '<a target=\"_blank\" href=https://colab.research.google.com/notebooks/data_table.ipynb>data table notebook</a>'\n",
              "            + ' to learn more about interactive tables.';\n",
              "          element.innerHTML = '';\n",
              "          dataTable['output_type'] = 'display_data';\n",
              "          await google.colab.output.renderOutput(dataTable, element);\n",
              "          const docLink = document.createElement('div');\n",
              "          docLink.innerHTML = docLinkHtml;\n",
              "          element.appendChild(docLink);\n",
              "        }\n",
              "      </script>\n",
              "    </div>\n",
              "  </div>\n",
              "  "
            ]
          },
          "metadata": {},
          "execution_count": 159
        }
      ]
    },
    {
      "cell_type": "code",
      "source": [
        "carbon.tail()"
      ],
      "metadata": {
        "id": "lGh-JK8QHnOQ",
        "colab": {
          "base_uri": "https://localhost:8080/",
          "height": 354
        },
        "outputId": "f3f73c37-13ce-4d43-b0d4-2cfae437a1e7"
      },
      "execution_count": null,
      "outputs": [
        {
          "output_type": "execute_result",
          "data": {
            "text/plain": [
              "       Make        Model   Vehicle Class  Engine Size(L)  Cylinders  \\\n",
              "7380  VOLVO  XC40 T5 AWD     SUV - SMALL             2.0          4   \n",
              "7381  VOLVO  XC60 T5 AWD     SUV - SMALL             2.0          4   \n",
              "7382  VOLVO  XC60 T6 AWD     SUV - SMALL             2.0          4   \n",
              "7383  VOLVO  XC90 T5 AWD  SUV - STANDARD             2.0          4   \n",
              "7384  VOLVO  XC90 T6 AWD  SUV - STANDARD             2.0          4   \n",
              "\n",
              "     Transmission Fuel Type  Fuel Consumption City (L/100 km)  \\\n",
              "7380          AS8         Z                              10.7   \n",
              "7381          AS8         Z                              11.2   \n",
              "7382          AS8         Z                              11.7   \n",
              "7383          AS8         Z                              11.2   \n",
              "7384          AS8         Z                              12.2   \n",
              "\n",
              "      Fuel Consumption Hwy (L/100 km)  Fuel Consumption Comb (L/100 km)  \\\n",
              "7380                              7.7                               9.4   \n",
              "7381                              8.3                               9.9   \n",
              "7382                              8.6                              10.3   \n",
              "7383                              8.3                               9.9   \n",
              "7384                              8.7                              10.7   \n",
              "\n",
              "      Fuel Consumption Comb (mpg)  CO2 Emissions(g/km)  \n",
              "7380                           30                  219  \n",
              "7381                           29                  232  \n",
              "7382                           27                  240  \n",
              "7383                           29                  232  \n",
              "7384                           26                  248  "
            ],
            "text/html": [
              "\n",
              "  <div id=\"df-1480ad66-6e9c-4c18-a456-a163ff2b2fe2\">\n",
              "    <div class=\"colab-df-container\">\n",
              "      <div>\n",
              "<style scoped>\n",
              "    .dataframe tbody tr th:only-of-type {\n",
              "        vertical-align: middle;\n",
              "    }\n",
              "\n",
              "    .dataframe tbody tr th {\n",
              "        vertical-align: top;\n",
              "    }\n",
              "\n",
              "    .dataframe thead th {\n",
              "        text-align: right;\n",
              "    }\n",
              "</style>\n",
              "<table border=\"1\" class=\"dataframe\">\n",
              "  <thead>\n",
              "    <tr style=\"text-align: right;\">\n",
              "      <th></th>\n",
              "      <th>Make</th>\n",
              "      <th>Model</th>\n",
              "      <th>Vehicle Class</th>\n",
              "      <th>Engine Size(L)</th>\n",
              "      <th>Cylinders</th>\n",
              "      <th>Transmission</th>\n",
              "      <th>Fuel Type</th>\n",
              "      <th>Fuel Consumption City (L/100 km)</th>\n",
              "      <th>Fuel Consumption Hwy (L/100 km)</th>\n",
              "      <th>Fuel Consumption Comb (L/100 km)</th>\n",
              "      <th>Fuel Consumption Comb (mpg)</th>\n",
              "      <th>CO2 Emissions(g/km)</th>\n",
              "    </tr>\n",
              "  </thead>\n",
              "  <tbody>\n",
              "    <tr>\n",
              "      <th>7380</th>\n",
              "      <td>VOLVO</td>\n",
              "      <td>XC40 T5 AWD</td>\n",
              "      <td>SUV - SMALL</td>\n",
              "      <td>2.0</td>\n",
              "      <td>4</td>\n",
              "      <td>AS8</td>\n",
              "      <td>Z</td>\n",
              "      <td>10.7</td>\n",
              "      <td>7.7</td>\n",
              "      <td>9.4</td>\n",
              "      <td>30</td>\n",
              "      <td>219</td>\n",
              "    </tr>\n",
              "    <tr>\n",
              "      <th>7381</th>\n",
              "      <td>VOLVO</td>\n",
              "      <td>XC60 T5 AWD</td>\n",
              "      <td>SUV - SMALL</td>\n",
              "      <td>2.0</td>\n",
              "      <td>4</td>\n",
              "      <td>AS8</td>\n",
              "      <td>Z</td>\n",
              "      <td>11.2</td>\n",
              "      <td>8.3</td>\n",
              "      <td>9.9</td>\n",
              "      <td>29</td>\n",
              "      <td>232</td>\n",
              "    </tr>\n",
              "    <tr>\n",
              "      <th>7382</th>\n",
              "      <td>VOLVO</td>\n",
              "      <td>XC60 T6 AWD</td>\n",
              "      <td>SUV - SMALL</td>\n",
              "      <td>2.0</td>\n",
              "      <td>4</td>\n",
              "      <td>AS8</td>\n",
              "      <td>Z</td>\n",
              "      <td>11.7</td>\n",
              "      <td>8.6</td>\n",
              "      <td>10.3</td>\n",
              "      <td>27</td>\n",
              "      <td>240</td>\n",
              "    </tr>\n",
              "    <tr>\n",
              "      <th>7383</th>\n",
              "      <td>VOLVO</td>\n",
              "      <td>XC90 T5 AWD</td>\n",
              "      <td>SUV - STANDARD</td>\n",
              "      <td>2.0</td>\n",
              "      <td>4</td>\n",
              "      <td>AS8</td>\n",
              "      <td>Z</td>\n",
              "      <td>11.2</td>\n",
              "      <td>8.3</td>\n",
              "      <td>9.9</td>\n",
              "      <td>29</td>\n",
              "      <td>232</td>\n",
              "    </tr>\n",
              "    <tr>\n",
              "      <th>7384</th>\n",
              "      <td>VOLVO</td>\n",
              "      <td>XC90 T6 AWD</td>\n",
              "      <td>SUV - STANDARD</td>\n",
              "      <td>2.0</td>\n",
              "      <td>4</td>\n",
              "      <td>AS8</td>\n",
              "      <td>Z</td>\n",
              "      <td>12.2</td>\n",
              "      <td>8.7</td>\n",
              "      <td>10.7</td>\n",
              "      <td>26</td>\n",
              "      <td>248</td>\n",
              "    </tr>\n",
              "  </tbody>\n",
              "</table>\n",
              "</div>\n",
              "      <button class=\"colab-df-convert\" onclick=\"convertToInteractive('df-1480ad66-6e9c-4c18-a456-a163ff2b2fe2')\"\n",
              "              title=\"Convert this dataframe to an interactive table.\"\n",
              "              style=\"display:none;\">\n",
              "        \n",
              "  <svg xmlns=\"http://www.w3.org/2000/svg\" height=\"24px\"viewBox=\"0 0 24 24\"\n",
              "       width=\"24px\">\n",
              "    <path d=\"M0 0h24v24H0V0z\" fill=\"none\"/>\n",
              "    <path d=\"M18.56 5.44l.94 2.06.94-2.06 2.06-.94-2.06-.94-.94-2.06-.94 2.06-2.06.94zm-11 1L8.5 8.5l.94-2.06 2.06-.94-2.06-.94L8.5 2.5l-.94 2.06-2.06.94zm10 10l.94 2.06.94-2.06 2.06-.94-2.06-.94-.94-2.06-.94 2.06-2.06.94z\"/><path d=\"M17.41 7.96l-1.37-1.37c-.4-.4-.92-.59-1.43-.59-.52 0-1.04.2-1.43.59L10.3 9.45l-7.72 7.72c-.78.78-.78 2.05 0 2.83L4 21.41c.39.39.9.59 1.41.59.51 0 1.02-.2 1.41-.59l7.78-7.78 2.81-2.81c.8-.78.8-2.07 0-2.86zM5.41 20L4 18.59l7.72-7.72 1.47 1.35L5.41 20z\"/>\n",
              "  </svg>\n",
              "      </button>\n",
              "      \n",
              "  <style>\n",
              "    .colab-df-container {\n",
              "      display:flex;\n",
              "      flex-wrap:wrap;\n",
              "      gap: 12px;\n",
              "    }\n",
              "\n",
              "    .colab-df-convert {\n",
              "      background-color: #E8F0FE;\n",
              "      border: none;\n",
              "      border-radius: 50%;\n",
              "      cursor: pointer;\n",
              "      display: none;\n",
              "      fill: #1967D2;\n",
              "      height: 32px;\n",
              "      padding: 0 0 0 0;\n",
              "      width: 32px;\n",
              "    }\n",
              "\n",
              "    .colab-df-convert:hover {\n",
              "      background-color: #E2EBFA;\n",
              "      box-shadow: 0px 1px 2px rgba(60, 64, 67, 0.3), 0px 1px 3px 1px rgba(60, 64, 67, 0.15);\n",
              "      fill: #174EA6;\n",
              "    }\n",
              "\n",
              "    [theme=dark] .colab-df-convert {\n",
              "      background-color: #3B4455;\n",
              "      fill: #D2E3FC;\n",
              "    }\n",
              "\n",
              "    [theme=dark] .colab-df-convert:hover {\n",
              "      background-color: #434B5C;\n",
              "      box-shadow: 0px 1px 3px 1px rgba(0, 0, 0, 0.15);\n",
              "      filter: drop-shadow(0px 1px 2px rgba(0, 0, 0, 0.3));\n",
              "      fill: #FFFFFF;\n",
              "    }\n",
              "  </style>\n",
              "\n",
              "      <script>\n",
              "        const buttonEl =\n",
              "          document.querySelector('#df-1480ad66-6e9c-4c18-a456-a163ff2b2fe2 button.colab-df-convert');\n",
              "        buttonEl.style.display =\n",
              "          google.colab.kernel.accessAllowed ? 'block' : 'none';\n",
              "\n",
              "        async function convertToInteractive(key) {\n",
              "          const element = document.querySelector('#df-1480ad66-6e9c-4c18-a456-a163ff2b2fe2');\n",
              "          const dataTable =\n",
              "            await google.colab.kernel.invokeFunction('convertToInteractive',\n",
              "                                                     [key], {});\n",
              "          if (!dataTable) return;\n",
              "\n",
              "          const docLinkHtml = 'Like what you see? Visit the ' +\n",
              "            '<a target=\"_blank\" href=https://colab.research.google.com/notebooks/data_table.ipynb>data table notebook</a>'\n",
              "            + ' to learn more about interactive tables.';\n",
              "          element.innerHTML = '';\n",
              "          dataTable['output_type'] = 'display_data';\n",
              "          await google.colab.output.renderOutput(dataTable, element);\n",
              "          const docLink = document.createElement('div');\n",
              "          docLink.innerHTML = docLinkHtml;\n",
              "          element.appendChild(docLink);\n",
              "        }\n",
              "      </script>\n",
              "    </div>\n",
              "  </div>\n",
              "  "
            ]
          },
          "metadata": {},
          "execution_count": 160
        }
      ]
    },
    {
      "cell_type": "markdown",
      "source": [
        "Memeriksa merk mobil pada dataframe"
      ],
      "metadata": {
        "id": "PwroRcG9oLkl"
      }
    },
    {
      "cell_type": "code",
      "source": [
        "carbon['Make'].unique()"
      ],
      "metadata": {
        "id": "nCLFU9QlHqLY",
        "colab": {
          "base_uri": "https://localhost:8080/"
        },
        "outputId": "912680a2-5241-4247-cc6a-4a5716770520"
      },
      "execution_count": null,
      "outputs": [
        {
          "output_type": "execute_result",
          "data": {
            "text/plain": [
              "array(['ACURA', 'ALFA ROMEO', 'ASTON MARTIN', 'AUDI', 'BENTLEY', 'BMW',\n",
              "       'BUICK', 'CADILLAC', 'CHEVROLET', 'CHRYSLER', 'DODGE', 'FIAT',\n",
              "       'FORD', 'GMC', 'HONDA', 'HYUNDAI', 'INFINITI', 'JAGUAR', 'JEEP',\n",
              "       'KIA', 'LAMBORGHINI', 'LAND ROVER', 'LEXUS', 'LINCOLN', 'MASERATI',\n",
              "       'MAZDA', 'MERCEDES-BENZ', 'MINI', 'MITSUBISHI', 'NISSAN',\n",
              "       'PORSCHE', 'RAM', 'ROLLS-ROYCE', 'SCION', 'SMART', 'SRT', 'SUBARU',\n",
              "       'TOYOTA', 'VOLKSWAGEN', 'VOLVO', 'GENESIS', 'BUGATTI'],\n",
              "      dtype=object)"
            ]
          },
          "metadata": {},
          "execution_count": 161
        }
      ]
    },
    {
      "cell_type": "markdown",
      "source": [
        "Memeriksa kelas kendaraan pada dataframe"
      ],
      "metadata": {
        "id": "7M12CYAJoV52"
      }
    },
    {
      "cell_type": "code",
      "source": [
        "carbon['Vehicle Class'].unique()"
      ],
      "metadata": {
        "id": "pmVGRTfNIldn",
        "colab": {
          "base_uri": "https://localhost:8080/"
        },
        "outputId": "f472492b-be97-4e79-c937-017cf19b9cb6"
      },
      "execution_count": null,
      "outputs": [
        {
          "output_type": "execute_result",
          "data": {
            "text/plain": [
              "array(['COMPACT', 'SUV - SMALL', 'MID-SIZE', 'TWO-SEATER', 'MINICOMPACT',\n",
              "       'SUBCOMPACT', 'FULL-SIZE', 'STATION WAGON - SMALL',\n",
              "       'SUV - STANDARD', 'VAN - CARGO', 'VAN - PASSENGER',\n",
              "       'PICKUP TRUCK - STANDARD', 'MINIVAN', 'SPECIAL PURPOSE VEHICLE',\n",
              "       'STATION WAGON - MID-SIZE', 'PICKUP TRUCK - SMALL'], dtype=object)"
            ]
          },
          "metadata": {},
          "execution_count": 162
        }
      ]
    },
    {
      "cell_type": "markdown",
      "source": [
        "Memeriksa silinder mesin kendaraan pada dataframe"
      ],
      "metadata": {
        "id": "hC6VDNVcocGO"
      }
    },
    {
      "cell_type": "code",
      "source": [
        "carbon['Cylinders'].unique()"
      ],
      "metadata": {
        "id": "IFleoTp-LyKz",
        "colab": {
          "base_uri": "https://localhost:8080/"
        },
        "outputId": "46d66730-7641-4722-ed59-7c803325a351"
      },
      "execution_count": null,
      "outputs": [
        {
          "output_type": "execute_result",
          "data": {
            "text/plain": [
              "array([ 4,  6, 12,  8, 10,  3,  5, 16])"
            ]
          },
          "metadata": {},
          "execution_count": 163
        }
      ]
    },
    {
      "cell_type": "markdown",
      "source": [
        "Memeriksa transmisi kendaraan pada dataframe"
      ],
      "metadata": {
        "id": "MffKMvTeohHv"
      }
    },
    {
      "cell_type": "code",
      "source": [
        "carbon['Transmission'].unique()"
      ],
      "metadata": {
        "id": "GaqSkEpeObUw",
        "colab": {
          "base_uri": "https://localhost:8080/"
        },
        "outputId": "6c668949-9259-4530-e509-bfcae8092bbd"
      },
      "execution_count": null,
      "outputs": [
        {
          "output_type": "execute_result",
          "data": {
            "text/plain": [
              "array(['AS5', 'M6', 'AV7', 'AS6', 'AM6', 'A6', 'AM7', 'AV8', 'AS8', 'A7',\n",
              "       'A8', 'M7', 'A4', 'M5', 'AV', 'A5', 'AS7', 'A9', 'AS9', 'AV6',\n",
              "       'AS4', 'AM5', 'AM8', 'AM9', 'AS10', 'A10', 'AV10'], dtype=object)"
            ]
          },
          "metadata": {},
          "execution_count": 164
        }
      ]
    },
    {
      "cell_type": "markdown",
      "source": [
        "**Transmission Type**\n",
        "\n",
        "*   A  : Automatic\n",
        "*   AM : Automated Manual\n",
        "*   AS : Automatic with select shift\n",
        "*   AV : Continuously Variable\n",
        "*   M  : Manual, number of gears/speeds (1-10)\n",
        "\n",
        "\n",
        "\n"
      ],
      "metadata": {
        "id": "IFPIUoUvoc9R"
      }
    },
    {
      "cell_type": "code",
      "source": [
        "carbon['Fuel Type'].unique()"
      ],
      "metadata": {
        "colab": {
          "base_uri": "https://localhost:8080/"
        },
        "id": "-V_a6zEYosYL",
        "outputId": "ca2b23b1-a578-4397-add4-e7cc87b1a44b"
      },
      "execution_count": null,
      "outputs": [
        {
          "output_type": "execute_result",
          "data": {
            "text/plain": [
              "array(['Z', 'D', 'X', 'E', 'N'], dtype=object)"
            ]
          },
          "metadata": {},
          "execution_count": 165
        }
      ]
    },
    {
      "cell_type": "markdown",
      "source": [
        "**Tipe konsumsi bahan bakar**\n",
        "\n",
        "*   X = Regular gasoline\n",
        "*   Z = Premium gasoline\n",
        "*   E = E85 (Ethanol)\n",
        "*   D = Diesel\n",
        "*   N = Natural gas\n",
        "\n",
        "\n",
        "\n"
      ],
      "metadata": {
        "id": "Ai8tlfqZozXV"
      }
    },
    {
      "cell_type": "code",
      "source": [
        "carbon['Fuel Type'].value_counts()"
      ],
      "metadata": {
        "colab": {
          "base_uri": "https://localhost:8080/"
        },
        "id": "WwYJOdJ64orx",
        "outputId": "a1c195e9-b746-4359-c0fb-1b0354920776"
      },
      "execution_count": null,
      "outputs": [
        {
          "output_type": "execute_result",
          "data": {
            "text/plain": [
              "X    3637\n",
              "Z    3202\n",
              "E     370\n",
              "D     175\n",
              "N       1\n",
              "Name: Fuel Type, dtype: int64"
            ]
          },
          "metadata": {},
          "execution_count": 166
        }
      ]
    },
    {
      "cell_type": "markdown",
      "source": [
        "###DATA CLEANING"
      ],
      "metadata": {
        "id": "QPsgPafpn48m"
      }
    },
    {
      "cell_type": "markdown",
      "source": [
        "**Tidak ada missing value**"
      ],
      "metadata": {
        "id": "mj9mU5J5n8Fu"
      }
    },
    {
      "cell_type": "markdown",
      "source": [
        "###DATA EXPLORATION"
      ],
      "metadata": {
        "id": "tyxwOL_zoIFm"
      }
    },
    {
      "cell_type": "markdown",
      "source": [
        "**POIN 1 Bagaimana distribusi emisi gas karbon berdasarkan kelas kendaraannya?**"
      ],
      "metadata": {
        "id": "3KArY9jlH-cs"
      }
    },
    {
      "cell_type": "markdown",
      "source": [
        "Pada sesi ini kita ingin mengetahui distribusi emisi gas karbon yang dihasilkan dari kendaraan berdasarkan kelas kendaraan"
      ],
      "metadata": {
        "id": "xm19yVljpumH"
      }
    },
    {
      "cell_type": "code",
      "source": [
        "carbon_dist = carbon.groupby(carbon['Vehicle Class']).count()['CO2 Emissions(g/km)'].sort_values(ascending = False)\n",
        "carbon_dist"
      ],
      "metadata": {
        "colab": {
          "base_uri": "https://localhost:8080/"
        },
        "id": "okCPc9jTGn5c",
        "outputId": "2a65ce15-d451-4378-c225-3f7e10d3f7b9"
      },
      "execution_count": null,
      "outputs": [
        {
          "output_type": "execute_result",
          "data": {
            "text/plain": [
              "Vehicle Class\n",
              "SUV - SMALL                 1217\n",
              "MID-SIZE                    1133\n",
              "COMPACT                     1022\n",
              "SUV - STANDARD               735\n",
              "FULL-SIZE                    639\n",
              "SUBCOMPACT                   606\n",
              "PICKUP TRUCK - STANDARD      538\n",
              "TWO-SEATER                   460\n",
              "MINICOMPACT                  326\n",
              "STATION WAGON - SMALL        252\n",
              "PICKUP TRUCK - SMALL         159\n",
              "MINIVAN                       80\n",
              "SPECIAL PURPOSE VEHICLE       77\n",
              "VAN - PASSENGER               66\n",
              "STATION WAGON - MID-SIZE      53\n",
              "VAN - CARGO                   22\n",
              "Name: CO2 Emissions(g/km), dtype: int64"
            ]
          },
          "metadata": {},
          "execution_count": 167
        }
      ]
    },
    {
      "cell_type": "code",
      "source": [
        "carbon_dist.plot(kind='bar', xlabel = 'Vehicle Class', ylabel = 'CO2 Emissions(g/km)', title = 'Distribusi emisi gas karbon berdasarkan merk', color = 'orange')"
      ],
      "metadata": {
        "colab": {
          "base_uri": "https://localhost:8080/",
          "height": 441
        },
        "id": "bbOcNNwwIkk1",
        "outputId": "00e583f7-65d3-4c59-cd44-aaba8c61ca4e"
      },
      "execution_count": null,
      "outputs": [
        {
          "output_type": "execute_result",
          "data": {
            "text/plain": [
              "<matplotlib.axes._subplots.AxesSubplot at 0x7ffaa0a18790>"
            ]
          },
          "metadata": {},
          "execution_count": 168
        },
        {
          "output_type": "display_data",
          "data": {
            "text/plain": [
              "<Figure size 432x288 with 1 Axes>"
            ],
            "image/png": "[encoded data removed]"
          },
          "metadata": {
            "needs_background": "light"
          }
        }
      ]
    },
    {
      "cell_type": "markdown",
      "source": [
        "Data yang didapat kelas kendaraan SUV - SMALL menghasilkan emisi gas karbon terbesar sebanyak 1217 (g/km)"
      ],
      "metadata": {
        "id": "zvXALO_CqYuD"
      }
    },
    {
      "cell_type": "markdown",
      "source": [
        "**POIN 2 Berapa rata-rata konsumsi tertinggi penggunaan bahan bakar pada jalanan kota berdasarkan kelas kendaraan?**"
      ],
      "metadata": {
        "id": "O6kvy08NZClJ"
      }
    },
    {
      "cell_type": "markdown",
      "source": [
        "Pada sesi ini kita ingin mengetahui rata-rata tertinggi konsumsi penggunaan bahan bakar pada jalanan kota berdasarkan kelas kendaraan"
      ],
      "metadata": {
        "id": "VOgsPpgbq1Lh"
      }
    },
    {
      "cell_type": "code",
      "source": [
        "vehicle_class_mean_fuel_jalankota = carbon.groupby(['Vehicle Class'])[['Fuel Consumption City (L/100 km)']].mean()\n",
        "vehicle_class_mean_fuel_jalankota"
      ],
      "metadata": {
        "colab": {
          "base_uri": "https://localhost:8080/",
          "height": 582
        },
        "id": "YH7KxtT0KiHc",
        "outputId": "400fe1ed-1c13-431d-a03c-115b3eb2c8e8"
      },
      "execution_count": null,
      "outputs": [
        {
          "output_type": "execute_result",
          "data": {
            "text/plain": [
              "                          Fuel Consumption City (L/100 km)\n",
              "Vehicle Class                                             \n",
              "COMPACT                                          10.708611\n",
              "FULL-SIZE                                        13.654617\n",
              "MID-SIZE                                         11.100530\n",
              "MINICOMPACT                                      11.567485\n",
              "MINIVAN                                          13.755000\n",
              "PICKUP TRUCK - SMALL                             13.089937\n",
              "PICKUP TRUCK - STANDARD                          15.699814\n",
              "SPECIAL PURPOSE VEHICLE                          11.974026\n",
              "STATION WAGON - MID-SIZE                         11.624528\n",
              "STATION WAGON - SMALL                             9.534127\n",
              "SUBCOMPACT                                       12.263036\n",
              "SUV - SMALL                                      11.484141\n",
              "SUV - STANDARD                                   15.583129\n",
              "TWO-SEATER                                       13.850435\n",
              "VAN - CARGO                                      20.881818\n",
              "VAN - PASSENGER                                  21.998485"
            ],
            "text/html": [
              "\n",
              "  <div id=\"df-2be79d81-ae3a-4a3b-a643-5abb0417aafe\">\n",
              "    <div class=\"colab-df-container\">\n",
              "      <div>\n",
              "<style scoped>\n",
              "    .dataframe tbody tr th:only-of-type {\n",
              "        vertical-align: middle;\n",
              "    }\n",
              "\n",
              "    .dataframe tbody tr th {\n",
              "        vertical-align: top;\n",
              "    }\n",
              "\n",
              "    .dataframe thead th {\n",
              "        text-align: right;\n",
              "    }\n",
              "</style>\n",
              "<table border=\"1\" class=\"dataframe\">\n",
              "  <thead>\n",
              "    <tr style=\"text-align: right;\">\n",
              "      <th></th>\n",
              "      <th>Fuel Consumption City (L/100 km)</th>\n",
              "    </tr>\n",
              "    <tr>\n",
              "      <th>Vehicle Class</th>\n",
              "      <th></th>\n",
              "    </tr>\n",
              "  </thead>\n",
              "  <tbody>\n",
              "    <tr>\n",
              "      <th>COMPACT</th>\n",
              "      <td>10.708611</td>\n",
              "    </tr>\n",
              "    <tr>\n",
              "      <th>FULL-SIZE</th>\n",
              "      <td>13.654617</td>\n",
              "    </tr>\n",
              "    <tr>\n",
              "      <th>MID-SIZE</th>\n",
              "      <td>11.100530</td>\n",
              "    </tr>\n",
              "    <tr>\n",
              "      <th>MINICOMPACT</th>\n",
              "      <td>11.567485</td>\n",
              "    </tr>\n",
              "    <tr>\n",
              "      <th>MINIVAN</th>\n",
              "      <td>13.755000</td>\n",
              "    </tr>\n",
              "    <tr>\n",
              "      <th>PICKUP TRUCK - SMALL</th>\n",
              "      <td>13.089937</td>\n",
              "    </tr>\n",
              "    <tr>\n",
              "      <th>PICKUP TRUCK - STANDARD</th>\n",
              "      <td>15.699814</td>\n",
              "    </tr>\n",
              "    <tr>\n",
              "      <th>SPECIAL PURPOSE VEHICLE</th>\n",
              "      <td>11.974026</td>\n",
              "    </tr>\n",
              "    <tr>\n",
              "      <th>STATION WAGON - MID-SIZE</th>\n",
              "      <td>11.624528</td>\n",
              "    </tr>\n",
              "    <tr>\n",
              "      <th>STATION WAGON - SMALL</th>\n",
              "      <td>9.534127</td>\n",
              "    </tr>\n",
              "    <tr>\n",
              "      <th>SUBCOMPACT</th>\n",
              "      <td>12.263036</td>\n",
              "    </tr>\n",
              "    <tr>\n",
              "      <th>SUV - SMALL</th>\n",
              "      <td>11.484141</td>\n",
              "    </tr>\n",
              "    <tr>\n",
              "      <th>SUV - STANDARD</th>\n",
              "      <td>15.583129</td>\n",
              "    </tr>\n",
              "    <tr>\n",
              "      <th>TWO-SEATER</th>\n",
              "      <td>13.850435</td>\n",
              "    </tr>\n",
              "    <tr>\n",
              "      <th>VAN - CARGO</th>\n",
              "      <td>20.881818</td>\n",
              "    </tr>\n",
              "    <tr>\n",
              "      <th>VAN - PASSENGER</th>\n",
              "      <td>21.998485</td>\n",
              "    </tr>\n",
              "  </tbody>\n",
              "</table>\n",
              "</div>\n",
              "      <button class=\"colab-df-convert\" onclick=\"convertToInteractive('df-2be79d81-ae3a-4a3b-a643-5abb0417aafe')\"\n",
              "              title=\"Convert this dataframe to an interactive table.\"\n",
              "              style=\"display:none;\">\n",
              "        \n",
              "  <svg xmlns=\"http://www.w3.org/2000/svg\" height=\"24px\"viewBox=\"0 0 24 24\"\n",
              "       width=\"24px\">\n",
              "    <path d=\"M0 0h24v24H0V0z\" fill=\"none\"/>\n",
              "    <path d=\"M18.56 5.44l.94 2.06.94-2.06 2.06-.94-2.06-.94-.94-2.06-.94 2.06-2.06.94zm-11 1L8.5 8.5l.94-2.06 2.06-.94-2.06-.94L8.5 2.5l-.94 2.06-2.06.94zm10 10l.94 2.06.94-2.06 2.06-.94-2.06-.94-.94-2.06-.94 2.06-2.06.94z\"/><path d=\"M17.41 7.96l-1.37-1.37c-.4-.4-.92-.59-1.43-.59-.52 0-1.04.2-1.43.59L10.3 9.45l-7.72 7.72c-.78.78-.78 2.05 0 2.83L4 21.41c.39.39.9.59 1.41.59.51 0 1.02-.2 1.41-.59l7.78-7.78 2.81-2.81c.8-.78.8-2.07 0-2.86zM5.41 20L4 18.59l7.72-7.72 1.47 1.35L5.41 20z\"/>\n",
              "  </svg>\n",
              "      </button>\n",
              "      \n",
              "  <style>\n",
              "    .colab-df-container {\n",
              "      display:flex;\n",
              "      flex-wrap:wrap;\n",
              "      gap: 12px;\n",
              "    }\n",
              "\n",
              "    .colab-df-convert {\n",
              "      background-color: #E8F0FE;\n",
              "      border: none;\n",
              "      border-radius: 50%;\n",
              "      cursor: pointer;\n",
              "      display: none;\n",
              "      fill: #1967D2;\n",
              "      height: 32px;\n",
              "      padding: 0 0 0 0;\n",
              "      width: 32px;\n",
              "    }\n",
              "\n",
              "    .colab-df-convert:hover {\n",
              "      background-color: #E2EBFA;\n",
              "      box-shadow: 0px 1px 2px rgba(60, 64, 67, 0.3), 0px 1px 3px 1px rgba(60, 64, 67, 0.15);\n",
              "      fill: #174EA6;\n",
              "    }\n",
              "\n",
              "    [theme=dark] .colab-df-convert {\n",
              "      background-color: #3B4455;\n",
              "      fill: #D2E3FC;\n",
              "    }\n",
              "\n",
              "    [theme=dark] .colab-df-convert:hover {\n",
              "      background-color: #434B5C;\n",
              "      box-shadow: 0px 1px 3px 1px rgba(0, 0, 0, 0.15);\n",
              "      filter: drop-shadow(0px 1px 2px rgba(0, 0, 0, 0.3));\n",
              "      fill: #FFFFFF;\n",
              "    }\n",
              "  </style>\n",
              "\n",
              "      <script>\n",
              "        const buttonEl =\n",
              "          document.querySelector('#df-2be79d81-ae3a-4a3b-a643-5abb0417aafe button.colab-df-convert');\n",
              "        buttonEl.style.display =\n",
              "          google.colab.kernel.accessAllowed ? 'block' : 'none';\n",
              "\n",
              "        async function convertToInteractive(key) {\n",
              "          const element = document.querySelector('#df-2be79d81-ae3a-4a3b-a643-5abb0417aafe');\n",
              "          const dataTable =\n",
              "            await google.colab.kernel.invokeFunction('convertToInteractive',\n",
              "                                                     [key], {});\n",
              "          if (!dataTable) return;\n",
              "\n",
              "          const docLinkHtml = 'Like what you see? Visit the ' +\n",
              "            '<a target=\"_blank\" href=https://colab.research.google.com/notebooks/data_table.ipynb>data table notebook</a>'\n",
              "            + ' to learn more about interactive tables.';\n",
              "          element.innerHTML = '';\n",
              "          dataTable['output_type'] = 'display_data';\n",
              "          await google.colab.output.renderOutput(dataTable, element);\n",
              "          const docLink = document.createElement('div');\n",
              "          docLink.innerHTML = docLinkHtml;\n",
              "          element.appendChild(docLink);\n",
              "        }\n",
              "      </script>\n",
              "    </div>\n",
              "  </div>\n",
              "  "
            ]
          },
          "metadata": {},
          "execution_count": 169
        }
      ]
    },
    {
      "cell_type": "code",
      "source": [
        "sns.barplot(data=carbon, x='Fuel Consumption City (L/100 km)', y='Vehicle Class')"
      ],
      "metadata": {
        "colab": {
          "base_uri": "https://localhost:8080/",
          "height": 296
        },
        "id": "-g41ynbqndmL",
        "outputId": "e247fb1c-c431-481d-c7f7-1f27fb69857e"
      },
      "execution_count": null,
      "outputs": [
        {
          "output_type": "execute_result",
          "data": {
            "text/plain": [
              "<matplotlib.axes._subplots.AxesSubplot at 0x7ffaa08e15e0>"
            ]
          },
          "metadata": {},
          "execution_count": 170
        },
        {
          "output_type": "display_data",
          "data": {
            "text/plain": [
              "<Figure size 432x288 with 1 Axes>"
            ],
            "image/png": "[encoded data removed]"
          },
          "metadata": {
            "needs_background": "light"
          }
        }
      ]
    },
    {
      "cell_type": "markdown",
      "source": [
        "Data yang didapat dari konsumsi bahan bakar tertinggi penggunaan pada jalanan kota yaitu kelas kendaraan VAN - PASSENGER sebanyak 21.998485 (L/100 Km)"
      ],
      "metadata": {
        "id": "O3zt0cW9sYlm"
      }
    },
    {
      "cell_type": "markdown",
      "source": [
        "**POIN 3 Berapa rata-rata tertinggi konsumsi penggunaan bahan bakar pada jalan tol berdasarkan jenis kendaraan?**"
      ],
      "metadata": {
        "id": "6k2zHwWMNA32"
      }
    },
    {
      "cell_type": "markdown",
      "source": [
        "Pada sesi ini kita ingin mengetahui rata-rata tertinggi konsumsi penggunaan bahan bakar pada jalan tol berdasarkan kelas kendaraan"
      ],
      "metadata": {
        "id": "FVHPGEvHsN6G"
      }
    },
    {
      "cell_type": "code",
      "source": [
        "vehicle_class_mean_fuel_jalantol = carbon.groupby(['Vehicle Class'])[['Fuel Consumption Hwy (L/100 km)']].mean()\n",
        "vehicle_class_mean_fuel_jalantol"
      ],
      "metadata": {
        "colab": {
          "base_uri": "https://localhost:8080/",
          "height": 582
        },
        "id": "kjHCDZrEnd4M",
        "outputId": "0bf95fb5-a0d9-474d-a8ca-f7750f1198da"
      },
      "execution_count": null,
      "outputs": [
        {
          "output_type": "execute_result",
          "data": {
            "text/plain": [
              "                          Fuel Consumption Hwy (L/100 km)\n",
              "Vehicle Class                                            \n",
              "COMPACT                                          7.675147\n",
              "FULL-SIZE                                        9.156651\n",
              "MID-SIZE                                         7.789585\n",
              "MINICOMPACT                                      8.457362\n",
              "MINIVAN                                          9.706250\n",
              "PICKUP TRUCK - SMALL                            10.034591\n",
              "PICKUP TRUCK - STANDARD                         11.649628\n",
              "SPECIAL PURPOSE VEHICLE                          9.302597\n",
              "STATION WAGON - MID-SIZE                         8.501887\n",
              "STATION WAGON - SMALL                            7.340079\n",
              "SUBCOMPACT                                       8.515182\n",
              "SUV - SMALL                                      8.704273\n",
              "SUV - STANDARD                                  11.287075\n",
              "TWO-SEATER                                       9.557826\n",
              "VAN - CARGO                                     16.059091\n",
              "VAN - PASSENGER                                 15.756061"
            ],
            "text/html": [
              "\n",
              "  <div id=\"df-e6396578-d822-49f3-a568-2a6c3ca68fff\">\n",
              "    <div class=\"colab-df-container\">\n",
              "      <div>\n",
              "<style scoped>\n",
              "    .dataframe tbody tr th:only-of-type {\n",
              "        vertical-align: middle;\n",
              "    }\n",
              "\n",
              "    .dataframe tbody tr th {\n",
              "        vertical-align: top;\n",
              "    }\n",
              "\n",
              "    .dataframe thead th {\n",
              "        text-align: right;\n",
              "    }\n",
              "</style>\n",
              "<table border=\"1\" class=\"dataframe\">\n",
              "  <thead>\n",
              "    <tr style=\"text-align: right;\">\n",
              "      <th></th>\n",
              "      <th>Fuel Consumption Hwy (L/100 km)</th>\n",
              "    </tr>\n",
              "    <tr>\n",
              "      <th>Vehicle Class</th>\n",
              "      <th></th>\n",
              "    </tr>\n",
              "  </thead>\n",
              "  <tbody>\n",
              "    <tr>\n",
              "      <th>COMPACT</th>\n",
              "      <td>7.675147</td>\n",
              "    </tr>\n",
              "    <tr>\n",
              "      <th>FULL-SIZE</th>\n",
              "      <td>9.156651</td>\n",
              "    </tr>\n",
              "    <tr>\n",
              "      <th>MID-SIZE</th>\n",
              "      <td>7.789585</td>\n",
              "    </tr>\n",
              "    <tr>\n",
              "      <th>MINICOMPACT</th>\n",
              "      <td>8.457362</td>\n",
              "    </tr>\n",
              "    <tr>\n",
              "      <th>MINIVAN</th>\n",
              "      <td>9.706250</td>\n",
              "    </tr>\n",
              "    <tr>\n",
              "      <th>PICKUP TRUCK - SMALL</th>\n",
              "      <td>10.034591</td>\n",
              "    </tr>\n",
              "    <tr>\n",
              "      <th>PICKUP TRUCK - STANDARD</th>\n",
              "      <td>11.649628</td>\n",
              "    </tr>\n",
              "    <tr>\n",
              "      <th>SPECIAL PURPOSE VEHICLE</th>\n",
              "      <td>9.302597</td>\n",
              "    </tr>\n",
              "    <tr>\n",
              "      <th>STATION WAGON - MID-SIZE</th>\n",
              "      <td>8.501887</td>\n",
              "    </tr>\n",
              "    <tr>\n",
              "      <th>STATION WAGON - SMALL</th>\n",
              "      <td>7.340079</td>\n",
              "    </tr>\n",
              "    <tr>\n",
              "      <th>SUBCOMPACT</th>\n",
              "      <td>8.515182</td>\n",
              "    </tr>\n",
              "    <tr>\n",
              "      <th>SUV - SMALL</th>\n",
              "      <td>8.704273</td>\n",
              "    </tr>\n",
              "    <tr>\n",
              "      <th>SUV - STANDARD</th>\n",
              "      <td>11.287075</td>\n",
              "    </tr>\n",
              "    <tr>\n",
              "      <th>TWO-SEATER</th>\n",
              "      <td>9.557826</td>\n",
              "    </tr>\n",
              "    <tr>\n",
              "      <th>VAN - CARGO</th>\n",
              "      <td>16.059091</td>\n",
              "    </tr>\n",
              "    <tr>\n",
              "      <th>VAN - PASSENGER</th>\n",
              "      <td>15.756061</td>\n",
              "    </tr>\n",
              "  </tbody>\n",
              "</table>\n",
              "</div>\n",
              "      <button class=\"colab-df-convert\" onclick=\"convertToInteractive('df-e6396578-d822-49f3-a568-2a6c3ca68fff')\"\n",
              "              title=\"Convert this dataframe to an interactive table.\"\n",
              "              style=\"display:none;\">\n",
              "        \n",
              "  <svg xmlns=\"http://www.w3.org/2000/svg\" height=\"24px\"viewBox=\"0 0 24 24\"\n",
              "       width=\"24px\">\n",
              "    <path d=\"M0 0h24v24H0V0z\" fill=\"none\"/>\n",
              "    <path d=\"M18.56 5.44l.94 2.06.94-2.06 2.06-.94-2.06-.94-.94-2.06-.94 2.06-2.06.94zm-11 1L8.5 8.5l.94-2.06 2.06-.94-2.06-.94L8.5 2.5l-.94 2.06-2.06.94zm10 10l.94 2.06.94-2.06 2.06-.94-2.06-.94-.94-2.06-.94 2.06-2.06.94z\"/><path d=\"M17.41 7.96l-1.37-1.37c-.4-.4-.92-.59-1.43-.59-.52 0-1.04.2-1.43.59L10.3 9.45l-7.72 7.72c-.78.78-.78 2.05 0 2.83L4 21.41c.39.39.9.59 1.41.59.51 0 1.02-.2 1.41-.59l7.78-7.78 2.81-2.81c.8-.78.8-2.07 0-2.86zM5.41 20L4 18.59l7.72-7.72 1.47 1.35L5.41 20z\"/>\n",
              "  </svg>\n",
              "      </button>\n",
              "      \n",
              "  <style>\n",
              "    .colab-df-container {\n",
              "      display:flex;\n",
              "      flex-wrap:wrap;\n",
              "      gap: 12px;\n",
              "    }\n",
              "\n",
              "    .colab-df-convert {\n",
              "      background-color: #E8F0FE;\n",
              "      border: none;\n",
              "      border-radius: 50%;\n",
              "      cursor: pointer;\n",
              "      display: none;\n",
              "      fill: #1967D2;\n",
              "      height: 32px;\n",
              "      padding: 0 0 0 0;\n",
              "      width: 32px;\n",
              "    }\n",
              "\n",
              "    .colab-df-convert:hover {\n",
              "      background-color: #E2EBFA;\n",
              "      box-shadow: 0px 1px 2px rgba(60, 64, 67, 0.3), 0px 1px 3px 1px rgba(60, 64, 67, 0.15);\n",
              "      fill: #174EA6;\n",
              "    }\n",
              "\n",
              "    [theme=dark] .colab-df-convert {\n",
              "      background-color: #3B4455;\n",
              "      fill: #D2E3FC;\n",
              "    }\n",
              "\n",
              "    [theme=dark] .colab-df-convert:hover {\n",
              "      background-color: #434B5C;\n",
              "      box-shadow: 0px 1px 3px 1px rgba(0, 0, 0, 0.15);\n",
              "      filter: drop-shadow(0px 1px 2px rgba(0, 0, 0, 0.3));\n",
              "      fill: #FFFFFF;\n",
              "    }\n",
              "  </style>\n",
              "\n",
              "      <script>\n",
              "        const buttonEl =\n",
              "          document.querySelector('#df-e6396578-d822-49f3-a568-2a6c3ca68fff button.colab-df-convert');\n",
              "        buttonEl.style.display =\n",
              "          google.colab.kernel.accessAllowed ? 'block' : 'none';\n",
              "\n",
              "        async function convertToInteractive(key) {\n",
              "          const element = document.querySelector('#df-e6396578-d822-49f3-a568-2a6c3ca68fff');\n",
              "          const dataTable =\n",
              "            await google.colab.kernel.invokeFunction('convertToInteractive',\n",
              "                                                     [key], {});\n",
              "          if (!dataTable) return;\n",
              "\n",
              "          const docLinkHtml = 'Like what you see? Visit the ' +\n",
              "            '<a target=\"_blank\" href=https://colab.research.google.com/notebooks/data_table.ipynb>data table notebook</a>'\n",
              "            + ' to learn more about interactive tables.';\n",
              "          element.innerHTML = '';\n",
              "          dataTable['output_type'] = 'display_data';\n",
              "          await google.colab.output.renderOutput(dataTable, element);\n",
              "          const docLink = document.createElement('div');\n",
              "          docLink.innerHTML = docLinkHtml;\n",
              "          element.appendChild(docLink);\n",
              "        }\n",
              "      </script>\n",
              "    </div>\n",
              "  </div>\n",
              "  "
            ]
          },
          "metadata": {},
          "execution_count": 171
        }
      ]
    },
    {
      "cell_type": "code",
      "source": [
        "sns.barplot(data=carbon, x='Fuel Consumption Hwy (L/100 km)', y='Vehicle Class')"
      ],
      "metadata": {
        "colab": {
          "base_uri": "https://localhost:8080/",
          "height": 296
        },
        "id": "W2wBO9KnneGs",
        "outputId": "9f6214ec-3617-4ce8-c127-7474a7c63469"
      },
      "execution_count": null,
      "outputs": [
        {
          "output_type": "execute_result",
          "data": {
            "text/plain": [
              "<matplotlib.axes._subplots.AxesSubplot at 0x7ffaa10a05e0>"
            ]
          },
          "metadata": {},
          "execution_count": 172
        },
        {
          "output_type": "display_data",
          "data": {
            "text/plain": [
              "<Figure size 432x288 with 1 Axes>"
            ],
            "image/png": "[encoded data removed]"
          },
          "metadata": {
            "needs_background": "light"
          }
        }
      ]
    },
    {
      "cell_type": "markdown",
      "source": [
        "Data yang didapat dari konsumsi bahan bakar tertinggi penggunaan pada jalan tol yaitu kelas kendaraan VAN - CARGO sebanyak 16.059091 (L/100 Km)"
      ],
      "metadata": {
        "id": "i1BMlm6nvIJd"
      }
    },
    {
      "cell_type": "markdown",
      "source": [
        "**POIN 4 Berapa rata-rata tertinggi konsumsi penggunaan bahan bakar yang dikombinasi berdasarkan jenis kendaraan?**"
      ],
      "metadata": {
        "id": "Yetu9r4oNG9e"
      }
    },
    {
      "cell_type": "markdown",
      "source": [
        "Pada sesi ini kita ingin mengetahui rata-rata tertinggi konsumsi penggunaan bahan bakar pada jalanan yang dikombinasi berdasarkan kelas kendaraan"
      ],
      "metadata": {
        "id": "h9F_J4RQsRoP"
      }
    },
    {
      "cell_type": "code",
      "source": [
        "vehicle_class_mean_fuel_kombinasi = carbon.groupby(['Vehicle Class'])[['Fuel Consumption Comb (L/100 km)']].mean()\n",
        "vehicle_class_mean_fuel_kombinasi"
      ],
      "metadata": {
        "colab": {
          "base_uri": "https://localhost:8080/",
          "height": 582
        },
        "id": "UPEoYGQwnerj",
        "outputId": "71f3a8b2-b4cb-4e4f-b87a-dfc987895df5"
      },
      "execution_count": null,
      "outputs": [
        {
          "output_type": "execute_result",
          "data": {
            "text/plain": [
              "                          Fuel Consumption Comb (L/100 km)\n",
              "Vehicle Class                                             \n",
              "COMPACT                                           9.343933\n",
              "FULL-SIZE                                        11.633646\n",
              "MID-SIZE                                          9.609356\n",
              "MINICOMPACT                                      10.168712\n",
              "MINIVAN                                          11.935000\n",
              "PICKUP TRUCK - SMALL                             11.717610\n",
              "PICKUP TRUCK - STANDARD                          13.880855\n",
              "SPECIAL PURPOSE VEHICLE                          10.763636\n",
              "STATION WAGON - MID-SIZE                         10.232075\n",
              "STATION WAGON - SMALL                             8.542857\n",
              "SUBCOMPACT                                       10.574422\n",
              "SUV - SMALL                                      10.231800\n",
              "SUV - STANDARD                                   13.650204\n",
              "TWO-SEATER                                       11.921304\n",
              "VAN - CARGO                                      18.718182\n",
              "VAN - PASSENGER                                  19.192424"
            ],
            "text/html": [
              "\n",
              "  <div id=\"df-e6854da0-d951-45c3-946e-6563f8e217e5\">\n",
              "    <div class=\"colab-df-container\">\n",
              "      <div>\n",
              "<style scoped>\n",
              "    .dataframe tbody tr th:only-of-type {\n",
              "        vertical-align: middle;\n",
              "    }\n",
              "\n",
              "    .dataframe tbody tr th {\n",
              "        vertical-align: top;\n",
              "    }\n",
              "\n",
              "    .dataframe thead th {\n",
              "        text-align: right;\n",
              "    }\n",
              "</style>\n",
              "<table border=\"1\" class=\"dataframe\">\n",
              "  <thead>\n",
              "    <tr style=\"text-align: right;\">\n",
              "      <th></th>\n",
              "      <th>Fuel Consumption Comb (L/100 km)</th>\n",
              "    </tr>\n",
              "    <tr>\n",
              "      <th>Vehicle Class</th>\n",
              "      <th></th>\n",
              "    </tr>\n",
              "  </thead>\n",
              "  <tbody>\n",
              "    <tr>\n",
              "      <th>COMPACT</th>\n",
              "      <td>9.343933</td>\n",
              "    </tr>\n",
              "    <tr>\n",
              "      <th>FULL-SIZE</th>\n",
              "      <td>11.633646</td>\n",
              "    </tr>\n",
              "    <tr>\n",
              "      <th>MID-SIZE</th>\n",
              "      <td>9.609356</td>\n",
              "    </tr>\n",
              "    <tr>\n",
              "      <th>MINICOMPACT</th>\n",
              "      <td>10.168712</td>\n",
              "    </tr>\n",
              "    <tr>\n",
              "      <th>MINIVAN</th>\n",
              "      <td>11.935000</td>\n",
              "    </tr>\n",
              "    <tr>\n",
              "      <th>PICKUP TRUCK - SMALL</th>\n",
              "      <td>11.717610</td>\n",
              "    </tr>\n",
              "    <tr>\n",
              "      <th>PICKUP TRUCK - STANDARD</th>\n",
              "      <td>13.880855</td>\n",
              "    </tr>\n",
              "    <tr>\n",
              "      <th>SPECIAL PURPOSE VEHICLE</th>\n",
              "      <td>10.763636</td>\n",
              "    </tr>\n",
              "    <tr>\n",
              "      <th>STATION WAGON - MID-SIZE</th>\n",
              "      <td>10.232075</td>\n",
              "    </tr>\n",
              "    <tr>\n",
              "      <th>STATION WAGON - SMALL</th>\n",
              "      <td>8.542857</td>\n",
              "    </tr>\n",
              "    <tr>\n",
              "      <th>SUBCOMPACT</th>\n",
              "      <td>10.574422</td>\n",
              "    </tr>\n",
              "    <tr>\n",
              "      <th>SUV - SMALL</th>\n",
              "      <td>10.231800</td>\n",
              "    </tr>\n",
              "    <tr>\n",
              "      <th>SUV - STANDARD</th>\n",
              "      <td>13.650204</td>\n",
              "    </tr>\n",
              "    <tr>\n",
              "      <th>TWO-SEATER</th>\n",
              "      <td>11.921304</td>\n",
              "    </tr>\n",
              "    <tr>\n",
              "      <th>VAN - CARGO</th>\n",
              "      <td>18.718182</td>\n",
              "    </tr>\n",
              "    <tr>\n",
              "      <th>VAN - PASSENGER</th>\n",
              "      <td>19.192424</td>\n",
              "    </tr>\n",
              "  </tbody>\n",
              "</table>\n",
              "</div>\n",
              "      <button class=\"colab-df-convert\" onclick=\"convertToInteractive('df-e6854da0-d951-45c3-946e-6563f8e217e5')\"\n",
              "              title=\"Convert this dataframe to an interactive table.\"\n",
              "              style=\"display:none;\">\n",
              "        \n",
              "  <svg xmlns=\"http://www.w3.org/2000/svg\" height=\"24px\"viewBox=\"0 0 24 24\"\n",
              "       width=\"24px\">\n",
              "    <path d=\"M0 0h24v24H0V0z\" fill=\"none\"/>\n",
              "    <path d=\"M18.56 5.44l.94 2.06.94-2.06 2.06-.94-2.06-.94-.94-2.06-.94 2.06-2.06.94zm-11 1L8.5 8.5l.94-2.06 2.06-.94-2.06-.94L8.5 2.5l-.94 2.06-2.06.94zm10 10l.94 2.06.94-2.06 2.06-.94-2.06-.94-.94-2.06-.94 2.06-2.06.94z\"/><path d=\"M17.41 7.96l-1.37-1.37c-.4-.4-.92-.59-1.43-.59-.52 0-1.04.2-1.43.59L10.3 9.45l-7.72 7.72c-.78.78-.78 2.05 0 2.83L4 21.41c.39.39.9.59 1.41.59.51 0 1.02-.2 1.41-.59l7.78-7.78 2.81-2.81c.8-.78.8-2.07 0-2.86zM5.41 20L4 18.59l7.72-7.72 1.47 1.35L5.41 20z\"/>\n",
              "  </svg>\n",
              "      </button>\n",
              "      \n",
              "  <style>\n",
              "    .colab-df-container {\n",
              "      display:flex;\n",
              "      flex-wrap:wrap;\n",
              "      gap: 12px;\n",
              "    }\n",
              "\n",
              "    .colab-df-convert {\n",
              "      background-color: #E8F0FE;\n",
              "      border: none;\n",
              "      border-radius: 50%;\n",
              "      cursor: pointer;\n",
              "      display: none;\n",
              "      fill: #1967D2;\n",
              "      height: 32px;\n",
              "      padding: 0 0 0 0;\n",
              "      width: 32px;\n",
              "    }\n",
              "\n",
              "    .colab-df-convert:hover {\n",
              "      background-color: #E2EBFA;\n",
              "      box-shadow: 0px 1px 2px rgba(60, 64, 67, 0.3), 0px 1px 3px 1px rgba(60, 64, 67, 0.15);\n",
              "      fill: #174EA6;\n",
              "    }\n",
              "\n",
              "    [theme=dark] .colab-df-convert {\n",
              "      background-color: #3B4455;\n",
              "      fill: #D2E3FC;\n",
              "    }\n",
              "\n",
              "    [theme=dark] .colab-df-convert:hover {\n",
              "      background-color: #434B5C;\n",
              "      box-shadow: 0px 1px 3px 1px rgba(0, 0, 0, 0.15);\n",
              "      filter: drop-shadow(0px 1px 2px rgba(0, 0, 0, 0.3));\n",
              "      fill: #FFFFFF;\n",
              "    }\n",
              "  </style>\n",
              "\n",
              "      <script>\n",
              "        const buttonEl =\n",
              "          document.querySelector('#df-e6854da0-d951-45c3-946e-6563f8e217e5 button.colab-df-convert');\n",
              "        buttonEl.style.display =\n",
              "          google.colab.kernel.accessAllowed ? 'block' : 'none';\n",
              "\n",
              "        async function convertToInteractive(key) {\n",
              "          const element = document.querySelector('#df-e6854da0-d951-45c3-946e-6563f8e217e5');\n",
              "          const dataTable =\n",
              "            await google.colab.kernel.invokeFunction('convertToInteractive',\n",
              "                                                     [key], {});\n",
              "          if (!dataTable) return;\n",
              "\n",
              "          const docLinkHtml = 'Like what you see? Visit the ' +\n",
              "            '<a target=\"_blank\" href=https://colab.research.google.com/notebooks/data_table.ipynb>data table notebook</a>'\n",
              "            + ' to learn more about interactive tables.';\n",
              "          element.innerHTML = '';\n",
              "          dataTable['output_type'] = 'display_data';\n",
              "          await google.colab.output.renderOutput(dataTable, element);\n",
              "          const docLink = document.createElement('div');\n",
              "          docLink.innerHTML = docLinkHtml;\n",
              "          element.appendChild(docLink);\n",
              "        }\n",
              "      </script>\n",
              "    </div>\n",
              "  </div>\n",
              "  "
            ]
          },
          "metadata": {},
          "execution_count": 173
        }
      ]
    },
    {
      "cell_type": "code",
      "source": [
        "sns.barplot(data=carbon, x='Fuel Consumption Comb (L/100 km)', y='Vehicle Class')"
      ],
      "metadata": {
        "colab": {
          "base_uri": "https://localhost:8080/",
          "height": 296
        },
        "id": "kS4LTWrmn_Hr",
        "outputId": "39e17dfd-7182-458e-cef7-ee796a61888c"
      },
      "execution_count": null,
      "outputs": [
        {
          "output_type": "execute_result",
          "data": {
            "text/plain": [
              "<matplotlib.axes._subplots.AxesSubplot at 0x7ffaa0fcc2b0>"
            ]
          },
          "metadata": {},
          "execution_count": 174
        },
        {
          "output_type": "display_data",
          "data": {
            "text/plain": [
              "<Figure size 432x288 with 1 Axes>"
            ],
            "image/png": "[encoded data removed]"
          },
          "metadata": {
            "needs_background": "light"
          }
        }
      ]
    },
    {
      "cell_type": "markdown",
      "source": [
        "Data yang didapat dari konsumsi bahan bakar tertinggi penggunaan pada jalan tol dan jalanan kota yaitu kelas kendaraan VAN - PASSENGER sebanyak 19.192424 (L/100 Km)"
      ],
      "metadata": {
        "id": "lFU0MZ06w66f"
      }
    },
    {
      "cell_type": "markdown",
      "source": [
        "**POIN 5 Berapa rata-rata emisi gas karbon yang dihasilkan berdasarkan jenis bahan bakar?**"
      ],
      "metadata": {
        "id": "nTbxsoeONQcF"
      }
    },
    {
      "cell_type": "markdown",
      "source": [
        "Pada sesi ini kita ingin mengetahui rata-rata tertinggi emisi gas karbon berdasarkan tipe bahan bakar"
      ],
      "metadata": {
        "id": "aof8fN9Xx3bp"
      }
    },
    {
      "cell_type": "code",
      "source": [
        "fuel = carbon.groupby(['Fuel Type'])[['CO2 Emissions(g/km)']].mean()\n",
        "fuel"
      ],
      "metadata": {
        "colab": {
          "base_uri": "https://localhost:8080/",
          "height": 237
        },
        "id": "yyTCYjEuqMW2",
        "outputId": "a0e9e6ac-9c4d-45d1-b23b-1f86470ef48e"
      },
      "execution_count": null,
      "outputs": [
        {
          "output_type": "execute_result",
          "data": {
            "text/plain": [
              "           CO2 Emissions(g/km)\n",
              "Fuel Type                     \n",
              "D                   237.548571\n",
              "E                   275.091892\n",
              "N                   213.000000\n",
              "X                   235.119329\n",
              "Z                   266.043410"
            ],
            "text/html": [
              "\n",
              "  <div id=\"df-b349d750-2536-4fa0-a6cc-4b321c42a234\">\n",
              "    <div class=\"colab-df-container\">\n",
              "      <div>\n",
              "<style scoped>\n",
              "    .dataframe tbody tr th:only-of-type {\n",
              "        vertical-align: middle;\n",
              "    }\n",
              "\n",
              "    .dataframe tbody tr th {\n",
              "        vertical-align: top;\n",
              "    }\n",
              "\n",
              "    .dataframe thead th {\n",
              "        text-align: right;\n",
              "    }\n",
              "</style>\n",
              "<table border=\"1\" class=\"dataframe\">\n",
              "  <thead>\n",
              "    <tr style=\"text-align: right;\">\n",
              "      <th></th>\n",
              "      <th>CO2 Emissions(g/km)</th>\n",
              "    </tr>\n",
              "    <tr>\n",
              "      <th>Fuel Type</th>\n",
              "      <th></th>\n",
              "    </tr>\n",
              "  </thead>\n",
              "  <tbody>\n",
              "    <tr>\n",
              "      <th>D</th>\n",
              "      <td>237.548571</td>\n",
              "    </tr>\n",
              "    <tr>\n",
              "      <th>E</th>\n",
              "      <td>275.091892</td>\n",
              "    </tr>\n",
              "    <tr>\n",
              "      <th>N</th>\n",
              "      <td>213.000000</td>\n",
              "    </tr>\n",
              "    <tr>\n",
              "      <th>X</th>\n",
              "      <td>235.119329</td>\n",
              "    </tr>\n",
              "    <tr>\n",
              "      <th>Z</th>\n",
              "      <td>266.043410</td>\n",
              "    </tr>\n",
              "  </tbody>\n",
              "</table>\n",
              "</div>\n",
              "      <button class=\"colab-df-convert\" onclick=\"convertToInteractive('df-b349d750-2536-4fa0-a6cc-4b321c42a234')\"\n",
              "              title=\"Convert this dataframe to an interactive table.\"\n",
              "              style=\"display:none;\">\n",
              "        \n",
              "  <svg xmlns=\"http://www.w3.org/2000/svg\" height=\"24px\"viewBox=\"0 0 24 24\"\n",
              "       width=\"24px\">\n",
              "    <path d=\"M0 0h24v24H0V0z\" fill=\"none\"/>\n",
              "    <path d=\"M18.56 5.44l.94 2.06.94-2.06 2.06-.94-2.06-.94-.94-2.06-.94 2.06-2.06.94zm-11 1L8.5 8.5l.94-2.06 2.06-.94-2.06-.94L8.5 2.5l-.94 2.06-2.06.94zm10 10l.94 2.06.94-2.06 2.06-.94-2.06-.94-.94-2.06-.94 2.06-2.06.94z\"/><path d=\"M17.41 7.96l-1.37-1.37c-.4-.4-.92-.59-1.43-.59-.52 0-1.04.2-1.43.59L10.3 9.45l-7.72 7.72c-.78.78-.78 2.05 0 2.83L4 21.41c.39.39.9.59 1.41.59.51 0 1.02-.2 1.41-.59l7.78-7.78 2.81-2.81c.8-.78.8-2.07 0-2.86zM5.41 20L4 18.59l7.72-7.72 1.47 1.35L5.41 20z\"/>\n",
              "  </svg>\n",
              "      </button>\n",
              "      \n",
              "  <style>\n",
              "    .colab-df-container {\n",
              "      display:flex;\n",
              "      flex-wrap:wrap;\n",
              "      gap: 12px;\n",
              "    }\n",
              "\n",
              "    .colab-df-convert {\n",
              "      background-color: #E8F0FE;\n",
              "      border: none;\n",
              "      border-radius: 50%;\n",
              "      cursor: pointer;\n",
              "      display: none;\n",
              "      fill: #1967D2;\n",
              "      height: 32px;\n",
              "      padding: 0 0 0 0;\n",
              "      width: 32px;\n",
              "    }\n",
              "\n",
              "    .colab-df-convert:hover {\n",
              "      background-color: #E2EBFA;\n",
              "      box-shadow: 0px 1px 2px rgba(60, 64, 67, 0.3), 0px 1px 3px 1px rgba(60, 64, 67, 0.15);\n",
              "      fill: #174EA6;\n",
              "    }\n",
              "\n",
              "    [theme=dark] .colab-df-convert {\n",
              "      background-color: #3B4455;\n",
              "      fill: #D2E3FC;\n",
              "    }\n",
              "\n",
              "    [theme=dark] .colab-df-convert:hover {\n",
              "      background-color: #434B5C;\n",
              "      box-shadow: 0px 1px 3px 1px rgba(0, 0, 0, 0.15);\n",
              "      filter: drop-shadow(0px 1px 2px rgba(0, 0, 0, 0.3));\n",
              "      fill: #FFFFFF;\n",
              "    }\n",
              "  </style>\n",
              "\n",
              "      <script>\n",
              "        const buttonEl =\n",
              "          document.querySelector('#df-b349d750-2536-4fa0-a6cc-4b321c42a234 button.colab-df-convert');\n",
              "        buttonEl.style.display =\n",
              "          google.colab.kernel.accessAllowed ? 'block' : 'none';\n",
              "\n",
              "        async function convertToInteractive(key) {\n",
              "          const element = document.querySelector('#df-b349d750-2536-4fa0-a6cc-4b321c42a234');\n",
              "          const dataTable =\n",
              "            await google.colab.kernel.invokeFunction('convertToInteractive',\n",
              "                                                     [key], {});\n",
              "          if (!dataTable) return;\n",
              "\n",
              "          const docLinkHtml = 'Like what you see? Visit the ' +\n",
              "            '<a target=\"_blank\" href=https://colab.research.google.com/notebooks/data_table.ipynb>data table notebook</a>'\n",
              "            + ' to learn more about interactive tables.';\n",
              "          element.innerHTML = '';\n",
              "          dataTable['output_type'] = 'display_data';\n",
              "          await google.colab.output.renderOutput(dataTable, element);\n",
              "          const docLink = document.createElement('div');\n",
              "          docLink.innerHTML = docLinkHtml;\n",
              "          element.appendChild(docLink);\n",
              "        }\n",
              "      </script>\n",
              "    </div>\n",
              "  </div>\n",
              "  "
            ]
          },
          "metadata": {},
          "execution_count": 175
        }
      ]
    },
    {
      "cell_type": "code",
      "source": [
        "sns.barplot(data=carbon, x='Fuel Type', y='CO2 Emissions(g/km)')"
      ],
      "metadata": {
        "colab": {
          "base_uri": "https://localhost:8080/",
          "height": 296
        },
        "id": "e0ySHiOPuThl",
        "outputId": "feab9537-c237-49de-8236-fbcc8cd8caec"
      },
      "execution_count": null,
      "outputs": [
        {
          "output_type": "execute_result",
          "data": {
            "text/plain": [
              "<matplotlib.axes._subplots.AxesSubplot at 0x7ffaa0f0bb80>"
            ]
          },
          "metadata": {},
          "execution_count": 176
        },
        {
          "output_type": "display_data",
          "data": {
            "text/plain": [
              "<Figure size 432x288 with 1 Axes>"
            ],
            "image/png": "[encoded data removed]"
          },
          "metadata": {
            "needs_background": "light"
          }
        }
      ]
    },
    {
      "cell_type": "markdown",
      "source": [
        "Data yang didapat dari rata-rata tertinggi emisi gas karbon berdasarkan tipe bahan bakar yaitu tipe bahan bakar E = E85 (Ethanol) sebanyak 275.091892 (g/km)"
      ],
      "metadata": {
        "id": "2Z3hpFOVz0_4"
      }
    },
    {
      "cell_type": "markdown",
      "source": [
        "**CENTRAL TENDENCY**"
      ],
      "metadata": {
        "id": "kV77e0vE8BLj"
      }
    },
    {
      "cell_type": "markdown",
      "source": [
        "**POIN 6 Berdasarkan merk dengan jumlah emisi gas karbon tertinggi, bagaimana distribusi nilainya?**"
      ],
      "metadata": {
        "id": "kjYlDkTkRW_G"
      }
    },
    {
      "cell_type": "code",
      "source": [
        "carbon_desc = carbon[(carbon['Vehicle Class']=='SUV - SMALL')].sort_values('CO2 Emissions(g/km)', ascending = False)\n",
        "carbon_desc"
      ],
      "metadata": {
        "id": "gQOitHVJ_zyU",
        "colab": {
          "base_uri": "https://localhost:8080/",
          "height": 676
        },
        "outputId": "945a6050-8491-4ccd-dfd6-defbba3ba253"
      },
      "execution_count": null,
      "outputs": [
        {
          "output_type": "execute_result",
          "data": {
            "text/plain": [
              "               Make                    Model Vehicle Class  Engine Size(L)  \\\n",
              "4051  MERCEDES-BENZ  AMG GLC 43 4MATIC COUPE   SUV - SMALL             3.0   \n",
              "6623            BMW                     X3 M   SUV - SMALL             3.0   \n",
              "6624            BMW         X3 M Competition   SUV - SMALL             3.0   \n",
              "6628            BMW         X4 M Competition   SUV - SMALL             3.0   \n",
              "6627            BMW                     X4 M   SUV - SMALL             3.0   \n",
              "...             ...                      ...           ...             ...   \n",
              "6447         TOYOTA          RAV4 Hybrid AWD   SUV - SMALL             2.5   \n",
              "7347         TOYOTA          RAV4 Hybrid AWD   SUV - SMALL             2.5   \n",
              "6787           FORD        Escape Hybrid AWD   SUV - SMALL             2.5   \n",
              "6786           FORD            Escape Hybrid   SUV - SMALL             2.5   \n",
              "4083  MERCEDES-BENZ           GLA 250 4MATIC   SUV - SMALL             2.0   \n",
              "\n",
              "      Cylinders Transmission Fuel Type  Fuel Consumption City (L/100 km)  \\\n",
              "4051          6           A9         Z                              17.4   \n",
              "6623          6          AS8         Z                              16.6   \n",
              "6624          6          AS8         Z                              16.6   \n",
              "6628          6          AS8         Z                              16.6   \n",
              "6627          6          AS8         Z                              16.6   \n",
              "...         ...          ...       ...                               ...   \n",
              "6447          4          AV6         X                               5.8   \n",
              "7347          4           AV         X                               5.7   \n",
              "6787          4           AV         X                               5.5   \n",
              "6786          4           AV         X                               5.4   \n",
              "4083          4          AS7         E                              13.6   \n",
              "\n",
              "      Fuel Consumption Hwy (L/100 km)  Fuel Consumption Comb (L/100 km)  \\\n",
              "4051                             11.1                              14.6   \n",
              "6623                             12.1                              14.6   \n",
              "6624                             12.1                              14.6   \n",
              "6628                             12.1                              14.6   \n",
              "6627                             12.1                              14.6   \n",
              "...                               ...                               ...   \n",
              "6447                              6.3                               6.0   \n",
              "7347                              6.3                               6.0   \n",
              "6787                              6.4                               5.9   \n",
              "6786                              6.3                               5.8   \n",
              "4083                             10.0                              12.0   \n",
              "\n",
              "      Fuel Consumption Comb (mpg)  CO2 Emissions(g/km)  \n",
              "4051                           19                  353  \n",
              "6623                           19                  339  \n",
              "6624                           19                  339  \n",
              "6628                           19                  339  \n",
              "6627                           19                  339  \n",
              "...                           ...                  ...  \n",
              "6447                           47                  140  \n",
              "7347                           47                  139  \n",
              "6787                           48                  139  \n",
              "6786                           49                  136  \n",
              "4083                           24                  128  \n",
              "\n",
              "[1217 rows x 12 columns]"
            ],
            "text/html": [
              "\n",
              "  <div id=\"df-a92dfa3d-790d-4c99-ae3a-e9628f36f165\">\n",
              "    <div class=\"colab-df-container\">\n",
              "      <div>\n",
              "<style scoped>\n",
              "    .dataframe tbody tr th:only-of-type {\n",
              "        vertical-align: middle;\n",
              "    }\n",
              "\n",
              "    .dataframe tbody tr th {\n",
              "        vertical-align: top;\n",
              "    }\n",
              "\n",
              "    .dataframe thead th {\n",
              "        text-align: right;\n",
              "    }\n",
              "</style>\n",
              "<table border=\"1\" class=\"dataframe\">\n",
              "  <thead>\n",
              "    <tr style=\"text-align: right;\">\n",
              "      <th></th>\n",
              "      <th>Make</th>\n",
              "      <th>Model</th>\n",
              "      <th>Vehicle Class</th>\n",
              "      <th>Engine Size(L)</th>\n",
              "      <th>Cylinders</th>\n",
              "      <th>Transmission</th>\n",
              "      <th>Fuel Type</th>\n",
              "      <th>Fuel Consumption City (L/100 km)</th>\n",
              "      <th>Fuel Consumption Hwy (L/100 km)</th>\n",
              "      <th>Fuel Consumption Comb (L/100 km)</th>\n",
              "      <th>Fuel Consumption Comb (mpg)</th>\n",
              "      <th>CO2 Emissions(g/km)</th>\n",
              "    </tr>\n",
              "  </thead>\n",
              "  <tbody>\n",
              "    <tr>\n",
              "      <th>4051</th>\n",
              "      <td>MERCEDES-BENZ</td>\n",
              "      <td>AMG GLC 43 4MATIC COUPE</td>\n",
              "      <td>SUV - SMALL</td>\n",
              "      <td>3.0</td>\n",
              "      <td>6</td>\n",
              "      <td>A9</td>\n",
              "      <td>Z</td>\n",
              "      <td>17.4</td>\n",
              "      <td>11.1</td>\n",
              "      <td>14.6</td>\n",
              "      <td>19</td>\n",
              "      <td>353</td>\n",
              "    </tr>\n",
              "    <tr>\n",
              "      <th>6623</th>\n",
              "      <td>BMW</td>\n",
              "      <td>X3 M</td>\n",
              "      <td>SUV - SMALL</td>\n",
              "      <td>3.0</td>\n",
              "      <td>6</td>\n",
              "      <td>AS8</td>\n",
              "      <td>Z</td>\n",
              "      <td>16.6</td>\n",
              "      <td>12.1</td>\n",
              "      <td>14.6</td>\n",
              "      <td>19</td>\n",
              "      <td>339</td>\n",
              "    </tr>\n",
              "    <tr>\n",
              "      <th>6624</th>\n",
              "      <td>BMW</td>\n",
              "      <td>X3 M Competition</td>\n",
              "      <td>SUV - SMALL</td>\n",
              "      <td>3.0</td>\n",
              "      <td>6</td>\n",
              "      <td>AS8</td>\n",
              "      <td>Z</td>\n",
              "      <td>16.6</td>\n",
              "      <td>12.1</td>\n",
              "      <td>14.6</td>\n",
              "      <td>19</td>\n",
              "      <td>339</td>\n",
              "    </tr>\n",
              "    <tr>\n",
              "      <th>6628</th>\n",
              "      <td>BMW</td>\n",
              "      <td>X4 M Competition</td>\n",
              "      <td>SUV - SMALL</td>\n",
              "      <td>3.0</td>\n",
              "      <td>6</td>\n",
              "      <td>AS8</td>\n",
              "      <td>Z</td>\n",
              "      <td>16.6</td>\n",
              "      <td>12.1</td>\n",
              "      <td>14.6</td>\n",
              "      <td>19</td>\n",
              "      <td>339</td>\n",
              "    </tr>\n",
              "    <tr>\n",
              "      <th>6627</th>\n",
              "      <td>BMW</td>\n",
              "      <td>X4 M</td>\n",
              "      <td>SUV - SMALL</td>\n",
              "      <td>3.0</td>\n",
              "      <td>6</td>\n",
              "      <td>AS8</td>\n",
              "      <td>Z</td>\n",
              "      <td>16.6</td>\n",
              "      <td>12.1</td>\n",
              "      <td>14.6</td>\n",
              "      <td>19</td>\n",
              "      <td>339</td>\n",
              "    </tr>\n",
              "    <tr>\n",
              "      <th>...</th>\n",
              "      <td>...</td>\n",
              "      <td>...</td>\n",
              "      <td>...</td>\n",
              "      <td>...</td>\n",
              "      <td>...</td>\n",
              "      <td>...</td>\n",
              "      <td>...</td>\n",
              "      <td>...</td>\n",
              "      <td>...</td>\n",
              "      <td>...</td>\n",
              "      <td>...</td>\n",
              "      <td>...</td>\n",
              "    </tr>\n",
              "    <tr>\n",
              "      <th>6447</th>\n",
              "      <td>TOYOTA</td>\n",
              "      <td>RAV4 Hybrid AWD</td>\n",
              "      <td>SUV - SMALL</td>\n",
              "      <td>2.5</td>\n",
              "      <td>4</td>\n",
              "      <td>AV6</td>\n",
              "      <td>X</td>\n",
              "      <td>5.8</td>\n",
              "      <td>6.3</td>\n",
              "      <td>6.0</td>\n",
              "      <td>47</td>\n",
              "      <td>140</td>\n",
              "    </tr>\n",
              "    <tr>\n",
              "      <th>7347</th>\n",
              "      <td>TOYOTA</td>\n",
              "      <td>RAV4 Hybrid AWD</td>\n",
              "      <td>SUV - SMALL</td>\n",
              "      <td>2.5</td>\n",
              "      <td>4</td>\n",
              "      <td>AV</td>\n",
              "      <td>X</td>\n",
              "      <td>5.7</td>\n",
              "      <td>6.3</td>\n",
              "      <td>6.0</td>\n",
              "      <td>47</td>\n",
              "      <td>139</td>\n",
              "    </tr>\n",
              "    <tr>\n",
              "      <th>6787</th>\n",
              "      <td>FORD</td>\n",
              "      <td>Escape Hybrid AWD</td>\n",
              "      <td>SUV - SMALL</td>\n",
              "      <td>2.5</td>\n",
              "      <td>4</td>\n",
              "      <td>AV</td>\n",
              "      <td>X</td>\n",
              "      <td>5.5</td>\n",
              "      <td>6.4</td>\n",
              "      <td>5.9</td>\n",
              "      <td>48</td>\n",
              "      <td>139</td>\n",
              "    </tr>\n",
              "    <tr>\n",
              "      <th>6786</th>\n",
              "      <td>FORD</td>\n",
              "      <td>Escape Hybrid</td>\n",
              "      <td>SUV - SMALL</td>\n",
              "      <td>2.5</td>\n",
              "      <td>4</td>\n",
              "      <td>AV</td>\n",
              "      <td>X</td>\n",
              "      <td>5.4</td>\n",
              "      <td>6.3</td>\n",
              "      <td>5.8</td>\n",
              "      <td>49</td>\n",
              "      <td>136</td>\n",
              "    </tr>\n",
              "    <tr>\n",
              "      <th>4083</th>\n",
              "      <td>MERCEDES-BENZ</td>\n",
              "      <td>GLA 250 4MATIC</td>\n",
              "      <td>SUV - SMALL</td>\n",
              "      <td>2.0</td>\n",
              "      <td>4</td>\n",
              "      <td>AS7</td>\n",
              "      <td>E</td>\n",
              "      <td>13.6</td>\n",
              "      <td>10.0</td>\n",
              "      <td>12.0</td>\n",
              "      <td>24</td>\n",
              "      <td>128</td>\n",
              "    </tr>\n",
              "  </tbody>\n",
              "</table>\n",
              "<p>1217 rows × 12 columns</p>\n",
              "</div>\n",
              "      <button class=\"colab-df-convert\" onclick=\"convertToInteractive('df-a92dfa3d-790d-4c99-ae3a-e9628f36f165')\"\n",
              "              title=\"Convert this dataframe to an interactive table.\"\n",
              "              style=\"display:none;\">\n",
              "        \n",
              "  <svg xmlns=\"http://www.w3.org/2000/svg\" height=\"24px\"viewBox=\"0 0 24 24\"\n",
              "       width=\"24px\">\n",
              "    <path d=\"M0 0h24v24H0V0z\" fill=\"none\"/>\n",
              "    <path d=\"M18.56 5.44l.94 2.06.94-2.06 2.06-.94-2.06-.94-.94-2.06-.94 2.06-2.06.94zm-11 1L8.5 8.5l.94-2.06 2.06-.94-2.06-.94L8.5 2.5l-.94 2.06-2.06.94zm10 10l.94 2.06.94-2.06 2.06-.94-2.06-.94-.94-2.06-.94 2.06-2.06.94z\"/><path d=\"M17.41 7.96l-1.37-1.37c-.4-.4-.92-.59-1.43-.59-.52 0-1.04.2-1.43.59L10.3 9.45l-7.72 7.72c-.78.78-.78 2.05 0 2.83L4 21.41c.39.39.9.59 1.41.59.51 0 1.02-.2 1.41-.59l7.78-7.78 2.81-2.81c.8-.78.8-2.07 0-2.86zM5.41 20L4 18.59l7.72-7.72 1.47 1.35L5.41 20z\"/>\n",
              "  </svg>\n",
              "      </button>\n",
              "      \n",
              "  <style>\n",
              "    .colab-df-container {\n",
              "      display:flex;\n",
              "      flex-wrap:wrap;\n",
              "      gap: 12px;\n",
              "    }\n",
              "\n",
              "    .colab-df-convert {\n",
              "      background-color: #E8F0FE;\n",
              "      border: none;\n",
              "      border-radius: 50%;\n",
              "      cursor: pointer;\n",
              "      display: none;\n",
              "      fill: #1967D2;\n",
              "      height: 32px;\n",
              "      padding: 0 0 0 0;\n",
              "      width: 32px;\n",
              "    }\n",
              "\n",
              "    .colab-df-convert:hover {\n",
              "      background-color: #E2EBFA;\n",
              "      box-shadow: 0px 1px 2px rgba(60, 64, 67, 0.3), 0px 1px 3px 1px rgba(60, 64, 67, 0.15);\n",
              "      fill: #174EA6;\n",
              "    }\n",
              "\n",
              "    [theme=dark] .colab-df-convert {\n",
              "      background-color: #3B4455;\n",
              "      fill: #D2E3FC;\n",
              "    }\n",
              "\n",
              "    [theme=dark] .colab-df-convert:hover {\n",
              "      background-color: #434B5C;\n",
              "      box-shadow: 0px 1px 3px 1px rgba(0, 0, 0, 0.15);\n",
              "      filter: drop-shadow(0px 1px 2px rgba(0, 0, 0, 0.3));\n",
              "      fill: #FFFFFF;\n",
              "    }\n",
              "  </style>\n",
              "\n",
              "      <script>\n",
              "        const buttonEl =\n",
              "          document.querySelector('#df-a92dfa3d-790d-4c99-ae3a-e9628f36f165 button.colab-df-convert');\n",
              "        buttonEl.style.display =\n",
              "          google.colab.kernel.accessAllowed ? 'block' : 'none';\n",
              "\n",
              "        async function convertToInteractive(key) {\n",
              "          const element = document.querySelector('#df-a92dfa3d-790d-4c99-ae3a-e9628f36f165');\n",
              "          const dataTable =\n",
              "            await google.colab.kernel.invokeFunction('convertToInteractive',\n",
              "                                                     [key], {});\n",
              "          if (!dataTable) return;\n",
              "\n",
              "          const docLinkHtml = 'Like what you see? Visit the ' +\n",
              "            '<a target=\"_blank\" href=https://colab.research.google.com/notebooks/data_table.ipynb>data table notebook</a>'\n",
              "            + ' to learn more about interactive tables.';\n",
              "          element.innerHTML = '';\n",
              "          dataTable['output_type'] = 'display_data';\n",
              "          await google.colab.output.renderOutput(dataTable, element);\n",
              "          const docLink = document.createElement('div');\n",
              "          docLink.innerHTML = docLinkHtml;\n",
              "          element.appendChild(docLink);\n",
              "        }\n",
              "      </script>\n",
              "    </div>\n",
              "  </div>\n",
              "  "
            ]
          },
          "metadata": {},
          "execution_count": 177
        }
      ]
    },
    {
      "cell_type": "code",
      "source": [
        "print('Mean :', carbon_desc['CO2 Emissions(g/km)'].mean())\n",
        "print('Median :', carbon_desc['CO2 Emissions(g/km)'].median())\n",
        "print('Mode :', carbon_desc['CO2 Emissions(g/km)'].mode()[0])\n",
        "print('Minimum :', carbon_desc['CO2 Emissions(g/km)'].min())\n",
        "print('Max :', carbon_desc['CO2 Emissions(g/km)'].max())\n",
        "print('Standard Deviation :', carbon_desc['CO2 Emissions(g/km)'].std())"
      ],
      "metadata": {
        "colab": {
          "base_uri": "https://localhost:8080/"
        },
        "id": "3Yd3Avg-J1fv",
        "outputId": "acb7a004-0676-4a96-92ef-675c23b90e5e"
      },
      "execution_count": null,
      "outputs": [
        {
          "output_type": "stream",
          "name": "stdout",
          "text": [
            "Mean : 236.29252259654888\n",
            "Median : 233.0\n",
            "Mode : 230\n",
            "Minimum : 128\n",
            "Max : 353\n",
            "Standard Deviation : 31.217718352055254\n"
          ]
        }
      ]
    },
    {
      "cell_type": "markdown",
      "source": [
        "Pengecekan data normal atau skew"
      ],
      "metadata": {
        "id": "oaJADoWk95Wi"
      }
    },
    {
      "cell_type": "code",
      "source": [
        "carbon_desc['CO2 Emissions(g/km)'].skew()"
      ],
      "metadata": {
        "colab": {
          "base_uri": "https://localhost:8080/"
        },
        "id": "Yw9v4leJKS-a",
        "outputId": "d70872bf-06d9-4783-b63a-17094c6461d3"
      },
      "execution_count": null,
      "outputs": [
        {
          "output_type": "execute_result",
          "data": {
            "text/plain": [
              "0.34462963929570023"
            ]
          },
          "metadata": {},
          "execution_count": 179
        }
      ]
    },
    {
      "cell_type": "markdown",
      "source": [
        "Hasil didapat data ini adalah normal karena, masi didalam range -0,5 - 0,5  artinya data normal"
      ],
      "metadata": {
        "id": "GkDokUDe-RD7"
      }
    },
    {
      "cell_type": "markdown",
      "source": [
        "**POIN 7 Bagaimana emisi gas karbon merk tertentu dibandingkan dengan emisi gas karbon keseluruhan merk?**"
      ],
      "metadata": {
        "id": "g21rEwvySAj3"
      }
    },
    {
      "cell_type": "markdown",
      "source": [
        "Dari analisis kami sebelumnya dalam distribusi kelas kendaraan SUV - SMALL, di bagian ini kami ingin mengetahui bagaimana emisi gas karbon rata-rata kelas kendaraan ini dibandingkan dengan emisi gas karbon rata-rata keseluruhan dalam dataframe. Untuk itu kita harus melakukan pengujian hipotesis dengan menggunakan 2 tailed 2 sample."
      ],
      "metadata": {
        "id": "drpF8Iq30csB"
      }
    },
    {
      "cell_type": "markdown",
      "source": [
        "Sehingga seperti yang dapat kita lihat di bawah ini kita menggunakan t-test 2 sample 2 tailed dengan deklarasi sebagai berikut :\n",
        "\n",
        "- H0 : &mu; SUV - SMALL Vehicle Class = &mu; Whole Vehicle Class\n",
        "\n",
        "- H1 : &mu; SUV - SMALL Vehicle Class != &mu; Whole Vehicle Class"
      ],
      "metadata": {
        "id": "4GX0uioK05fv"
      }
    },
    {
      "cell_type": "code",
      "source": [
        "t_stat, p_val = stats.ttest_ind(carbon_desc['CO2 Emissions(g/km)'], carbon['CO2 Emissions(g/km)'])\n",
        "print('P-value:',p_val) \n",
        "print('t-statistics:',t_stat)"
      ],
      "metadata": {
        "colab": {
          "base_uri": "https://localhost:8080/"
        },
        "id": "fvZOKLgwKiwu",
        "outputId": "2bdb82fd-6748-4638-b961-6ca0647fbed4"
      },
      "execution_count": null,
      "outputs": [
        {
          "output_type": "stream",
          "name": "stdout",
          "text": [
            "P-value: 9.510449442343919e-17\n",
            "t-statistics: -8.3277004405511\n"
          ]
        }
      ]
    },
    {
      "cell_type": "code",
      "source": [
        "# simulation using random generated numbers\n",
        "carbon_desc_pop = np.random.normal(carbon_desc['CO2 Emissions(g/km)'].mean(),carbon_desc['CO2 Emissions(g/km)'].std(),10000)\n",
        "carbon_pop = np.random.normal(carbon['CO2 Emissions(g/km)'].mean(),carbon['CO2 Emissions(g/km)'].std(),10000)\n",
        "\n",
        "# confidence interval based on SUV - SMALL\n",
        "# used cv = 0.05 since 2 tailed, we use 0.95 as it is. \n",
        "ci = stats.norm.interval(0.95, carbon_desc['CO2 Emissions(g/km)'].mean(), carbon_desc['CO2 Emissions(g/km)'].std())\n",
        "\n",
        "plt.figure(figsize=(15,4))\n",
        "sns.histplot(carbon_desc_pop, label='SUV - SMALL Stats *Pop',color='purple')\n",
        "sns.histplot(carbon_pop, label='Whole Vehicle Class Stats *Pop',color='teal')\n",
        "\n",
        "# mean\n",
        "plt.axvline(carbon_desc['CO2 Emissions(g/km)'].mean(), color='red', linewidth=2, label='SUM - SMALL Vehicle Class mean')\n",
        "plt.axvline(carbon['CO2 Emissions(g/km)'].mean(), color='yellow',  linewidth=2, label='Whole Vehicle Class mean')\n",
        "\n",
        "plt.axvline(ci[1], color='green', linestyle='dashed', linewidth=2, label='confidence threshold of 95%')\n",
        "plt.axvline(ci[0], color='green', linestyle='dashed', linewidth=2, label='confidence threshold of 95%')\n",
        "\n",
        "# alternative hypotesis\n",
        "plt.axvline(carbon_desc_pop.mean()+t_stat*carbon_desc_pop.std(), color='black', linestyle='dashed', linewidth=2, label = 'Alternative Hypothesis')\n",
        "plt.axvline(carbon_desc_pop.mean()-t_stat*carbon_desc_pop.std(), color='black', linestyle='dashed', linewidth=2)\n",
        "\n",
        "plt.legend()"
      ],
      "metadata": {
        "colab": {
          "base_uri": "https://localhost:8080/",
          "height": 282
        },
        "id": "kQjF2uZwSRMT",
        "outputId": "dd2b0fca-b78d-4229-dff9-70e0a66cf994"
      },
      "execution_count": null,
      "outputs": [
        {
          "output_type": "execute_result",
          "data": {
            "text/plain": [
              "<matplotlib.legend.Legend at 0x7ffaa0caaf10>"
            ]
          },
          "metadata": {},
          "execution_count": 181
        },
        {
          "output_type": "display_data",
          "data": {
            "text/plain": [
              "<Figure size 1080x288 with 1 Axes>"
            ],
            "image/png": "[encoded data removed]"
          },
          "metadata": {
            "needs_background": "light"
          }
        }
      ]
    },
    {
      "cell_type": "markdown",
      "source": [
        "Dari hasil uji T dapat disimpulkan pada data yang diberikan bahwa hasil hipotesisnya adalah menolak H0 yang berarti bahwa emisi gas karbon rata-rata  `SUM - SMALL` tidak sama dengan `seluruh emisi gas karbon kelas kendaraan`, atau dalam bahasa lain ada <mark>Perbedaan Signifikan</mark> antara emisi gas karbon rata-rata `SUV - SMALL` dan emisi gas karbon rata-rata `seluruh emisi gas karbon kelas kendaraan`."
      ],
      "metadata": {
        "id": "cgablG4_387k"
      }
    },
    {
      "cell_type": "markdown",
      "source": [
        "###KESIMPULAN"
      ],
      "metadata": {
        "id": "ZpByQ-sR3dNW"
      }
    },
    {
      "cell_type": "markdown",
      "source": [
        "*   Data yang didapat kelas kendaraan SUV - SMALL menghasilkan emisi gas karbon terbesar sebanyak 1217 (g/km)\n",
        "*   Data yang didapat dari konsumsi bahan bakar tertinggi penggunaan pada jalanan kota yaitu kelas kendaraan VAN - PASSENGER sebanyak 21.998485 (L/100 Km)\n",
        "*   Data yang didapat dari konsumsi bahan bakar tertinggi penggunaan pada jalan tol yaitu kelas kendaraan VAN - CARGO sebanyak 16.059091 (L/100 Km)\n",
        "*   Data yang didapat dari konsumsi bahan bakar tertinggi penggunaan pada jalan tol dan jalanan kota yaitu kelas kendaraan VAN - PASSENGER sebanyak 19.192424 (L/100 Km)\n",
        "*   Data yang didapat dari rata-rata tertinggi emisi gas karbon berdasarkan tipe bahan bakar yaitu tipe bahan bakar E = E85 (Ethanol) sebanyak 275.091892 (g/km)\n",
        "*   Hasil didapat data ini adalah normal karena, masi didalam range -0,5 - 0,5 artinya data normal\n",
        "*   Dari hasil uji T dapat disimpulkan pada data yang diberikan bahwa hasil hipotesisnya adalah menolak H0 yang berarti bahwa emisi gas karbon rata-rata  `SUM - SMALL` tidak sama dengan `seluruh emisi gas karbon kelas kendaraan`, atau dalam bahasa lain ada <mark>Perbedaan Signifikan</mark> antara emisi gas karbon rata-rata `SUV - SMALL` dan emisi gas karbon rata-rata `seluruh emisi gas karbon kelas kendaraan`.\n",
        "\n",
        "\n",
        "\n",
        "\n",
        "\n"
      ],
      "metadata": {
        "id": "dLXN6dxY3hQc"
      }
    },
    {
      "cell_type": "code",
      "source": [
        "carbon.to_csv('Tabelu_milestone.csv')"
      ],
      "metadata": {
        "id": "VedMGFnYCTs2"
      },
      "execution_count": null,
      "outputs": []
    },
    {
      "cell_type": "code",
      "source": [],
      "metadata": {
        "id": "_JtOZElrCZnB"
      },
      "execution_count": null,
      "outputs": []
    }
  ]
}