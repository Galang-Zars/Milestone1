{
  "nbformat": 4,
  "nbformat_minor": 0,
  "metadata": {
    "colab": {
      "provenance": [],
      "collapsed_sections": [
        "NvRR52TIgbAH",
        "JY-j_fy6GKkD",
        "QPsgPafpn48m"
      ]
    },
    "kernelspec": {
      "name": "python3",
      "display_name": "Python 3"
    },
    "language_info": {
      "name": "python"
    }
  },
  "cells": [
    {
      "cell_type": "markdown",
      "source": [
        "###MILESTONE 1"
      ],
      "metadata": {
        "id": "HqQFUIjdCCis"
      }
    },
    {
      "cell_type": "markdown",
      "source": [
        "**Muhammad Galang Al-Hakim**"
      ],
      "metadata": {
        "id": "rDyANCPXCFds"
      }
    },
    {
      "cell_type": "markdown",
      "source": [
        "**Batch 004**"
      ],
      "metadata": {
        "id": "oEIhqHeiCOdL"
      }
    },
    {
      "cell_type": "markdown",
      "source": [
        "**DATASET AND TABLEU LINK**\n",
        "1.   https://www.kaggle.com/datasets/debajyotipodder/co2-emission-by-vehicles\n",
        "2.   \n"
      ],
      "metadata": {
        "id": "8niJJkU0NZcJ"
      }
    },
    {
      "cell_type": "markdown",
      "source": [
        "###PROBLEM STATEMENT"
      ],
      "metadata": {
        "id": "u17ij6tyhk61"
      }
    },
    {
      "cell_type": "markdown",
      "source": [
        "**Mengidentifikasi emisi gas karbon tertinggi yang dihasilkan dari kendaraan bermotor pada tahun 2016 di Canada**"
      ],
      "metadata": {
        "id": "ZKEZeBtTh0hG"
      }
    },
    {
      "cell_type": "markdown",
      "source": [
        "###POIN PENJABARAN MASALAH"
      ],
      "metadata": {
        "id": "zbtgQJ8cHwEW"
      }
    },
    {
      "cell_type": "markdown",
      "source": [
        "*   Bagaimana distribusi emisi gas karbon berdasarkan kelas kendaraannya?\n",
        "*   Berapa rata-rata konsumsi tertinggi penggunaan bahan bakar pada jalanan kota berdasarkan kelas kendaraan?\n",
        "*   Berapa rata-rata konsumsi tertinggi penggunaan bahan bakar pada jalan tol berdasarkan kelas kendaraan?\n",
        "*   Berapa rata-rata konsumsi tertinggi penggunaan bahan bakar yang dikombinasi berdasarkan kelas kendaraan?\n",
        "*   Berapa rata-rata emisi gas karbon yang dihasilkan berdasarkan jenis bahan bakar?\n",
        "*   (STATISTIK DESKRIPTIF) Berdasarkan kelas kendaraan dengan jumlah emisi gas karbon tertinggi  dan rata-rata keseluruhan, bagaimana distribusi nilainya?\n",
        "*   (STATISTIK INFERENSIAL) Bagaimana emisi gas karbon kelas kendaraan tertentu dibandingkan dengan emisi gas karbon keseluruhan kelas kendaraan?\n",
        "\n",
        "\n",
        "\n"
      ],
      "metadata": {
        "id": "UNxlif2ci1Sf"
      }
    },
    {
      "cell_type": "markdown",
      "source": [
        "###WORKING AREA"
      ],
      "metadata": {
        "id": "NvRR52TIgbAH"
      }
    },
    {
      "cell_type": "markdown",
      "source": [
        "**IMPORT LIBRARY**"
      ],
      "metadata": {
        "id": "j77xMk4PCR1b"
      }
    },
    {
      "cell_type": "markdown",
      "source": [
        "**Import library yang digunakan untuk analisis data**"
      ],
      "metadata": {
        "id": "WKk2CDz_ghju"
      }
    },
    {
      "cell_type": "code",
      "execution_count": 144,
      "metadata": {
        "id": "CDh0c9qe-bNt"
      },
      "outputs": [],
      "source": [
        "import pandas as pd\n",
        "import numpy as np\n",
        "import seaborn as sns\n",
        "import scipy.stats as stats\n",
        "from scipy.stats import skew\n",
        "import matplotlib.pyplot as plt\n",
        "import matplotlib.image as mpimg"
      ]
    },
    {
      "cell_type": "markdown",
      "source": [
        "###DATA LOADING"
      ],
      "metadata": {
        "id": "JY-j_fy6GKkD"
      }
    },
    {
      "cell_type": "markdown",
      "source": [
        "**Pada sesi ini kita akan mengulik data yang simpel untuk memahami isi data**"
      ],
      "metadata": {
        "id": "cHXKm9UnGQfL"
      }
    },
    {
      "cell_type": "code",
      "source": [
        "carbon = pd.read_csv('/content/CO2 Emissions_Canada.csv')\n",
        "carbon"
      ],
      "metadata": {
        "id": "PcEOIKkv-gAR",
        "colab": {
          "base_uri": "https://localhost:8080/",
          "height": 589
        },
        "outputId": "29d1c3dd-d5ed-42a6-afc6-2caea7b94db5"
      },
      "execution_count": 116,
      "outputs": [
        {
          "output_type": "execute_result",
          "data": {
            "text/plain": [
              "       Make        Model   Vehicle Class  Engine Size(L)  Cylinders  \\\n",
              "0     ACURA          ILX         COMPACT             2.0          4   \n",
              "1     ACURA          ILX         COMPACT             2.4          4   \n",
              "2     ACURA   ILX HYBRID         COMPACT             1.5          4   \n",
              "3     ACURA      MDX 4WD     SUV - SMALL             3.5          6   \n",
              "4     ACURA      RDX AWD     SUV - SMALL             3.5          6   \n",
              "...     ...          ...             ...             ...        ...   \n",
              "7380  VOLVO  XC40 T5 AWD     SUV - SMALL             2.0          4   \n",
              "7381  VOLVO  XC60 T5 AWD     SUV - SMALL             2.0          4   \n",
              "7382  VOLVO  XC60 T6 AWD     SUV - SMALL             2.0          4   \n",
              "7383  VOLVO  XC90 T5 AWD  SUV - STANDARD             2.0          4   \n",
              "7384  VOLVO  XC90 T6 AWD  SUV - STANDARD             2.0          4   \n",
              "\n",
              "     Transmission Fuel Type  Fuel Consumption City (L/100 km)  \\\n",
              "0             AS5         Z                               9.9   \n",
              "1              M6         Z                              11.2   \n",
              "2             AV7         Z                               6.0   \n",
              "3             AS6         Z                              12.7   \n",
              "4             AS6         Z                              12.1   \n",
              "...           ...       ...                               ...   \n",
              "7380          AS8         Z                              10.7   \n",
              "7381          AS8         Z                              11.2   \n",
              "7382          AS8         Z                              11.7   \n",
              "7383          AS8         Z                              11.2   \n",
              "7384          AS8         Z                              12.2   \n",
              "\n",
              "      Fuel Consumption Hwy (L/100 km)  Fuel Consumption Comb (L/100 km)  \\\n",
              "0                                 6.7                               8.5   \n",
              "1                                 7.7                               9.6   \n",
              "2                                 5.8                               5.9   \n",
              "3                                 9.1                              11.1   \n",
              "4                                 8.7                              10.6   \n",
              "...                               ...                               ...   \n",
              "7380                              7.7                               9.4   \n",
              "7381                              8.3                               9.9   \n",
              "7382                              8.6                              10.3   \n",
              "7383                              8.3                               9.9   \n",
              "7384                              8.7                              10.7   \n",
              "\n",
              "      Fuel Consumption Comb (mpg)  CO2 Emissions(g/km)  \n",
              "0                              33                  196  \n",
              "1                              29                  221  \n",
              "2                              48                  136  \n",
              "3                              25                  255  \n",
              "4                              27                  244  \n",
              "...                           ...                  ...  \n",
              "7380                           30                  219  \n",
              "7381                           29                  232  \n",
              "7382                           27                  240  \n",
              "7383                           29                  232  \n",
              "7384                           26                  248  \n",
              "\n",
              "[7385 rows x 12 columns]"
            ],
            "text/html": [
              "\n",
              "  <div id=\"df-12eff30e-2314-4367-a9ca-972a4917e6db\">\n",
              "    <div class=\"colab-df-container\">\n",
              "      <div>\n",
              "<style scoped>\n",
              "    .dataframe tbody tr th:only-of-type {\n",
              "        vertical-align: middle;\n",
              "    }\n",
              "\n",
              "    .dataframe tbody tr th {\n",
              "        vertical-align: top;\n",
              "    }\n",
              "\n",
              "    .dataframe thead th {\n",
              "        text-align: right;\n",
              "    }\n",
              "</style>\n",
              "<table border=\"1\" class=\"dataframe\">\n",
              "  <thead>\n",
              "    <tr style=\"text-align: right;\">\n",
              "      <th></th>\n",
              "      <th>Make</th>\n",
              "      <th>Model</th>\n",
              "      <th>Vehicle Class</th>\n",
              "      <th>Engine Size(L)</th>\n",
              "      <th>Cylinders</th>\n",
              "      <th>Transmission</th>\n",
              "      <th>Fuel Type</th>\n",
              "      <th>Fuel Consumption City (L/100 km)</th>\n",
              "      <th>Fuel Consumption Hwy (L/100 km)</th>\n",
              "      <th>Fuel Consumption Comb (L/100 km)</th>\n",
              "      <th>Fuel Consumption Comb (mpg)</th>\n",
              "      <th>CO2 Emissions(g/km)</th>\n",
              "    </tr>\n",
              "  </thead>\n",
              "  <tbody>\n",
              "    <tr>\n",
              "      <th>0</th>\n",
              "      <td>ACURA</td>\n",
              "      <td>ILX</td>\n",
              "      <td>COMPACT</td>\n",
              "      <td>2.0</td>\n",
              "      <td>4</td>\n",
              "      <td>AS5</td>\n",
              "      <td>Z</td>\n",
              "      <td>9.9</td>\n",
              "      <td>6.7</td>\n",
              "      <td>8.5</td>\n",
              "      <td>33</td>\n",
              "      <td>196</td>\n",
              "    </tr>\n",
              "    <tr>\n",
              "      <th>1</th>\n",
              "      <td>ACURA</td>\n",
              "      <td>ILX</td>\n",
              "      <td>COMPACT</td>\n",
              "      <td>2.4</td>\n",
              "      <td>4</td>\n",
              "      <td>M6</td>\n",
              "      <td>Z</td>\n",
              "      <td>11.2</td>\n",
              "      <td>7.7</td>\n",
              "      <td>9.6</td>\n",
              "      <td>29</td>\n",
              "      <td>221</td>\n",
              "    </tr>\n",
              "    <tr>\n",
              "      <th>2</th>\n",
              "      <td>ACURA</td>\n",
              "      <td>ILX HYBRID</td>\n",
              "      <td>COMPACT</td>\n",
              "      <td>1.5</td>\n",
              "      <td>4</td>\n",
              "      <td>AV7</td>\n",
              "      <td>Z</td>\n",
              "      <td>6.0</td>\n",
              "      <td>5.8</td>\n",
              "      <td>5.9</td>\n",
              "      <td>48</td>\n",
              "      <td>136</td>\n",
              "    </tr>\n",
              "    <tr>\n",
              "      <th>3</th>\n",
              "      <td>ACURA</td>\n",
              "      <td>MDX 4WD</td>\n",
              "      <td>SUV - SMALL</td>\n",
              "      <td>3.5</td>\n",
              "      <td>6</td>\n",
              "      <td>AS6</td>\n",
              "      <td>Z</td>\n",
              "      <td>12.7</td>\n",
              "      <td>9.1</td>\n",
              "      <td>11.1</td>\n",
              "      <td>25</td>\n",
              "      <td>255</td>\n",
              "    </tr>\n",
              "    <tr>\n",
              "      <th>4</th>\n",
              "      <td>ACURA</td>\n",
              "      <td>RDX AWD</td>\n",
              "      <td>SUV - SMALL</td>\n",
              "      <td>3.5</td>\n",
              "      <td>6</td>\n",
              "      <td>AS6</td>\n",
              "      <td>Z</td>\n",
              "      <td>12.1</td>\n",
              "      <td>8.7</td>\n",
              "      <td>10.6</td>\n",
              "      <td>27</td>\n",
              "      <td>244</td>\n",
              "    </tr>\n",
              "    <tr>\n",
              "      <th>...</th>\n",
              "      <td>...</td>\n",
              "      <td>...</td>\n",
              "      <td>...</td>\n",
              "      <td>...</td>\n",
              "      <td>...</td>\n",
              "      <td>...</td>\n",
              "      <td>...</td>\n",
              "      <td>...</td>\n",
              "      <td>...</td>\n",
              "      <td>...</td>\n",
              "      <td>...</td>\n",
              "      <td>...</td>\n",
              "    </tr>\n",
              "    <tr>\n",
              "      <th>7380</th>\n",
              "      <td>VOLVO</td>\n",
              "      <td>XC40 T5 AWD</td>\n",
              "      <td>SUV - SMALL</td>\n",
              "      <td>2.0</td>\n",
              "      <td>4</td>\n",
              "      <td>AS8</td>\n",
              "      <td>Z</td>\n",
              "      <td>10.7</td>\n",
              "      <td>7.7</td>\n",
              "      <td>9.4</td>\n",
              "      <td>30</td>\n",
              "      <td>219</td>\n",
              "    </tr>\n",
              "    <tr>\n",
              "      <th>7381</th>\n",
              "      <td>VOLVO</td>\n",
              "      <td>XC60 T5 AWD</td>\n",
              "      <td>SUV - SMALL</td>\n",
              "      <td>2.0</td>\n",
              "      <td>4</td>\n",
              "      <td>AS8</td>\n",
              "      <td>Z</td>\n",
              "      <td>11.2</td>\n",
              "      <td>8.3</td>\n",
              "      <td>9.9</td>\n",
              "      <td>29</td>\n",
              "      <td>232</td>\n",
              "    </tr>\n",
              "    <tr>\n",
              "      <th>7382</th>\n",
              "      <td>VOLVO</td>\n",
              "      <td>XC60 T6 AWD</td>\n",
              "      <td>SUV - SMALL</td>\n",
              "      <td>2.0</td>\n",
              "      <td>4</td>\n",
              "      <td>AS8</td>\n",
              "      <td>Z</td>\n",
              "      <td>11.7</td>\n",
              "      <td>8.6</td>\n",
              "      <td>10.3</td>\n",
              "      <td>27</td>\n",
              "      <td>240</td>\n",
              "    </tr>\n",
              "    <tr>\n",
              "      <th>7383</th>\n",
              "      <td>VOLVO</td>\n",
              "      <td>XC90 T5 AWD</td>\n",
              "      <td>SUV - STANDARD</td>\n",
              "      <td>2.0</td>\n",
              "      <td>4</td>\n",
              "      <td>AS8</td>\n",
              "      <td>Z</td>\n",
              "      <td>11.2</td>\n",
              "      <td>8.3</td>\n",
              "      <td>9.9</td>\n",
              "      <td>29</td>\n",
              "      <td>232</td>\n",
              "    </tr>\n",
              "    <tr>\n",
              "      <th>7384</th>\n",
              "      <td>VOLVO</td>\n",
              "      <td>XC90 T6 AWD</td>\n",
              "      <td>SUV - STANDARD</td>\n",
              "      <td>2.0</td>\n",
              "      <td>4</td>\n",
              "      <td>AS8</td>\n",
              "      <td>Z</td>\n",
              "      <td>12.2</td>\n",
              "      <td>8.7</td>\n",
              "      <td>10.7</td>\n",
              "      <td>26</td>\n",
              "      <td>248</td>\n",
              "    </tr>\n",
              "  </tbody>\n",
              "</table>\n",
              "<p>7385 rows × 12 columns</p>\n",
              "</div>\n",
              "      <button class=\"colab-df-convert\" onclick=\"convertToInteractive('df-12eff30e-2314-4367-a9ca-972a4917e6db')\"\n",
              "              title=\"Convert this dataframe to an interactive table.\"\n",
              "              style=\"display:none;\">\n",
              "        \n",
              "  <svg xmlns=\"http://www.w3.org/2000/svg\" height=\"24px\"viewBox=\"0 0 24 24\"\n",
              "       width=\"24px\">\n",
              "    <path d=\"M0 0h24v24H0V0z\" fill=\"none\"/>\n",
              "    <path d=\"M18.56 5.44l.94 2.06.94-2.06 2.06-.94-2.06-.94-.94-2.06-.94 2.06-2.06.94zm-11 1L8.5 8.5l.94-2.06 2.06-.94-2.06-.94L8.5 2.5l-.94 2.06-2.06.94zm10 10l.94 2.06.94-2.06 2.06-.94-2.06-.94-.94-2.06-.94 2.06-2.06.94z\"/><path d=\"M17.41 7.96l-1.37-1.37c-.4-.4-.92-.59-1.43-.59-.52 0-1.04.2-1.43.59L10.3 9.45l-7.72 7.72c-.78.78-.78 2.05 0 2.83L4 21.41c.39.39.9.59 1.41.59.51 0 1.02-.2 1.41-.59l7.78-7.78 2.81-2.81c.8-.78.8-2.07 0-2.86zM5.41 20L4 18.59l7.72-7.72 1.47 1.35L5.41 20z\"/>\n",
              "  </svg>\n",
              "      </button>\n",
              "      \n",
              "  <style>\n",
              "    .colab-df-container {\n",
              "      display:flex;\n",
              "      flex-wrap:wrap;\n",
              "      gap: 12px;\n",
              "    }\n",
              "\n",
              "    .colab-df-convert {\n",
              "      background-color: #E8F0FE;\n",
              "      border: none;\n",
              "      border-radius: 50%;\n",
              "      cursor: pointer;\n",
              "      display: none;\n",
              "      fill: #1967D2;\n",
              "      height: 32px;\n",
              "      padding: 0 0 0 0;\n",
              "      width: 32px;\n",
              "    }\n",
              "\n",
              "    .colab-df-convert:hover {\n",
              "      background-color: #E2EBFA;\n",
              "      box-shadow: 0px 1px 2px rgba(60, 64, 67, 0.3), 0px 1px 3px 1px rgba(60, 64, 67, 0.15);\n",
              "      fill: #174EA6;\n",
              "    }\n",
              "\n",
              "    [theme=dark] .colab-df-convert {\n",
              "      background-color: #3B4455;\n",
              "      fill: #D2E3FC;\n",
              "    }\n",
              "\n",
              "    [theme=dark] .colab-df-convert:hover {\n",
              "      background-color: #434B5C;\n",
              "      box-shadow: 0px 1px 3px 1px rgba(0, 0, 0, 0.15);\n",
              "      filter: drop-shadow(0px 1px 2px rgba(0, 0, 0, 0.3));\n",
              "      fill: #FFFFFF;\n",
              "    }\n",
              "  </style>\n",
              "\n",
              "      <script>\n",
              "        const buttonEl =\n",
              "          document.querySelector('#df-12eff30e-2314-4367-a9ca-972a4917e6db button.colab-df-convert');\n",
              "        buttonEl.style.display =\n",
              "          google.colab.kernel.accessAllowed ? 'block' : 'none';\n",
              "\n",
              "        async function convertToInteractive(key) {\n",
              "          const element = document.querySelector('#df-12eff30e-2314-4367-a9ca-972a4917e6db');\n",
              "          const dataTable =\n",
              "            await google.colab.kernel.invokeFunction('convertToInteractive',\n",
              "                                                     [key], {});\n",
              "          if (!dataTable) return;\n",
              "\n",
              "          const docLinkHtml = 'Like what you see? Visit the ' +\n",
              "            '<a target=\"_blank\" href=https://colab.research.google.com/notebooks/data_table.ipynb>data table notebook</a>'\n",
              "            + ' to learn more about interactive tables.';\n",
              "          element.innerHTML = '';\n",
              "          dataTable['output_type'] = 'display_data';\n",
              "          await google.colab.output.renderOutput(dataTable, element);\n",
              "          const docLink = document.createElement('div');\n",
              "          docLink.innerHTML = docLinkHtml;\n",
              "          element.appendChild(docLink);\n",
              "        }\n",
              "      </script>\n",
              "    </div>\n",
              "  </div>\n",
              "  "
            ]
          },
          "metadata": {},
          "execution_count": 116
        }
      ]
    },
    {
      "cell_type": "code",
      "source": [
        "carbon.shape"
      ],
      "metadata": {
        "id": "M1ALzUa4hUrN",
        "colab": {
          "base_uri": "https://localhost:8080/"
        },
        "outputId": "f4aca384-3571-4feb-9202-43b73c10c397"
      },
      "execution_count": 117,
      "outputs": [
        {
          "output_type": "execute_result",
          "data": {
            "text/plain": [
              "(7385, 12)"
            ]
          },
          "metadata": {},
          "execution_count": 117
        }
      ]
    },
    {
      "cell_type": "markdown",
      "source": [
        "Data ini memiliki 7385 baris dan 12 kolom"
      ],
      "metadata": {
        "id": "T745M1INnLOp"
      }
    },
    {
      "cell_type": "markdown",
      "source": [
        "Memeriksa nilai deskriptif menggunakan .info() :"
      ],
      "metadata": {
        "id": "prDe3tV8npyH"
      }
    },
    {
      "cell_type": "code",
      "source": [
        "carbon.info()"
      ],
      "metadata": {
        "id": "N65ZUw4r-sXu",
        "colab": {
          "base_uri": "https://localhost:8080/"
        },
        "outputId": "7617c862-b03d-4a76-a79b-c50312b15ff7"
      },
      "execution_count": 118,
      "outputs": [
        {
          "output_type": "stream",
          "name": "stdout",
          "text": [
            "<class 'pandas.core.frame.DataFrame'>\n",
            "RangeIndex: 7385 entries, 0 to 7384\n",
            "Data columns (total 12 columns):\n",
            " #   Column                            Non-Null Count  Dtype  \n",
            "---  ------                            --------------  -----  \n",
            " 0   Make                              7385 non-null   object \n",
            " 1   Model                             7385 non-null   object \n",
            " 2   Vehicle Class                     7385 non-null   object \n",
            " 3   Engine Size(L)                    7385 non-null   float64\n",
            " 4   Cylinders                         7385 non-null   int64  \n",
            " 5   Transmission                      7385 non-null   object \n",
            " 6   Fuel Type                         7385 non-null   object \n",
            " 7   Fuel Consumption City (L/100 km)  7385 non-null   float64\n",
            " 8   Fuel Consumption Hwy (L/100 km)   7385 non-null   float64\n",
            " 9   Fuel Consumption Comb (L/100 km)  7385 non-null   float64\n",
            " 10  Fuel Consumption Comb (mpg)       7385 non-null   int64  \n",
            " 11  CO2 Emissions(g/km)               7385 non-null   int64  \n",
            "dtypes: float64(4), int64(3), object(5)\n",
            "memory usage: 692.5+ KB\n"
          ]
        }
      ]
    },
    {
      "cell_type": "code",
      "source": [
        "carbon.describe()"
      ],
      "metadata": {
        "id": "PBYCdqcB-veI",
        "colab": {
          "base_uri": "https://localhost:8080/",
          "height": 361
        },
        "outputId": "66f9f1e0-9605-46f9-fdc5-0275930d7fa3"
      },
      "execution_count": 119,
      "outputs": [
        {
          "output_type": "execute_result",
          "data": {
            "text/plain": [
              "       Engine Size(L)    Cylinders  Fuel Consumption City (L/100 km)  \\\n",
              "count     7385.000000  7385.000000                       7385.000000   \n",
              "mean         3.160068     5.615030                         12.556534   \n",
              "std          1.354170     1.828307                          3.500274   \n",
              "min          0.900000     3.000000                          4.200000   \n",
              "25%          2.000000     4.000000                         10.100000   \n",
              "50%          3.000000     6.000000                         12.100000   \n",
              "75%          3.700000     6.000000                         14.600000   \n",
              "max          8.400000    16.000000                         30.600000   \n",
              "\n",
              "       Fuel Consumption Hwy (L/100 km)  Fuel Consumption Comb (L/100 km)  \\\n",
              "count                      7385.000000                       7385.000000   \n",
              "mean                          9.041706                         10.975071   \n",
              "std                           2.224456                          2.892506   \n",
              "min                           4.000000                          4.100000   \n",
              "25%                           7.500000                          8.900000   \n",
              "50%                           8.700000                         10.600000   \n",
              "75%                          10.200000                         12.600000   \n",
              "max                          20.600000                         26.100000   \n",
              "\n",
              "       Fuel Consumption Comb (mpg)  CO2 Emissions(g/km)  \n",
              "count                  7385.000000          7385.000000  \n",
              "mean                     27.481652           250.584699  \n",
              "std                       7.231879            58.512679  \n",
              "min                      11.000000            96.000000  \n",
              "25%                      22.000000           208.000000  \n",
              "50%                      27.000000           246.000000  \n",
              "75%                      32.000000           288.000000  \n",
              "max                      69.000000           522.000000  "
            ],
            "text/html": [
              "\n",
              "  <div id=\"df-3c261e86-529f-49c8-a5f6-f282191e732e\">\n",
              "    <div class=\"colab-df-container\">\n",
              "      <div>\n",
              "<style scoped>\n",
              "    .dataframe tbody tr th:only-of-type {\n",
              "        vertical-align: middle;\n",
              "    }\n",
              "\n",
              "    .dataframe tbody tr th {\n",
              "        vertical-align: top;\n",
              "    }\n",
              "\n",
              "    .dataframe thead th {\n",
              "        text-align: right;\n",
              "    }\n",
              "</style>\n",
              "<table border=\"1\" class=\"dataframe\">\n",
              "  <thead>\n",
              "    <tr style=\"text-align: right;\">\n",
              "      <th></th>\n",
              "      <th>Engine Size(L)</th>\n",
              "      <th>Cylinders</th>\n",
              "      <th>Fuel Consumption City (L/100 km)</th>\n",
              "      <th>Fuel Consumption Hwy (L/100 km)</th>\n",
              "      <th>Fuel Consumption Comb (L/100 km)</th>\n",
              "      <th>Fuel Consumption Comb (mpg)</th>\n",
              "      <th>CO2 Emissions(g/km)</th>\n",
              "    </tr>\n",
              "  </thead>\n",
              "  <tbody>\n",
              "    <tr>\n",
              "      <th>count</th>\n",
              "      <td>7385.000000</td>\n",
              "      <td>7385.000000</td>\n",
              "      <td>7385.000000</td>\n",
              "      <td>7385.000000</td>\n",
              "      <td>7385.000000</td>\n",
              "      <td>7385.000000</td>\n",
              "      <td>7385.000000</td>\n",
              "    </tr>\n",
              "    <tr>\n",
              "      <th>mean</th>\n",
              "      <td>3.160068</td>\n",
              "      <td>5.615030</td>\n",
              "      <td>12.556534</td>\n",
              "      <td>9.041706</td>\n",
              "      <td>10.975071</td>\n",
              "      <td>27.481652</td>\n",
              "      <td>250.584699</td>\n",
              "    </tr>\n",
              "    <tr>\n",
              "      <th>std</th>\n",
              "      <td>1.354170</td>\n",
              "      <td>1.828307</td>\n",
              "      <td>3.500274</td>\n",
              "      <td>2.224456</td>\n",
              "      <td>2.892506</td>\n",
              "      <td>7.231879</td>\n",
              "      <td>58.512679</td>\n",
              "    </tr>\n",
              "    <tr>\n",
              "      <th>min</th>\n",
              "      <td>0.900000</td>\n",
              "      <td>3.000000</td>\n",
              "      <td>4.200000</td>\n",
              "      <td>4.000000</td>\n",
              "      <td>4.100000</td>\n",
              "      <td>11.000000</td>\n",
              "      <td>96.000000</td>\n",
              "    </tr>\n",
              "    <tr>\n",
              "      <th>25%</th>\n",
              "      <td>2.000000</td>\n",
              "      <td>4.000000</td>\n",
              "      <td>10.100000</td>\n",
              "      <td>7.500000</td>\n",
              "      <td>8.900000</td>\n",
              "      <td>22.000000</td>\n",
              "      <td>208.000000</td>\n",
              "    </tr>\n",
              "    <tr>\n",
              "      <th>50%</th>\n",
              "      <td>3.000000</td>\n",
              "      <td>6.000000</td>\n",
              "      <td>12.100000</td>\n",
              "      <td>8.700000</td>\n",
              "      <td>10.600000</td>\n",
              "      <td>27.000000</td>\n",
              "      <td>246.000000</td>\n",
              "    </tr>\n",
              "    <tr>\n",
              "      <th>75%</th>\n",
              "      <td>3.700000</td>\n",
              "      <td>6.000000</td>\n",
              "      <td>14.600000</td>\n",
              "      <td>10.200000</td>\n",
              "      <td>12.600000</td>\n",
              "      <td>32.000000</td>\n",
              "      <td>288.000000</td>\n",
              "    </tr>\n",
              "    <tr>\n",
              "      <th>max</th>\n",
              "      <td>8.400000</td>\n",
              "      <td>16.000000</td>\n",
              "      <td>30.600000</td>\n",
              "      <td>20.600000</td>\n",
              "      <td>26.100000</td>\n",
              "      <td>69.000000</td>\n",
              "      <td>522.000000</td>\n",
              "    </tr>\n",
              "  </tbody>\n",
              "</table>\n",
              "</div>\n",
              "      <button class=\"colab-df-convert\" onclick=\"convertToInteractive('df-3c261e86-529f-49c8-a5f6-f282191e732e')\"\n",
              "              title=\"Convert this dataframe to an interactive table.\"\n",
              "              style=\"display:none;\">\n",
              "        \n",
              "  <svg xmlns=\"http://www.w3.org/2000/svg\" height=\"24px\"viewBox=\"0 0 24 24\"\n",
              "       width=\"24px\">\n",
              "    <path d=\"M0 0h24v24H0V0z\" fill=\"none\"/>\n",
              "    <path d=\"M18.56 5.44l.94 2.06.94-2.06 2.06-.94-2.06-.94-.94-2.06-.94 2.06-2.06.94zm-11 1L8.5 8.5l.94-2.06 2.06-.94-2.06-.94L8.5 2.5l-.94 2.06-2.06.94zm10 10l.94 2.06.94-2.06 2.06-.94-2.06-.94-.94-2.06-.94 2.06-2.06.94z\"/><path d=\"M17.41 7.96l-1.37-1.37c-.4-.4-.92-.59-1.43-.59-.52 0-1.04.2-1.43.59L10.3 9.45l-7.72 7.72c-.78.78-.78 2.05 0 2.83L4 21.41c.39.39.9.59 1.41.59.51 0 1.02-.2 1.41-.59l7.78-7.78 2.81-2.81c.8-.78.8-2.07 0-2.86zM5.41 20L4 18.59l7.72-7.72 1.47 1.35L5.41 20z\"/>\n",
              "  </svg>\n",
              "      </button>\n",
              "      \n",
              "  <style>\n",
              "    .colab-df-container {\n",
              "      display:flex;\n",
              "      flex-wrap:wrap;\n",
              "      gap: 12px;\n",
              "    }\n",
              "\n",
              "    .colab-df-convert {\n",
              "      background-color: #E8F0FE;\n",
              "      border: none;\n",
              "      border-radius: 50%;\n",
              "      cursor: pointer;\n",
              "      display: none;\n",
              "      fill: #1967D2;\n",
              "      height: 32px;\n",
              "      padding: 0 0 0 0;\n",
              "      width: 32px;\n",
              "    }\n",
              "\n",
              "    .colab-df-convert:hover {\n",
              "      background-color: #E2EBFA;\n",
              "      box-shadow: 0px 1px 2px rgba(60, 64, 67, 0.3), 0px 1px 3px 1px rgba(60, 64, 67, 0.15);\n",
              "      fill: #174EA6;\n",
              "    }\n",
              "\n",
              "    [theme=dark] .colab-df-convert {\n",
              "      background-color: #3B4455;\n",
              "      fill: #D2E3FC;\n",
              "    }\n",
              "\n",
              "    [theme=dark] .colab-df-convert:hover {\n",
              "      background-color: #434B5C;\n",
              "      box-shadow: 0px 1px 3px 1px rgba(0, 0, 0, 0.15);\n",
              "      filter: drop-shadow(0px 1px 2px rgba(0, 0, 0, 0.3));\n",
              "      fill: #FFFFFF;\n",
              "    }\n",
              "  </style>\n",
              "\n",
              "      <script>\n",
              "        const buttonEl =\n",
              "          document.querySelector('#df-3c261e86-529f-49c8-a5f6-f282191e732e button.colab-df-convert');\n",
              "        buttonEl.style.display =\n",
              "          google.colab.kernel.accessAllowed ? 'block' : 'none';\n",
              "\n",
              "        async function convertToInteractive(key) {\n",
              "          const element = document.querySelector('#df-3c261e86-529f-49c8-a5f6-f282191e732e');\n",
              "          const dataTable =\n",
              "            await google.colab.kernel.invokeFunction('convertToInteractive',\n",
              "                                                     [key], {});\n",
              "          if (!dataTable) return;\n",
              "\n",
              "          const docLinkHtml = 'Like what you see? Visit the ' +\n",
              "            '<a target=\"_blank\" href=https://colab.research.google.com/notebooks/data_table.ipynb>data table notebook</a>'\n",
              "            + ' to learn more about interactive tables.';\n",
              "          element.innerHTML = '';\n",
              "          dataTable['output_type'] = 'display_data';\n",
              "          await google.colab.output.renderOutput(dataTable, element);\n",
              "          const docLink = document.createElement('div');\n",
              "          docLink.innerHTML = docLinkHtml;\n",
              "          element.appendChild(docLink);\n",
              "        }\n",
              "      </script>\n",
              "    </div>\n",
              "  </div>\n",
              "  "
            ]
          },
          "metadata": {},
          "execution_count": 119
        }
      ]
    },
    {
      "cell_type": "markdown",
      "source": [
        "Memeriksa apakah ada nilai yang hilang dalam kumpulan data yang diperoleh"
      ],
      "metadata": {
        "id": "pTK9MBLSn0pv"
      }
    },
    {
      "cell_type": "code",
      "source": [
        "carbon.isna().sum()"
      ],
      "metadata": {
        "id": "zQld2I_V-4Tn",
        "colab": {
          "base_uri": "https://localhost:8080/"
        },
        "outputId": "4e7178d5-a596-4638-be4b-1790f874d834"
      },
      "execution_count": 120,
      "outputs": [
        {
          "output_type": "execute_result",
          "data": {
            "text/plain": [
              "Make                                0\n",
              "Model                               0\n",
              "Vehicle Class                       0\n",
              "Engine Size(L)                      0\n",
              "Cylinders                           0\n",
              "Transmission                        0\n",
              "Fuel Type                           0\n",
              "Fuel Consumption City (L/100 km)    0\n",
              "Fuel Consumption Hwy (L/100 km)     0\n",
              "Fuel Consumption Comb (L/100 km)    0\n",
              "Fuel Consumption Comb (mpg)         0\n",
              "CO2 Emissions(g/km)                 0\n",
              "dtype: int64"
            ]
          },
          "metadata": {},
          "execution_count": 120
        }
      ]
    },
    {
      "cell_type": "code",
      "source": [
        "carbon.head()"
      ],
      "metadata": {
        "id": "xhSLtkfC_BHF",
        "colab": {
          "base_uri": "https://localhost:8080/",
          "height": 319
        },
        "outputId": "3df8ab8d-7339-46a9-ac9f-4e2d0f68ce36"
      },
      "execution_count": 121,
      "outputs": [
        {
          "output_type": "execute_result",
          "data": {
            "text/plain": [
              "    Make       Model Vehicle Class  Engine Size(L)  Cylinders Transmission  \\\n",
              "0  ACURA         ILX       COMPACT             2.0          4          AS5   \n",
              "1  ACURA         ILX       COMPACT             2.4          4           M6   \n",
              "2  ACURA  ILX HYBRID       COMPACT             1.5          4          AV7   \n",
              "3  ACURA     MDX 4WD   SUV - SMALL             3.5          6          AS6   \n",
              "4  ACURA     RDX AWD   SUV - SMALL             3.5          6          AS6   \n",
              "\n",
              "  Fuel Type  Fuel Consumption City (L/100 km)  \\\n",
              "0         Z                               9.9   \n",
              "1         Z                              11.2   \n",
              "2         Z                               6.0   \n",
              "3         Z                              12.7   \n",
              "4         Z                              12.1   \n",
              "\n",
              "   Fuel Consumption Hwy (L/100 km)  Fuel Consumption Comb (L/100 km)  \\\n",
              "0                              6.7                               8.5   \n",
              "1                              7.7                               9.6   \n",
              "2                              5.8                               5.9   \n",
              "3                              9.1                              11.1   \n",
              "4                              8.7                              10.6   \n",
              "\n",
              "   Fuel Consumption Comb (mpg)  CO2 Emissions(g/km)  \n",
              "0                           33                  196  \n",
              "1                           29                  221  \n",
              "2                           48                  136  \n",
              "3                           25                  255  \n",
              "4                           27                  244  "
            ],
            "text/html": [
              "\n",
              "  <div id=\"df-e30d0b1b-6992-4ed9-9732-85fbd8bd98cf\">\n",
              "    <div class=\"colab-df-container\">\n",
              "      <div>\n",
              "<style scoped>\n",
              "    .dataframe tbody tr th:only-of-type {\n",
              "        vertical-align: middle;\n",
              "    }\n",
              "\n",
              "    .dataframe tbody tr th {\n",
              "        vertical-align: top;\n",
              "    }\n",
              "\n",
              "    .dataframe thead th {\n",
              "        text-align: right;\n",
              "    }\n",
              "</style>\n",
              "<table border=\"1\" class=\"dataframe\">\n",
              "  <thead>\n",
              "    <tr style=\"text-align: right;\">\n",
              "      <th></th>\n",
              "      <th>Make</th>\n",
              "      <th>Model</th>\n",
              "      <th>Vehicle Class</th>\n",
              "      <th>Engine Size(L)</th>\n",
              "      <th>Cylinders</th>\n",
              "      <th>Transmission</th>\n",
              "      <th>Fuel Type</th>\n",
              "      <th>Fuel Consumption City (L/100 km)</th>\n",
              "      <th>Fuel Consumption Hwy (L/100 km)</th>\n",
              "      <th>Fuel Consumption Comb (L/100 km)</th>\n",
              "      <th>Fuel Consumption Comb (mpg)</th>\n",
              "      <th>CO2 Emissions(g/km)</th>\n",
              "    </tr>\n",
              "  </thead>\n",
              "  <tbody>\n",
              "    <tr>\n",
              "      <th>0</th>\n",
              "      <td>ACURA</td>\n",
              "      <td>ILX</td>\n",
              "      <td>COMPACT</td>\n",
              "      <td>2.0</td>\n",
              "      <td>4</td>\n",
              "      <td>AS5</td>\n",
              "      <td>Z</td>\n",
              "      <td>9.9</td>\n",
              "      <td>6.7</td>\n",
              "      <td>8.5</td>\n",
              "      <td>33</td>\n",
              "      <td>196</td>\n",
              "    </tr>\n",
              "    <tr>\n",
              "      <th>1</th>\n",
              "      <td>ACURA</td>\n",
              "      <td>ILX</td>\n",
              "      <td>COMPACT</td>\n",
              "      <td>2.4</td>\n",
              "      <td>4</td>\n",
              "      <td>M6</td>\n",
              "      <td>Z</td>\n",
              "      <td>11.2</td>\n",
              "      <td>7.7</td>\n",
              "      <td>9.6</td>\n",
              "      <td>29</td>\n",
              "      <td>221</td>\n",
              "    </tr>\n",
              "    <tr>\n",
              "      <th>2</th>\n",
              "      <td>ACURA</td>\n",
              "      <td>ILX HYBRID</td>\n",
              "      <td>COMPACT</td>\n",
              "      <td>1.5</td>\n",
              "      <td>4</td>\n",
              "      <td>AV7</td>\n",
              "      <td>Z</td>\n",
              "      <td>6.0</td>\n",
              "      <td>5.8</td>\n",
              "      <td>5.9</td>\n",
              "      <td>48</td>\n",
              "      <td>136</td>\n",
              "    </tr>\n",
              "    <tr>\n",
              "      <th>3</th>\n",
              "      <td>ACURA</td>\n",
              "      <td>MDX 4WD</td>\n",
              "      <td>SUV - SMALL</td>\n",
              "      <td>3.5</td>\n",
              "      <td>6</td>\n",
              "      <td>AS6</td>\n",
              "      <td>Z</td>\n",
              "      <td>12.7</td>\n",
              "      <td>9.1</td>\n",
              "      <td>11.1</td>\n",
              "      <td>25</td>\n",
              "      <td>255</td>\n",
              "    </tr>\n",
              "    <tr>\n",
              "      <th>4</th>\n",
              "      <td>ACURA</td>\n",
              "      <td>RDX AWD</td>\n",
              "      <td>SUV - SMALL</td>\n",
              "      <td>3.5</td>\n",
              "      <td>6</td>\n",
              "      <td>AS6</td>\n",
              "      <td>Z</td>\n",
              "      <td>12.1</td>\n",
              "      <td>8.7</td>\n",
              "      <td>10.6</td>\n",
              "      <td>27</td>\n",
              "      <td>244</td>\n",
              "    </tr>\n",
              "  </tbody>\n",
              "</table>\n",
              "</div>\n",
              "      <button class=\"colab-df-convert\" onclick=\"convertToInteractive('df-e30d0b1b-6992-4ed9-9732-85fbd8bd98cf')\"\n",
              "              title=\"Convert this dataframe to an interactive table.\"\n",
              "              style=\"display:none;\">\n",
              "        \n",
              "  <svg xmlns=\"http://www.w3.org/2000/svg\" height=\"24px\"viewBox=\"0 0 24 24\"\n",
              "       width=\"24px\">\n",
              "    <path d=\"M0 0h24v24H0V0z\" fill=\"none\"/>\n",
              "    <path d=\"M18.56 5.44l.94 2.06.94-2.06 2.06-.94-2.06-.94-.94-2.06-.94 2.06-2.06.94zm-11 1L8.5 8.5l.94-2.06 2.06-.94-2.06-.94L8.5 2.5l-.94 2.06-2.06.94zm10 10l.94 2.06.94-2.06 2.06-.94-2.06-.94-.94-2.06-.94 2.06-2.06.94z\"/><path d=\"M17.41 7.96l-1.37-1.37c-.4-.4-.92-.59-1.43-.59-.52 0-1.04.2-1.43.59L10.3 9.45l-7.72 7.72c-.78.78-.78 2.05 0 2.83L4 21.41c.39.39.9.59 1.41.59.51 0 1.02-.2 1.41-.59l7.78-7.78 2.81-2.81c.8-.78.8-2.07 0-2.86zM5.41 20L4 18.59l7.72-7.72 1.47 1.35L5.41 20z\"/>\n",
              "  </svg>\n",
              "      </button>\n",
              "      \n",
              "  <style>\n",
              "    .colab-df-container {\n",
              "      display:flex;\n",
              "      flex-wrap:wrap;\n",
              "      gap: 12px;\n",
              "    }\n",
              "\n",
              "    .colab-df-convert {\n",
              "      background-color: #E8F0FE;\n",
              "      border: none;\n",
              "      border-radius: 50%;\n",
              "      cursor: pointer;\n",
              "      display: none;\n",
              "      fill: #1967D2;\n",
              "      height: 32px;\n",
              "      padding: 0 0 0 0;\n",
              "      width: 32px;\n",
              "    }\n",
              "\n",
              "    .colab-df-convert:hover {\n",
              "      background-color: #E2EBFA;\n",
              "      box-shadow: 0px 1px 2px rgba(60, 64, 67, 0.3), 0px 1px 3px 1px rgba(60, 64, 67, 0.15);\n",
              "      fill: #174EA6;\n",
              "    }\n",
              "\n",
              "    [theme=dark] .colab-df-convert {\n",
              "      background-color: #3B4455;\n",
              "      fill: #D2E3FC;\n",
              "    }\n",
              "\n",
              "    [theme=dark] .colab-df-convert:hover {\n",
              "      background-color: #434B5C;\n",
              "      box-shadow: 0px 1px 3px 1px rgba(0, 0, 0, 0.15);\n",
              "      filter: drop-shadow(0px 1px 2px rgba(0, 0, 0, 0.3));\n",
              "      fill: #FFFFFF;\n",
              "    }\n",
              "  </style>\n",
              "\n",
              "      <script>\n",
              "        const buttonEl =\n",
              "          document.querySelector('#df-e30d0b1b-6992-4ed9-9732-85fbd8bd98cf button.colab-df-convert');\n",
              "        buttonEl.style.display =\n",
              "          google.colab.kernel.accessAllowed ? 'block' : 'none';\n",
              "\n",
              "        async function convertToInteractive(key) {\n",
              "          const element = document.querySelector('#df-e30d0b1b-6992-4ed9-9732-85fbd8bd98cf');\n",
              "          const dataTable =\n",
              "            await google.colab.kernel.invokeFunction('convertToInteractive',\n",
              "                                                     [key], {});\n",
              "          if (!dataTable) return;\n",
              "\n",
              "          const docLinkHtml = 'Like what you see? Visit the ' +\n",
              "            '<a target=\"_blank\" href=https://colab.research.google.com/notebooks/data_table.ipynb>data table notebook</a>'\n",
              "            + ' to learn more about interactive tables.';\n",
              "          element.innerHTML = '';\n",
              "          dataTable['output_type'] = 'display_data';\n",
              "          await google.colab.output.renderOutput(dataTable, element);\n",
              "          const docLink = document.createElement('div');\n",
              "          docLink.innerHTML = docLinkHtml;\n",
              "          element.appendChild(docLink);\n",
              "        }\n",
              "      </script>\n",
              "    </div>\n",
              "  </div>\n",
              "  "
            ]
          },
          "metadata": {},
          "execution_count": 121
        }
      ]
    },
    {
      "cell_type": "code",
      "source": [
        "carbon.tail()"
      ],
      "metadata": {
        "id": "lGh-JK8QHnOQ",
        "colab": {
          "base_uri": "https://localhost:8080/",
          "height": 354
        },
        "outputId": "00e48f48-bc45-424b-df24-77e950638aff"
      },
      "execution_count": 122,
      "outputs": [
        {
          "output_type": "execute_result",
          "data": {
            "text/plain": [
              "       Make        Model   Vehicle Class  Engine Size(L)  Cylinders  \\\n",
              "7380  VOLVO  XC40 T5 AWD     SUV - SMALL             2.0          4   \n",
              "7381  VOLVO  XC60 T5 AWD     SUV - SMALL             2.0          4   \n",
              "7382  VOLVO  XC60 T6 AWD     SUV - SMALL             2.0          4   \n",
              "7383  VOLVO  XC90 T5 AWD  SUV - STANDARD             2.0          4   \n",
              "7384  VOLVO  XC90 T6 AWD  SUV - STANDARD             2.0          4   \n",
              "\n",
              "     Transmission Fuel Type  Fuel Consumption City (L/100 km)  \\\n",
              "7380          AS8         Z                              10.7   \n",
              "7381          AS8         Z                              11.2   \n",
              "7382          AS8         Z                              11.7   \n",
              "7383          AS8         Z                              11.2   \n",
              "7384          AS8         Z                              12.2   \n",
              "\n",
              "      Fuel Consumption Hwy (L/100 km)  Fuel Consumption Comb (L/100 km)  \\\n",
              "7380                              7.7                               9.4   \n",
              "7381                              8.3                               9.9   \n",
              "7382                              8.6                              10.3   \n",
              "7383                              8.3                               9.9   \n",
              "7384                              8.7                              10.7   \n",
              "\n",
              "      Fuel Consumption Comb (mpg)  CO2 Emissions(g/km)  \n",
              "7380                           30                  219  \n",
              "7381                           29                  232  \n",
              "7382                           27                  240  \n",
              "7383                           29                  232  \n",
              "7384                           26                  248  "
            ],
            "text/html": [
              "\n",
              "  <div id=\"df-55c71b6c-adc7-495d-b0ca-1438dd51ff4d\">\n",
              "    <div class=\"colab-df-container\">\n",
              "      <div>\n",
              "<style scoped>\n",
              "    .dataframe tbody tr th:only-of-type {\n",
              "        vertical-align: middle;\n",
              "    }\n",
              "\n",
              "    .dataframe tbody tr th {\n",
              "        vertical-align: top;\n",
              "    }\n",
              "\n",
              "    .dataframe thead th {\n",
              "        text-align: right;\n",
              "    }\n",
              "</style>\n",
              "<table border=\"1\" class=\"dataframe\">\n",
              "  <thead>\n",
              "    <tr style=\"text-align: right;\">\n",
              "      <th></th>\n",
              "      <th>Make</th>\n",
              "      <th>Model</th>\n",
              "      <th>Vehicle Class</th>\n",
              "      <th>Engine Size(L)</th>\n",
              "      <th>Cylinders</th>\n",
              "      <th>Transmission</th>\n",
              "      <th>Fuel Type</th>\n",
              "      <th>Fuel Consumption City (L/100 km)</th>\n",
              "      <th>Fuel Consumption Hwy (L/100 km)</th>\n",
              "      <th>Fuel Consumption Comb (L/100 km)</th>\n",
              "      <th>Fuel Consumption Comb (mpg)</th>\n",
              "      <th>CO2 Emissions(g/km)</th>\n",
              "    </tr>\n",
              "  </thead>\n",
              "  <tbody>\n",
              "    <tr>\n",
              "      <th>7380</th>\n",
              "      <td>VOLVO</td>\n",
              "      <td>XC40 T5 AWD</td>\n",
              "      <td>SUV - SMALL</td>\n",
              "      <td>2.0</td>\n",
              "      <td>4</td>\n",
              "      <td>AS8</td>\n",
              "      <td>Z</td>\n",
              "      <td>10.7</td>\n",
              "      <td>7.7</td>\n",
              "      <td>9.4</td>\n",
              "      <td>30</td>\n",
              "      <td>219</td>\n",
              "    </tr>\n",
              "    <tr>\n",
              "      <th>7381</th>\n",
              "      <td>VOLVO</td>\n",
              "      <td>XC60 T5 AWD</td>\n",
              "      <td>SUV - SMALL</td>\n",
              "      <td>2.0</td>\n",
              "      <td>4</td>\n",
              "      <td>AS8</td>\n",
              "      <td>Z</td>\n",
              "      <td>11.2</td>\n",
              "      <td>8.3</td>\n",
              "      <td>9.9</td>\n",
              "      <td>29</td>\n",
              "      <td>232</td>\n",
              "    </tr>\n",
              "    <tr>\n",
              "      <th>7382</th>\n",
              "      <td>VOLVO</td>\n",
              "      <td>XC60 T6 AWD</td>\n",
              "      <td>SUV - SMALL</td>\n",
              "      <td>2.0</td>\n",
              "      <td>4</td>\n",
              "      <td>AS8</td>\n",
              "      <td>Z</td>\n",
              "      <td>11.7</td>\n",
              "      <td>8.6</td>\n",
              "      <td>10.3</td>\n",
              "      <td>27</td>\n",
              "      <td>240</td>\n",
              "    </tr>\n",
              "    <tr>\n",
              "      <th>7383</th>\n",
              "      <td>VOLVO</td>\n",
              "      <td>XC90 T5 AWD</td>\n",
              "      <td>SUV - STANDARD</td>\n",
              "      <td>2.0</td>\n",
              "      <td>4</td>\n",
              "      <td>AS8</td>\n",
              "      <td>Z</td>\n",
              "      <td>11.2</td>\n",
              "      <td>8.3</td>\n",
              "      <td>9.9</td>\n",
              "      <td>29</td>\n",
              "      <td>232</td>\n",
              "    </tr>\n",
              "    <tr>\n",
              "      <th>7384</th>\n",
              "      <td>VOLVO</td>\n",
              "      <td>XC90 T6 AWD</td>\n",
              "      <td>SUV - STANDARD</td>\n",
              "      <td>2.0</td>\n",
              "      <td>4</td>\n",
              "      <td>AS8</td>\n",
              "      <td>Z</td>\n",
              "      <td>12.2</td>\n",
              "      <td>8.7</td>\n",
              "      <td>10.7</td>\n",
              "      <td>26</td>\n",
              "      <td>248</td>\n",
              "    </tr>\n",
              "  </tbody>\n",
              "</table>\n",
              "</div>\n",
              "      <button class=\"colab-df-convert\" onclick=\"convertToInteractive('df-55c71b6c-adc7-495d-b0ca-1438dd51ff4d')\"\n",
              "              title=\"Convert this dataframe to an interactive table.\"\n",
              "              style=\"display:none;\">\n",
              "        \n",
              "  <svg xmlns=\"http://www.w3.org/2000/svg\" height=\"24px\"viewBox=\"0 0 24 24\"\n",
              "       width=\"24px\">\n",
              "    <path d=\"M0 0h24v24H0V0z\" fill=\"none\"/>\n",
              "    <path d=\"M18.56 5.44l.94 2.06.94-2.06 2.06-.94-2.06-.94-.94-2.06-.94 2.06-2.06.94zm-11 1L8.5 8.5l.94-2.06 2.06-.94-2.06-.94L8.5 2.5l-.94 2.06-2.06.94zm10 10l.94 2.06.94-2.06 2.06-.94-2.06-.94-.94-2.06-.94 2.06-2.06.94z\"/><path d=\"M17.41 7.96l-1.37-1.37c-.4-.4-.92-.59-1.43-.59-.52 0-1.04.2-1.43.59L10.3 9.45l-7.72 7.72c-.78.78-.78 2.05 0 2.83L4 21.41c.39.39.9.59 1.41.59.51 0 1.02-.2 1.41-.59l7.78-7.78 2.81-2.81c.8-.78.8-2.07 0-2.86zM5.41 20L4 18.59l7.72-7.72 1.47 1.35L5.41 20z\"/>\n",
              "  </svg>\n",
              "      </button>\n",
              "      \n",
              "  <style>\n",
              "    .colab-df-container {\n",
              "      display:flex;\n",
              "      flex-wrap:wrap;\n",
              "      gap: 12px;\n",
              "    }\n",
              "\n",
              "    .colab-df-convert {\n",
              "      background-color: #E8F0FE;\n",
              "      border: none;\n",
              "      border-radius: 50%;\n",
              "      cursor: pointer;\n",
              "      display: none;\n",
              "      fill: #1967D2;\n",
              "      height: 32px;\n",
              "      padding: 0 0 0 0;\n",
              "      width: 32px;\n",
              "    }\n",
              "\n",
              "    .colab-df-convert:hover {\n",
              "      background-color: #E2EBFA;\n",
              "      box-shadow: 0px 1px 2px rgba(60, 64, 67, 0.3), 0px 1px 3px 1px rgba(60, 64, 67, 0.15);\n",
              "      fill: #174EA6;\n",
              "    }\n",
              "\n",
              "    [theme=dark] .colab-df-convert {\n",
              "      background-color: #3B4455;\n",
              "      fill: #D2E3FC;\n",
              "    }\n",
              "\n",
              "    [theme=dark] .colab-df-convert:hover {\n",
              "      background-color: #434B5C;\n",
              "      box-shadow: 0px 1px 3px 1px rgba(0, 0, 0, 0.15);\n",
              "      filter: drop-shadow(0px 1px 2px rgba(0, 0, 0, 0.3));\n",
              "      fill: #FFFFFF;\n",
              "    }\n",
              "  </style>\n",
              "\n",
              "      <script>\n",
              "        const buttonEl =\n",
              "          document.querySelector('#df-55c71b6c-adc7-495d-b0ca-1438dd51ff4d button.colab-df-convert');\n",
              "        buttonEl.style.display =\n",
              "          google.colab.kernel.accessAllowed ? 'block' : 'none';\n",
              "\n",
              "        async function convertToInteractive(key) {\n",
              "          const element = document.querySelector('#df-55c71b6c-adc7-495d-b0ca-1438dd51ff4d');\n",
              "          const dataTable =\n",
              "            await google.colab.kernel.invokeFunction('convertToInteractive',\n",
              "                                                     [key], {});\n",
              "          if (!dataTable) return;\n",
              "\n",
              "          const docLinkHtml = 'Like what you see? Visit the ' +\n",
              "            '<a target=\"_blank\" href=https://colab.research.google.com/notebooks/data_table.ipynb>data table notebook</a>'\n",
              "            + ' to learn more about interactive tables.';\n",
              "          element.innerHTML = '';\n",
              "          dataTable['output_type'] = 'display_data';\n",
              "          await google.colab.output.renderOutput(dataTable, element);\n",
              "          const docLink = document.createElement('div');\n",
              "          docLink.innerHTML = docLinkHtml;\n",
              "          element.appendChild(docLink);\n",
              "        }\n",
              "      </script>\n",
              "    </div>\n",
              "  </div>\n",
              "  "
            ]
          },
          "metadata": {},
          "execution_count": 122
        }
      ]
    },
    {
      "cell_type": "markdown",
      "source": [
        "Memeriksa merk mobil pada dataframe"
      ],
      "metadata": {
        "id": "PwroRcG9oLkl"
      }
    },
    {
      "cell_type": "code",
      "source": [
        "carbon['Make'].unique()"
      ],
      "metadata": {
        "id": "nCLFU9QlHqLY",
        "colab": {
          "base_uri": "https://localhost:8080/"
        },
        "outputId": "ae753361-ae84-4251-e29b-acbb4939e293"
      },
      "execution_count": 123,
      "outputs": [
        {
          "output_type": "execute_result",
          "data": {
            "text/plain": [
              "array(['ACURA', 'ALFA ROMEO', 'ASTON MARTIN', 'AUDI', 'BENTLEY', 'BMW',\n",
              "       'BUICK', 'CADILLAC', 'CHEVROLET', 'CHRYSLER', 'DODGE', 'FIAT',\n",
              "       'FORD', 'GMC', 'HONDA', 'HYUNDAI', 'INFINITI', 'JAGUAR', 'JEEP',\n",
              "       'KIA', 'LAMBORGHINI', 'LAND ROVER', 'LEXUS', 'LINCOLN', 'MASERATI',\n",
              "       'MAZDA', 'MERCEDES-BENZ', 'MINI', 'MITSUBISHI', 'NISSAN',\n",
              "       'PORSCHE', 'RAM', 'ROLLS-ROYCE', 'SCION', 'SMART', 'SRT', 'SUBARU',\n",
              "       'TOYOTA', 'VOLKSWAGEN', 'VOLVO', 'GENESIS', 'BUGATTI'],\n",
              "      dtype=object)"
            ]
          },
          "metadata": {},
          "execution_count": 123
        }
      ]
    },
    {
      "cell_type": "markdown",
      "source": [
        "Memeriksa kelas kendaraan pada dataframe"
      ],
      "metadata": {
        "id": "7M12CYAJoV52"
      }
    },
    {
      "cell_type": "code",
      "source": [
        "carbon['Vehicle Class'].unique()"
      ],
      "metadata": {
        "id": "pmVGRTfNIldn",
        "colab": {
          "base_uri": "https://localhost:8080/"
        },
        "outputId": "b2c68463-0047-4856-c226-25e0e616843b"
      },
      "execution_count": 124,
      "outputs": [
        {
          "output_type": "execute_result",
          "data": {
            "text/plain": [
              "array(['COMPACT', 'SUV - SMALL', 'MID-SIZE', 'TWO-SEATER', 'MINICOMPACT',\n",
              "       'SUBCOMPACT', 'FULL-SIZE', 'STATION WAGON - SMALL',\n",
              "       'SUV - STANDARD', 'VAN - CARGO', 'VAN - PASSENGER',\n",
              "       'PICKUP TRUCK - STANDARD', 'MINIVAN', 'SPECIAL PURPOSE VEHICLE',\n",
              "       'STATION WAGON - MID-SIZE', 'PICKUP TRUCK - SMALL'], dtype=object)"
            ]
          },
          "metadata": {},
          "execution_count": 124
        }
      ]
    },
    {
      "cell_type": "markdown",
      "source": [
        "Memeriksa silinder mesin kendaraan pada dataframe"
      ],
      "metadata": {
        "id": "hC6VDNVcocGO"
      }
    },
    {
      "cell_type": "code",
      "source": [
        "carbon['Cylinders'].unique()"
      ],
      "metadata": {
        "id": "IFleoTp-LyKz",
        "colab": {
          "base_uri": "https://localhost:8080/"
        },
        "outputId": "268063b3-bf28-4cf2-f5c4-b0d9f96e3b1f"
      },
      "execution_count": 125,
      "outputs": [
        {
          "output_type": "execute_result",
          "data": {
            "text/plain": [
              "array([ 4,  6, 12,  8, 10,  3,  5, 16])"
            ]
          },
          "metadata": {},
          "execution_count": 125
        }
      ]
    },
    {
      "cell_type": "markdown",
      "source": [
        "Memeriksa transmisi kendaraan pada dataframe"
      ],
      "metadata": {
        "id": "MffKMvTeohHv"
      }
    },
    {
      "cell_type": "code",
      "source": [
        "carbon['Transmission'].unique()"
      ],
      "metadata": {
        "id": "GaqSkEpeObUw",
        "colab": {
          "base_uri": "https://localhost:8080/"
        },
        "outputId": "f44011ad-9c73-46df-9b72-9007f23fb2ce"
      },
      "execution_count": 126,
      "outputs": [
        {
          "output_type": "execute_result",
          "data": {
            "text/plain": [
              "array(['AS5', 'M6', 'AV7', 'AS6', 'AM6', 'A6', 'AM7', 'AV8', 'AS8', 'A7',\n",
              "       'A8', 'M7', 'A4', 'M5', 'AV', 'A5', 'AS7', 'A9', 'AS9', 'AV6',\n",
              "       'AS4', 'AM5', 'AM8', 'AM9', 'AS10', 'A10', 'AV10'], dtype=object)"
            ]
          },
          "metadata": {},
          "execution_count": 126
        }
      ]
    },
    {
      "cell_type": "markdown",
      "source": [
        "**Transmission Type**\n",
        "\n",
        "*   A  : Automatic\n",
        "*   AM : Automated Manual\n",
        "*   AS : Automatic with select shift\n",
        "*   AV : Continuously Variable\n",
        "*   M  : Manual, number of gears/speeds (1-10)\n",
        "\n",
        "\n",
        "\n"
      ],
      "metadata": {
        "id": "IFPIUoUvoc9R"
      }
    },
    {
      "cell_type": "code",
      "source": [
        "carbon['Fuel Type'].unique()"
      ],
      "metadata": {
        "colab": {
          "base_uri": "https://localhost:8080/"
        },
        "id": "-V_a6zEYosYL",
        "outputId": "37c5d8a5-0c31-4128-a6dd-60741e908b4a"
      },
      "execution_count": 127,
      "outputs": [
        {
          "output_type": "execute_result",
          "data": {
            "text/plain": [
              "array(['Z', 'D', 'X', 'E', 'N'], dtype=object)"
            ]
          },
          "metadata": {},
          "execution_count": 127
        }
      ]
    },
    {
      "cell_type": "markdown",
      "source": [
        "**Tipe konsumsi bahan bakar**\n",
        "\n",
        "*   X = Regular gasoline\n",
        "*   Z = Premium gasoline\n",
        "*   E = E85 (Ethanol)\n",
        "*   D = Diesel\n",
        "*   N = Natural gas\n",
        "\n",
        "\n",
        "\n"
      ],
      "metadata": {
        "id": "Ai8tlfqZozXV"
      }
    },
    {
      "cell_type": "code",
      "source": [
        "carbon['Fuel Type'].value_counts()"
      ],
      "metadata": {
        "colab": {
          "base_uri": "https://localhost:8080/"
        },
        "id": "WwYJOdJ64orx",
        "outputId": "09726ad5-9bf3-4419-b8eb-2a046d0aefb9"
      },
      "execution_count": 128,
      "outputs": [
        {
          "output_type": "execute_result",
          "data": {
            "text/plain": [
              "X    3637\n",
              "Z    3202\n",
              "E     370\n",
              "D     175\n",
              "N       1\n",
              "Name: Fuel Type, dtype: int64"
            ]
          },
          "metadata": {},
          "execution_count": 128
        }
      ]
    },
    {
      "cell_type": "markdown",
      "source": [
        "###DATA CLEANING"
      ],
      "metadata": {
        "id": "QPsgPafpn48m"
      }
    },
    {
      "cell_type": "markdown",
      "source": [
        "**Tidak ada missing value**"
      ],
      "metadata": {
        "id": "mj9mU5J5n8Fu"
      }
    },
    {
      "cell_type": "markdown",
      "source": [
        "###DATA EXPLORATION"
      ],
      "metadata": {
        "id": "tyxwOL_zoIFm"
      }
    },
    {
      "cell_type": "markdown",
      "source": [
        "**POIN 1 Bagaimana distribusi emisi gas karbon berdasarkan kelas kendaraannya?**"
      ],
      "metadata": {
        "id": "3KArY9jlH-cs"
      }
    },
    {
      "cell_type": "markdown",
      "source": [
        "Pada sesi ini kita ingin mengetahui distribusi emisi gas karbon yang dihasilkan dari kendaraan berdasarkan kelas kendaraan"
      ],
      "metadata": {
        "id": "xm19yVljpumH"
      }
    },
    {
      "cell_type": "code",
      "source": [
        "carbon_dist = carbon.groupby(carbon['Vehicle Class']).count()['CO2 Emissions(g/km)'].sort_values(ascending = False)\n",
        "carbon_dist"
      ],
      "metadata": {
        "id": "okCPc9jTGn5c"
      },
      "execution_count": null,
      "outputs": []
    },
    {
      "cell_type": "code",
      "source": [
        "carbon_dist.plot(kind='bar', xlabel = 'Vehicle Class', ylabel = 'CO2 Emissions(g/km)', title = 'Distribusi emisi gas karbon berdasarkan merk', color = 'orange')"
      ],
      "metadata": {
        "id": "bbOcNNwwIkk1"
      },
      "execution_count": null,
      "outputs": []
    },
    {
      "cell_type": "markdown",
      "source": [
        "Data yang didapat kelas kendaraan SUV - SMALL menghasilkan emisi gas karbon terbesar sebanyak 1217 (g/km)"
      ],
      "metadata": {
        "id": "zvXALO_CqYuD"
      }
    },
    {
      "cell_type": "markdown",
      "source": [
        "**POIN 2 Berapa rata-rata konsumsi tertinggi penggunaan bahan bakar pada jalanan kota berdasarkan kelas kendaraan?**"
      ],
      "metadata": {
        "id": "O6kvy08NZClJ"
      }
    },
    {
      "cell_type": "markdown",
      "source": [
        "Pada sesi ini kita ingin mengetahui rata-rata tertinggi konsumsi penggunaan bahan bakar pada jalanan kota berdasarkan kelas kendaraan"
      ],
      "metadata": {
        "id": "VOgsPpgbq1Lh"
      }
    },
    {
      "cell_type": "code",
      "source": [
        "vehicle_class_mean_fuel_jalankota = carbon.groupby(['Vehicle Class'])[['Fuel Consumption City (L/100 km)']].mean()\n",
        "vehicle_class_mean_fuel_jalankota"
      ],
      "metadata": {
        "id": "YH7KxtT0KiHc"
      },
      "execution_count": null,
      "outputs": []
    },
    {
      "cell_type": "code",
      "source": [
        "sns.barplot(data=carbon, x='Fuel Consumption City (L/100 km)', y='Vehicle Class')"
      ],
      "metadata": {
        "id": "-g41ynbqndmL"
      },
      "execution_count": null,
      "outputs": []
    },
    {
      "cell_type": "markdown",
      "source": [
        "Data yang didapat dari konsumsi bahan bakar tertinggi penggunaan pada jalanan kota yaitu kelas kendaraan VAN - PASSENGER sebanyak 21.998485 (L/100 Km)"
      ],
      "metadata": {
        "id": "O3zt0cW9sYlm"
      }
    },
    {
      "cell_type": "markdown",
      "source": [
        "**POIN 3 Berapa rata-rata tertinggi konsumsi penggunaan bahan bakar pada jalan tol berdasarkan jenis kendaraan?**"
      ],
      "metadata": {
        "id": "6k2zHwWMNA32"
      }
    },
    {
      "cell_type": "markdown",
      "source": [
        "Pada sesi ini kita ingin mengetahui rata-rata tertinggi konsumsi penggunaan bahan bakar pada jalan tol berdasarkan kelas kendaraan"
      ],
      "metadata": {
        "id": "FVHPGEvHsN6G"
      }
    },
    {
      "cell_type": "code",
      "source": [
        "vehicle_class_mean_fuel_jalantol = carbon.groupby(['Vehicle Class'])[['Fuel Consumption Hwy (L/100 km)']].mean()\n",
        "vehicle_class_mean_fuel_jalantol"
      ],
      "metadata": {
        "id": "kjHCDZrEnd4M"
      },
      "execution_count": null,
      "outputs": []
    },
    {
      "cell_type": "code",
      "source": [
        "sns.barplot(data=carbon, x='Fuel Consumption Hwy (L/100 km)', y='Vehicle Class')"
      ],
      "metadata": {
        "id": "W2wBO9KnneGs"
      },
      "execution_count": null,
      "outputs": []
    },
    {
      "cell_type": "markdown",
      "source": [
        "Data yang didapat dari konsumsi bahan bakar tertinggi penggunaan pada jalan tol yaitu kelas kendaraan VAN - CARGO sebanyak 16.059091 (L/100 Km)"
      ],
      "metadata": {
        "id": "i1BMlm6nvIJd"
      }
    },
    {
      "cell_type": "markdown",
      "source": [
        "**POIN 4 Berapa rata-rata tertinggi konsumsi penggunaan bahan bakar yang dikombinasi berdasarkan jenis kendaraan?**"
      ],
      "metadata": {
        "id": "Yetu9r4oNG9e"
      }
    },
    {
      "cell_type": "markdown",
      "source": [
        "Pada sesi ini kita ingin mengetahui rata-rata tertinggi konsumsi penggunaan bahan bakar pada jalanan yang dikombinasi berdasarkan kelas kendaraan"
      ],
      "metadata": {
        "id": "h9F_J4RQsRoP"
      }
    },
    {
      "cell_type": "code",
      "source": [
        "vehicle_class_mean_fuel_kombinasi = carbon.groupby(['Vehicle Class'])[['Fuel Consumption Comb (L/100 km)']].mean()\n",
        "vehicle_class_mean_fuel_kombinasi"
      ],
      "metadata": {
        "id": "UPEoYGQwnerj"
      },
      "execution_count": null,
      "outputs": []
    },
    {
      "cell_type": "code",
      "source": [
        "sns.barplot(data=carbon, x='Fuel Consumption Comb (L/100 km)', y='Vehicle Class')"
      ],
      "metadata": {
        "id": "kS4LTWrmn_Hr"
      },
      "execution_count": null,
      "outputs": []
    },
    {
      "cell_type": "markdown",
      "source": [
        "Data yang didapat dari konsumsi bahan bakar tertinggi penggunaan pada jalan tol dan jalanan kota yaitu kelas kendaraan VAN - PASSENGER sebanyak 19.192424 (L/100 Km)"
      ],
      "metadata": {
        "id": "lFU0MZ06w66f"
      }
    },
    {
      "cell_type": "markdown",
      "source": [
        "**POIN 5 Berapa rata-rata emisi gas karbon yang dihasilkan berdasarkan jenis bahan bakar?**"
      ],
      "metadata": {
        "id": "nTbxsoeONQcF"
      }
    },
    {
      "cell_type": "markdown",
      "source": [
        "Pada sesi ini kita ingin mengetahui rata-rata tertinggi emisi gas karbon berdasarkan tipe bahan bakar"
      ],
      "metadata": {
        "id": "aof8fN9Xx3bp"
      }
    },
    {
      "cell_type": "code",
      "source": [
        "fuel = carbon.groupby(['Fuel Type'])[['CO2 Emissions(g/km)']].mean()\n",
        "fuel"
      ],
      "metadata": {
        "id": "yyTCYjEuqMW2"
      },
      "execution_count": null,
      "outputs": []
    },
    {
      "cell_type": "code",
      "source": [
        "sns.barplot(data=carbon, x='Fuel Type', y='CO2 Emissions(g/km)')"
      ],
      "metadata": {
        "id": "e0ySHiOPuThl"
      },
      "execution_count": null,
      "outputs": []
    },
    {
      "cell_type": "markdown",
      "source": [
        "Data yang didapat dari rata-rata tertinggi emisi gas karbon berdasarkan tipe bahan bakar yaitu tipe bahan bakar E = E85 (Ethanol) sebanyak 275.091892 (g/km)"
      ],
      "metadata": {
        "id": "2Z3hpFOVz0_4"
      }
    },
    {
      "cell_type": "markdown",
      "source": [
        "**CENTRAL TENDENCY**"
      ],
      "metadata": {
        "id": "kV77e0vE8BLj"
      }
    },
    {
      "cell_type": "markdown",
      "source": [
        "**POIN 6 Berdasarkan merk dengan jumlah emisi gas karbon tertinggi, bagaimana distribusi nilainya?**"
      ],
      "metadata": {
        "id": "kjYlDkTkRW_G"
      }
    },
    {
      "cell_type": "code",
      "source": [
        "carbon_desc = carbon[(carbon['Vehicle Class']=='SUV - SMALL')].sort_values('CO2 Emissions(g/km)', ascending = False)\n",
        "carbon_desc"
      ],
      "metadata": {
        "id": "gQOitHVJ_zyU"
      },
      "execution_count": null,
      "outputs": []
    },
    {
      "cell_type": "code",
      "source": [
        "print('Mean :', carbon_desc['CO2 Emissions(g/km)'].mean())\n",
        "print('Median :', carbon_desc['CO2 Emissions(g/km)'].median())\n",
        "print('Mode :', carbon_desc['CO2 Emissions(g/km)'].mode()[0])\n",
        "print('Minimum :', carbon_desc['CO2 Emissions(g/km)'].min())\n",
        "print('Max :', carbon_desc['CO2 Emissions(g/km)'].max())\n",
        "print('Standard Deviation :', carbon_desc['CO2 Emissions(g/km)'].std())"
      ],
      "metadata": {
        "id": "3Yd3Avg-J1fv"
      },
      "execution_count": null,
      "outputs": []
    },
    {
      "cell_type": "markdown",
      "source": [
        "Pengecekan data normal atau skew"
      ],
      "metadata": {
        "id": "oaJADoWk95Wi"
      }
    },
    {
      "cell_type": "code",
      "source": [
        "carbon_desc['CO2 Emissions(g/km)'].skew()"
      ],
      "metadata": {
        "colab": {
          "base_uri": "https://localhost:8080/"
        },
        "id": "Yw9v4leJKS-a",
        "outputId": "d2352d4a-e279-437a-a080-0919ed82b028"
      },
      "execution_count": 141,
      "outputs": [
        {
          "output_type": "execute_result",
          "data": {
            "text/plain": [
              "0.34462963929570023"
            ]
          },
          "metadata": {},
          "execution_count": 141
        }
      ]
    },
    {
      "cell_type": "markdown",
      "source": [
        "Hasil didapat data ini adalah normal karena, masi didalam range -0,5 - 0,5  artinya data normal"
      ],
      "metadata": {
        "id": "GkDokUDe-RD7"
      }
    },
    {
      "cell_type": "markdown",
      "source": [
        "**POIN 7 Bagaimana emisi gas karbon merk tertentu dibandingkan dengan emisi gas karbon keseluruhan merk?**"
      ],
      "metadata": {
        "id": "g21rEwvySAj3"
      }
    },
    {
      "cell_type": "markdown",
      "source": [
        "Dari analisis kami sebelumnya dalam distribusi kelas kendaraan SUV - SMALL, di bagian ini kami ingin mengetahui bagaimana emisi gas karbon rata-rata kelas kendaraan ini dibandingkan dengan emisi gas karbon rata-rata keseluruhan dalam dataframe. Untuk itu kita harus melakukan pengujian hipotesis dengan menggunakan 2 tailed 2 sample."
      ],
      "metadata": {
        "id": "drpF8Iq30csB"
      }
    },
    {
      "cell_type": "markdown",
      "source": [
        "Sehingga seperti yang dapat kita lihat di bawah ini kita menggunakan t-test 2 sample 2 tailed dengan deklarasi sebagai berikut :\n",
        "\n",
        "- H0 : &mu; SUV - SMALL Vehicle Class = &mu; Whole Vehicle Class\n",
        "\n",
        "- H1 : &mu; SUV - SMALL Vehicle Class != &mu; Whole Vehicle Class"
      ],
      "metadata": {
        "id": "4GX0uioK05fv"
      }
    },
    {
      "cell_type": "code",
      "source": [
        "t_stat, p_val = stats.ttest_ind(carbon_desc['CO2 Emissions(g/km)'], carbon['CO2 Emissions(g/km)'])\n",
        "print('P-value:',p_val) \n",
        "print('t-statistics:',t_stat)"
      ],
      "metadata": {
        "colab": {
          "base_uri": "https://localhost:8080/"
        },
        "id": "fvZOKLgwKiwu",
        "outputId": "535e9bbc-4458-41fa-9e2c-12ac0c51dae0"
      },
      "execution_count": 142,
      "outputs": [
        {
          "output_type": "stream",
          "name": "stdout",
          "text": [
            "P-value: 9.510449442343919e-17\n",
            "t-statistics: -8.3277004405511\n"
          ]
        }
      ]
    },
    {
      "cell_type": "code",
      "source": [
        "# simulation using random generated numbers\n",
        "carbon_desc_pop = np.random.normal(carbon_desc['CO2 Emissions(g/km)'].mean(),carbon_desc['CO2 Emissions(g/km)'].std(),10000)\n",
        "carbon_pop = np.random.normal(carbon['CO2 Emissions(g/km)'].mean(),carbon['CO2 Emissions(g/km)'].std(),10000)\n",
        "\n",
        "# confidence interval based on SUV - SMALL\n",
        "# used cv = 0.05 since 2 tailed, we use 0.95 as it is. \n",
        "ci = stats.norm.interval(0.95, carbon_desc['CO2 Emissions(g/km)'].mean(), carbon_desc['CO2 Emissions(g/km)'].std())\n",
        "\n",
        "plt.figure(figsize=(15,4))\n",
        "sns.histplot(carbon_desc_pop, label='SUV - SMALL Stats *Pop',color='purple')\n",
        "sns.histplot(carbon_pop, label='Whole Vehicle Class Stats *Pop',color='teal')\n",
        "\n",
        "# mean\n",
        "plt.axvline(carbon_desc['CO2 Emissions(g/km)'].mean(), color='red', linewidth=2, label='SUM - SMALL Vehicle Class mean')\n",
        "plt.axvline(carbon['CO2 Emissions(g/km)'].mean(), color='yellow',  linewidth=2, label='Whole Vehicle Class mean')\n",
        "\n",
        "plt.axvline(ci[1], color='green', linestyle='dashed', linewidth=2, label='confidence threshold of 95%')\n",
        "plt.axvline(ci[0], color='green', linestyle='dashed', linewidth=2, label='confidence threshold of 95%')\n",
        "\n",
        "# alternative hypotesis\n",
        "plt.axvline(carbon_desc_pop.mean()+t_stat*carbon_desc_pop.std(), color='black', linestyle='dashed', linewidth=2, label = 'Alternative Hypothesis')\n",
        "plt.axvline(carbon_desc_pop.mean()-t_stat*carbon_desc_pop.std(), color='black', linestyle='dashed', linewidth=2)\n",
        "\n",
        "plt.legend()"
      ],
      "metadata": {
        "colab": {
          "base_uri": "https://localhost:8080/",
          "height": 282
        },
        "id": "kQjF2uZwSRMT",
        "outputId": "47637387-5010-4e67-e097-322b94ef1033"
      },
      "execution_count": 145,
      "outputs": [
        {
          "output_type": "execute_result",
          "data": {
            "text/plain": [
              "<matplotlib.legend.Legend at 0x7ffaa3d20b50>"
            ]
          },
          "metadata": {},
          "execution_count": 145
        },
        {
          "output_type": "display_data",
          "data": {
            "text/plain": [
              "<Figure size 1080x288 with 1 Axes>"
            ],
            "image/png": "[encoded data removed]"
          },
          "metadata": {
            "needs_background": "light"
          }
        }
      ]
    },
    {
      "cell_type": "markdown",
      "source": [
        "Dari hasil uji T dapat disimpulkan pada data yang diberikan bahwa hasil hipotesisnya adalah menolak H0 yang berarti bahwa emisi gas karbon rata-rata  `SUM - SMALL` tidak sama dengan `seluruh emisi gas karbon kelas kendaraan`, atau dalam bahasa lain ada <mark>Perbedaan Signifikan</mark> antara emisi gas karbon rata-rata `SUV - SMALL` dan emisi gas karbon rata-rata `seluruh emisi gas karbon kelas kendaraan`."
      ],
      "metadata": {
        "id": "cgablG4_387k"
      }
    },
    {
      "cell_type": "markdown",
      "source": [
        "###KESIMPULAN"
      ],
      "metadata": {
        "id": "ZpByQ-sR3dNW"
      }
    },
    {
      "cell_type": "markdown",
      "source": [
        "*   Data yang didapat kelas kendaraan SUV - SMALL menghasilkan emisi gas karbon terbesar sebanyak 1217 (g/km)\n",
        "*   Data yang didapat dari konsumsi bahan bakar tertinggi penggunaan pada jalanan kota yaitu kelas kendaraan VAN - PASSENGER sebanyak 21.998485 (L/100 Km)\n",
        "*   Data yang didapat dari konsumsi bahan bakar tertinggi penggunaan pada jalan tol yaitu kelas kendaraan VAN - CARGO sebanyak 16.059091 (L/100 Km)\n",
        "*   Data yang didapat dari konsumsi bahan bakar tertinggi penggunaan pada jalan tol dan jalanan kota yaitu kelas kendaraan VAN - PASSENGER sebanyak 19.192424 (L/100 Km)\n",
        "*   Data yang didapat dari rata-rata tertinggi emisi gas karbon berdasarkan tipe bahan bakar yaitu tipe bahan bakar E = E85 (Ethanol) sebanyak 275.091892 (g/km)\n",
        "*   Hasil didapat data ini adalah normal karena, masi didalam range -0,5 - 0,5 artinya data normal\n",
        "*   Dari hasil uji T dapat disimpulkan pada data yang diberikan bahwa hasil hipotesisnya adalah menolak H0 yang berarti bahwa emisi gas karbon rata-rata  `SUM - SMALL` tidak sama dengan `seluruh emisi gas karbon kelas kendaraan`, atau dalam bahasa lain ada <mark>Perbedaan Signifikan</mark> antara emisi gas karbon rata-rata `SUV - SMALL` dan emisi gas karbon rata-rata `seluruh emisi gas karbon kelas kendaraan`.\n",
        "\n",
        "\n",
        "\n",
        "\n",
        "\n"
      ],
      "metadata": {
        "id": "dLXN6dxY3hQc"
      }
    }
  ]
}